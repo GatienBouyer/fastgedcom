{
 "cells": [
  {
   "attachments": {},
   "cell_type": "markdown",
   "metadata": {},
   "source": [
    "# Analyse a gedcom file\n",
    "## 1. Install"
   ]
  },
  {
   "cell_type": "code",
   "execution_count": 394,
   "metadata": {},
   "outputs": [
    {
     "name": "stdout",
     "output_type": "stream",
     "text": [
      "fastgedcom                    0.0.4\n",
      "numpy                         1.24.3\n",
      "pandas                        2.0.1\n",
      "pandas-gbq                    0.19.2\n",
      "plotly                        5.14.1\n",
      "treelib                       1.6.4\n",
      "Note: you may need to restart the kernel to use updated packages.\n"
     ]
    }
   ],
   "source": [
    "# %pip install -U fastgedcom\n",
    "# %pip install -U pandas\n",
    "# %pip install -U plotly\n",
    "# %pip install -U numpy\n",
    "# %pip install -U treelib\n",
    "%pip list | grep \"fastgedcom\\|pandas\\|plotly\\|numpy\\|treelib\""
   ]
  },
  {
   "attachments": {},
   "cell_type": "markdown",
   "metadata": {},
   "source": [
    "## 2. Import Python functions"
   ]
  },
  {
   "cell_type": "code",
   "execution_count": 395,
   "metadata": {},
   "outputs": [],
   "source": [
    "from datetime import datetime\n",
    "\n",
    "from fastgedcom.family_aid import FamilyAid\n",
    "from fastgedcom.base import FakeLine, TrueLine, is_true\n",
    "from fastgedcom.parser import guess_encoding, parse\n",
    "from plotly.express import bar, sunburst, violin\n",
    "from plotly.graph_objects import Figure, Violin\n",
    "from pandas import DataFrame, to_datetime\n",
    "import plotly.io as pio\n",
    "from numpy import timedelta64, nan\n"
   ]
  },
  {
   "attachments": {},
   "cell_type": "markdown",
   "metadata": {},
   "source": [
    "## 3. Input Gedcom file"
   ]
  },
  {
   "cell_type": "code",
   "execution_count": 396,
   "metadata": {},
   "outputs": [],
   "source": [
    "GEDCOM_FILE = \"/Users/vv/Downloads/VESSELINOV Family Tree-11.ged\""
   ]
  },
  {
   "attachments": {},
   "cell_type": "markdown",
   "metadata": {},
   "source": [
    "## 4. Load raw Gedcom file as a Dataframe"
   ]
  },
  {
   "cell_type": "code",
   "execution_count": 397,
   "metadata": {},
   "outputs": [
    {
     "data": {
      "text/html": [
       "<div>\n",
       "<style scoped>\n",
       "    .dataframe tbody tr th:only-of-type {\n",
       "        vertical-align: middle;\n",
       "    }\n",
       "\n",
       "    .dataframe tbody tr th {\n",
       "        vertical-align: top;\n",
       "    }\n",
       "\n",
       "    .dataframe thead th {\n",
       "        text-align: right;\n",
       "    }\n",
       "</style>\n",
       "<table border=\"1\" class=\"dataframe\">\n",
       "  <thead>\n",
       "    <tr style=\"text-align: right;\">\n",
       "      <th></th>\n",
       "      <th>FirstName</th>\n",
       "      <th>FamilyName</th>\n",
       "      <th>BirthDate</th>\n",
       "      <th>BirthPlace</th>\n",
       "      <th>DeathDate</th>\n",
       "      <th>DeathPlace</th>\n",
       "      <th>Dead</th>\n",
       "      <th>Gender</th>\n",
       "      <th>FamilyID</th>\n",
       "      <th>ParentFamilyID</th>\n",
       "    </tr>\n",
       "    <tr>\n",
       "      <th>PersonID</th>\n",
       "      <th></th>\n",
       "      <th></th>\n",
       "      <th></th>\n",
       "      <th></th>\n",
       "      <th></th>\n",
       "      <th></th>\n",
       "      <th></th>\n",
       "      <th></th>\n",
       "      <th></th>\n",
       "      <th></th>\n",
       "    </tr>\n",
       "  </thead>\n",
       "  <tbody>\n",
       "    <tr>\n",
       "      <th>I432449656974</th>\n",
       "      <td>Velizar</td>\n",
       "      <td>VESSELINOV</td>\n",
       "      <td>8 Nov 1975</td>\n",
       "      <td>Sofia, Sofia City, Bulgaria</td>\n",
       "      <td></td>\n",
       "      <td></td>\n",
       "      <td>False</td>\n",
       "      <td>M</td>\n",
       "      <td>F14</td>\n",
       "      <td>F56</td>\n",
       "    </tr>\n",
       "    <tr>\n",
       "      <th>I432449657093</th>\n",
       "      <td>Margarita Vladimirova</td>\n",
       "      <td>MATOVA</td>\n",
       "      <td>30 Apr 1938</td>\n",
       "      <td>Svishtov, Veliko Turnovo, Bulgaria</td>\n",
       "      <td></td>\n",
       "      <td></td>\n",
       "      <td>False</td>\n",
       "      <td>F</td>\n",
       "      <td>F63</td>\n",
       "      <td>F14</td>\n",
       "    </tr>\n",
       "    <tr>\n",
       "      <th>I432449657204</th>\n",
       "      <td>Valentin</td>\n",
       "      <td>VESSELINOV</td>\n",
       "      <td>25 Sep 1938</td>\n",
       "      <td>Vratsa, Vratsa, Bulgaria</td>\n",
       "      <td>2017</td>\n",
       "      <td>Sofia, Sofia City, Bulgaria</td>\n",
       "      <td>True</td>\n",
       "      <td>M</td>\n",
       "      <td>F51</td>\n",
       "      <td>F14</td>\n",
       "    </tr>\n",
       "    <tr>\n",
       "      <th>I432449657296</th>\n",
       "      <td>Zoyka</td>\n",
       "      <td>MIHAILOVA</td>\n",
       "      <td>24 Feb 1906</td>\n",
       "      <td>Ruse, Ruse, Bulgaria</td>\n",
       "      <td>21 Sep 1993</td>\n",
       "      <td>Sofia, Sofia City, Bulgaria</td>\n",
       "      <td>True</td>\n",
       "      <td>F</td>\n",
       "      <td>F27</td>\n",
       "      <td>F63</td>\n",
       "    </tr>\n",
       "    <tr>\n",
       "      <th>I432449657316</th>\n",
       "      <td>Velimir (Vladimir-Vlado)</td>\n",
       "      <td>MATOV</td>\n",
       "      <td>8 Apr 1897</td>\n",
       "      <td>Babitsa, Pernik, Bulgaria</td>\n",
       "      <td>4 Jul 1963</td>\n",
       "      <td>Sofia, Sofia City, Bulgaria</td>\n",
       "      <td>True</td>\n",
       "      <td>M</td>\n",
       "      <td>F7</td>\n",
       "      <td>F63</td>\n",
       "    </tr>\n",
       "    <tr>\n",
       "      <th>...</th>\n",
       "      <td>...</td>\n",
       "      <td>...</td>\n",
       "      <td>...</td>\n",
       "      <td>...</td>\n",
       "      <td>...</td>\n",
       "      <td>...</td>\n",
       "      <td>...</td>\n",
       "      <td>...</td>\n",
       "      <td>...</td>\n",
       "      <td>...</td>\n",
       "    </tr>\n",
       "    <tr>\n",
       "      <th>I432487335185</th>\n",
       "      <td>Iliana</td>\n",
       "      <td>STOYANOVA</td>\n",
       "      <td>22 Jul 1958</td>\n",
       "      <td>Sofia, Sofia City, Bulgaria</td>\n",
       "      <td></td>\n",
       "      <td></td>\n",
       "      <td>False</td>\n",
       "      <td>F</td>\n",
       "      <td>NaN</td>\n",
       "      <td>F29</td>\n",
       "    </tr>\n",
       "    <tr>\n",
       "      <th>I432487340580</th>\n",
       "      <td>Borislav</td>\n",
       "      <td>BATEMBERGSKI</td>\n",
       "      <td></td>\n",
       "      <td>Sofia, Sofia City, Bulgaria</td>\n",
       "      <td></td>\n",
       "      <td></td>\n",
       "      <td>False</td>\n",
       "      <td>M</td>\n",
       "      <td>F80</td>\n",
       "      <td>NaN</td>\n",
       "    </tr>\n",
       "    <tr>\n",
       "      <th>I432487524615</th>\n",
       "      <td>Adam</td>\n",
       "      <td>MATOV</td>\n",
       "      <td></td>\n",
       "      <td></td>\n",
       "      <td></td>\n",
       "      <td></td>\n",
       "      <td>False</td>\n",
       "      <td>M</td>\n",
       "      <td>NaN</td>\n",
       "      <td>F108</td>\n",
       "    </tr>\n",
       "    <tr>\n",
       "      <th>I432487656907</th>\n",
       "      <td>Ivan</td>\n",
       "      <td>MATOV</td>\n",
       "      <td>1890</td>\n",
       "      <td>Babitsa, Pernik, Bulgaria</td>\n",
       "      <td></td>\n",
       "      <td>Sofia, Sofia City, Bulgaria</td>\n",
       "      <td>True</td>\n",
       "      <td>M</td>\n",
       "      <td>F7</td>\n",
       "      <td>NaN</td>\n",
       "    </tr>\n",
       "    <tr>\n",
       "      <th>I432491469571</th>\n",
       "      <td>Rumiana</td>\n",
       "      <td></td>\n",
       "      <td></td>\n",
       "      <td>Sofia, Sofia City, Bulgaria</td>\n",
       "      <td></td>\n",
       "      <td>Santa Fe, New Mexico, USA</td>\n",
       "      <td>True</td>\n",
       "      <td>F</td>\n",
       "      <td>NaN</td>\n",
       "      <td>F36</td>\n",
       "    </tr>\n",
       "  </tbody>\n",
       "</table>\n",
       "<p>299 rows × 10 columns</p>\n",
       "</div>"
      ],
      "text/plain": [
       "                              FirstName    FamilyName    BirthDate   \n",
       "PersonID                                                             \n",
       "I432449656974                   Velizar    VESSELINOV   8 Nov 1975  \\\n",
       "I432449657093     Margarita Vladimirova        MATOVA  30 Apr 1938   \n",
       "I432449657204                  Valentin    VESSELINOV  25 Sep 1938   \n",
       "I432449657296                     Zoyka     MIHAILOVA  24 Feb 1906   \n",
       "I432449657316  Velimir (Vladimir-Vlado)         MATOV   8 Apr 1897   \n",
       "...                                 ...           ...          ...   \n",
       "I432487335185                    Iliana     STOYANOVA  22 Jul 1958   \n",
       "I432487340580                  Borislav  BATEMBERGSKI                \n",
       "I432487524615                      Adam         MATOV                \n",
       "I432487656907                      Ivan         MATOV         1890   \n",
       "I432491469571                   Rumiana                              \n",
       "\n",
       "                                       BirthPlace    DeathDate   \n",
       "PersonID                                                         \n",
       "I432449656974         Sofia, Sofia City, Bulgaria               \\\n",
       "I432449657093  Svishtov, Veliko Turnovo, Bulgaria                \n",
       "I432449657204            Vratsa, Vratsa, Bulgaria         2017   \n",
       "I432449657296                Ruse, Ruse, Bulgaria  21 Sep 1993   \n",
       "I432449657316           Babitsa, Pernik, Bulgaria   4 Jul 1963   \n",
       "...                                           ...          ...   \n",
       "I432487335185         Sofia, Sofia City, Bulgaria                \n",
       "I432487340580         Sofia, Sofia City, Bulgaria                \n",
       "I432487524615                                                    \n",
       "I432487656907           Babitsa, Pernik, Bulgaria                \n",
       "I432491469571         Sofia, Sofia City, Bulgaria                \n",
       "\n",
       "                                DeathPlace   Dead Gender FamilyID   \n",
       "PersonID                                                            \n",
       "I432449656974                               False      M      F14  \\\n",
       "I432449657093                               False      F      F63   \n",
       "I432449657204  Sofia, Sofia City, Bulgaria   True      M      F51   \n",
       "I432449657296  Sofia, Sofia City, Bulgaria   True      F      F27   \n",
       "I432449657316  Sofia, Sofia City, Bulgaria   True      M       F7   \n",
       "...                                    ...    ...    ...      ...   \n",
       "I432487335185                               False      F      NaN   \n",
       "I432487340580                               False      M      F80   \n",
       "I432487524615                               False      M      NaN   \n",
       "I432487656907  Sofia, Sofia City, Bulgaria   True      M       F7   \n",
       "I432491469571    Santa Fe, New Mexico, USA   True      F      NaN   \n",
       "\n",
       "              ParentFamilyID  \n",
       "PersonID                      \n",
       "I432449656974            F56  \n",
       "I432449657093            F14  \n",
       "I432449657204            F14  \n",
       "I432449657296            F63  \n",
       "I432449657316            F63  \n",
       "...                      ...  \n",
       "I432487335185            F29  \n",
       "I432487340580            NaN  \n",
       "I432487524615           F108  \n",
       "I432487656907            NaN  \n",
       "I432491469571            F36  \n",
       "\n",
       "[299 rows x 10 columns]"
      ]
     },
     "execution_count": 397,
     "metadata": {},
     "output_type": "execute_result"
    }
   ],
   "source": [
    "pio.templates.default = \"plotly_dark\"\n",
    "\n",
    "with open(GEDCOM_FILE, \"r\", encoding=guess_encoding(GEDCOM_FILE)) as f:\n",
    "    document, warnings = parse(f)\n",
    "\n",
    "if warnings:\n",
    "    print(\"Warnings: \", *warnings, sep=\"\\n\", end=\"---\\n\")\n",
    "\n",
    "# booster = FamilyAid(gedcom)\n",
    "# print(booster)\n",
    "rows = []\n",
    "\n",
    "for individual in document.get_records(\"INDI\"):\n",
    "    name = (document[individual.tag] > \"NAME\") >= \"GIVN\"\n",
    "    surname = (document[individual.tag] > \"NAME\") >= \"SURN\"\n",
    "    birth_date = (document[individual.tag] > \"BIRT\") >= \"DATE\"\n",
    "    family_c = (document[individual.tag] > \"FAMC\").__str__().split(\" \")[-1]\n",
    "    family_p = (document[individual.tag] > \"FAMS\").__str__().split(\" \")[-1]\n",
    "    birth_place = (document[individual.tag] > \"BIRT\") >= \"PLAC\"\n",
    "    death = is_true(document[individual.tag] > \"DEAT\")\n",
    "    death_place = (document[individual.tag] > \"DEAT\") >= \"PLAC\"\n",
    "    sex = (document[individual.tag] > \"SEX\").__str__()[-1]\n",
    "    # sex = sex[-1]\n",
    "    death_date = (document[individual.tag] > \"DEAT\") >= \"DATE\"\n",
    "\n",
    "    rows.append(\n",
    "        {\n",
    "            \"PersonID\": individual.tag.replace(\"@\", \"\"),\n",
    "            \"FirstName\": name,\n",
    "            \"FamilyName\": surname.upper(),\n",
    "            \"BirthDate\": birth_date,\n",
    "            \"BirthPlace\": birth_place,\n",
    "            \"DeathDate\": death_date,\n",
    "            \"DeathPlace\": death_place,\n",
    "            \"Dead\": death,\n",
    "            \"Gender\": sex,\n",
    "            \"FamilyID\": family_c.replace(\"@\", \"\"),\n",
    "            \"ParentFamilyID\": family_p.replace(\"@\", \"\"),\n",
    "        }\n",
    "    )\n",
    "\n",
    "dtf = DataFrame.from_records(rows)\n",
    "dtf.replace(\"<FakeLine>\", nan, inplace=True)\n",
    "dtf.set_index(\"PersonID\", inplace=True)\n",
    "dtf\n"
   ]
  },
  {
   "attachments": {},
   "cell_type": "markdown",
   "metadata": {},
   "source": [
    "## 5. Add extra computations of the raw data model"
   ]
  },
  {
   "cell_type": "code",
   "execution_count": 398,
   "metadata": {},
   "outputs": [
    {
     "name": "stdout",
     "output_type": "stream",
     "text": [
      "PersonID\n",
      "I432449656974       8\n",
      "I432449657093      30\n",
      "I432449657204      25\n",
      "I432449657296      24\n",
      "I432449657316       8\n",
      "                 ... \n",
      "I432487335185      22\n",
      "I432487340580    <NA>\n",
      "I432487524615    <NA>\n",
      "I432487656907    <NA>\n",
      "I432491469571    <NA>\n",
      "Name: BirthDay, Length: 299, dtype: Int64\n"
     ]
    },
    {
     "data": {
      "text/html": [
       "<div>\n",
       "<style scoped>\n",
       "    .dataframe tbody tr th:only-of-type {\n",
       "        vertical-align: middle;\n",
       "    }\n",
       "\n",
       "    .dataframe tbody tr th {\n",
       "        vertical-align: top;\n",
       "    }\n",
       "\n",
       "    .dataframe thead th {\n",
       "        text-align: right;\n",
       "    }\n",
       "</style>\n",
       "<table border=\"1\" class=\"dataframe\">\n",
       "  <thead>\n",
       "    <tr style=\"text-align: right;\">\n",
       "      <th></th>\n",
       "      <th>FirstName</th>\n",
       "      <th>FamilyName</th>\n",
       "      <th>BirthDate</th>\n",
       "      <th>BirthPlace</th>\n",
       "      <th>DeathDate</th>\n",
       "      <th>DeathPlace</th>\n",
       "      <th>Gender</th>\n",
       "      <th>FamilyID</th>\n",
       "      <th>ParentFamilyID</th>\n",
       "      <th>BirthDT</th>\n",
       "      <th>...</th>\n",
       "      <th>DeathDT</th>\n",
       "      <th>LifeDuration</th>\n",
       "      <th>Name</th>\n",
       "      <th>Status</th>\n",
       "      <th>BirthCity</th>\n",
       "      <th>BirthRegion</th>\n",
       "      <th>BirthCountry</th>\n",
       "      <th>DeathCity</th>\n",
       "      <th>DeathRegion</th>\n",
       "      <th>DeathCountry</th>\n",
       "    </tr>\n",
       "    <tr>\n",
       "      <th>PersonID</th>\n",
       "      <th></th>\n",
       "      <th></th>\n",
       "      <th></th>\n",
       "      <th></th>\n",
       "      <th></th>\n",
       "      <th></th>\n",
       "      <th></th>\n",
       "      <th></th>\n",
       "      <th></th>\n",
       "      <th></th>\n",
       "      <th></th>\n",
       "      <th></th>\n",
       "      <th></th>\n",
       "      <th></th>\n",
       "      <th></th>\n",
       "      <th></th>\n",
       "      <th></th>\n",
       "      <th></th>\n",
       "      <th></th>\n",
       "      <th></th>\n",
       "      <th></th>\n",
       "    </tr>\n",
       "  </thead>\n",
       "  <tbody>\n",
       "    <tr>\n",
       "      <th>I432449656974</th>\n",
       "      <td>Velizar</td>\n",
       "      <td>VESSELINOV</td>\n",
       "      <td>8 Nov 1975</td>\n",
       "      <td>Sofia, Sofia City, Bulgaria</td>\n",
       "      <td></td>\n",
       "      <td></td>\n",
       "      <td>Male</td>\n",
       "      <td>F14</td>\n",
       "      <td>F56</td>\n",
       "      <td>1975-11-08</td>\n",
       "      <td>...</td>\n",
       "      <td>2023-05-27 20:27:08.343798</td>\n",
       "      <td>47.583157</td>\n",
       "      <td>Velizar VESSELINOV</td>\n",
       "      <td>Living</td>\n",
       "      <td>Sofia</td>\n",
       "      <td>Sofia City</td>\n",
       "      <td>Bulgaria</td>\n",
       "      <td></td>\n",
       "      <td>None</td>\n",
       "      <td>None</td>\n",
       "    </tr>\n",
       "    <tr>\n",
       "      <th>I432449657093</th>\n",
       "      <td>Margarita Vladimirova</td>\n",
       "      <td>MATOVA</td>\n",
       "      <td>30 Apr 1938</td>\n",
       "      <td>Svishtov, Veliko Turnovo, Bulgaria</td>\n",
       "      <td></td>\n",
       "      <td></td>\n",
       "      <td>Female</td>\n",
       "      <td>F63</td>\n",
       "      <td>F14</td>\n",
       "      <td>1938-04-30</td>\n",
       "      <td>...</td>\n",
       "      <td>2023-05-27 20:27:08.343798</td>\n",
       "      <td>85.133842</td>\n",
       "      <td>Margarita Vladimirova MATOVA</td>\n",
       "      <td>Living</td>\n",
       "      <td>Svishtov</td>\n",
       "      <td>Veliko Turnovo</td>\n",
       "      <td>Bulgaria</td>\n",
       "      <td></td>\n",
       "      <td>None</td>\n",
       "      <td>None</td>\n",
       "    </tr>\n",
       "    <tr>\n",
       "      <th>I432449657204</th>\n",
       "      <td>Valentin</td>\n",
       "      <td>VESSELINOV</td>\n",
       "      <td>25 Sep 1938</td>\n",
       "      <td>Vratsa, Vratsa, Bulgaria</td>\n",
       "      <td>2017</td>\n",
       "      <td>Sofia, Sofia City, Bulgaria</td>\n",
       "      <td>Male</td>\n",
       "      <td>F51</td>\n",
       "      <td>F14</td>\n",
       "      <td>1938-09-25</td>\n",
       "      <td>...</td>\n",
       "      <td>2017-01-01 00:00:00.000000</td>\n",
       "      <td>78.323288</td>\n",
       "      <td>Valentin VESSELINOV</td>\n",
       "      <td>Deceased</td>\n",
       "      <td>Vratsa</td>\n",
       "      <td>Vratsa</td>\n",
       "      <td>Bulgaria</td>\n",
       "      <td>Sofia</td>\n",
       "      <td>Sofia City</td>\n",
       "      <td>Bulgaria</td>\n",
       "    </tr>\n",
       "    <tr>\n",
       "      <th>I432449657296</th>\n",
       "      <td>Zoyka</td>\n",
       "      <td>MIHAILOVA</td>\n",
       "      <td>24 Feb 1906</td>\n",
       "      <td>Ruse, Ruse, Bulgaria</td>\n",
       "      <td>21 Sep 1993</td>\n",
       "      <td>Sofia, Sofia City, Bulgaria</td>\n",
       "      <td>Female</td>\n",
       "      <td>F27</td>\n",
       "      <td>F63</td>\n",
       "      <td>1906-02-24</td>\n",
       "      <td>...</td>\n",
       "      <td>1993-09-21 00:00:00.000000</td>\n",
       "      <td>87.632877</td>\n",
       "      <td>Zoyka MIHAILOVA</td>\n",
       "      <td>Deceased</td>\n",
       "      <td>Ruse</td>\n",
       "      <td>Ruse</td>\n",
       "      <td>Bulgaria</td>\n",
       "      <td>Sofia</td>\n",
       "      <td>Sofia City</td>\n",
       "      <td>Bulgaria</td>\n",
       "    </tr>\n",
       "    <tr>\n",
       "      <th>I432449657316</th>\n",
       "      <td>Velimir (Vladimir-Vlado)</td>\n",
       "      <td>MATOV</td>\n",
       "      <td>8 Apr 1897</td>\n",
       "      <td>Babitsa, Pernik, Bulgaria</td>\n",
       "      <td>4 Jul 1963</td>\n",
       "      <td>Sofia, Sofia City, Bulgaria</td>\n",
       "      <td>Male</td>\n",
       "      <td>F7</td>\n",
       "      <td>F63</td>\n",
       "      <td>1897-04-08</td>\n",
       "      <td>...</td>\n",
       "      <td>1963-07-04 00:00:00.000000</td>\n",
       "      <td>66.279452</td>\n",
       "      <td>Velimir  MATOV</td>\n",
       "      <td>Deceased</td>\n",
       "      <td>Babitsa</td>\n",
       "      <td>Pernik</td>\n",
       "      <td>Bulgaria</td>\n",
       "      <td>Sofia</td>\n",
       "      <td>Sofia City</td>\n",
       "      <td>Bulgaria</td>\n",
       "    </tr>\n",
       "    <tr>\n",
       "      <th>...</th>\n",
       "      <td>...</td>\n",
       "      <td>...</td>\n",
       "      <td>...</td>\n",
       "      <td>...</td>\n",
       "      <td>...</td>\n",
       "      <td>...</td>\n",
       "      <td>...</td>\n",
       "      <td>...</td>\n",
       "      <td>...</td>\n",
       "      <td>...</td>\n",
       "      <td>...</td>\n",
       "      <td>...</td>\n",
       "      <td>...</td>\n",
       "      <td>...</td>\n",
       "      <td>...</td>\n",
       "      <td>...</td>\n",
       "      <td>...</td>\n",
       "      <td>...</td>\n",
       "      <td>...</td>\n",
       "      <td>...</td>\n",
       "      <td>...</td>\n",
       "    </tr>\n",
       "    <tr>\n",
       "      <th>I432487335185</th>\n",
       "      <td>Iliana</td>\n",
       "      <td>STOYANOVA</td>\n",
       "      <td>22 Jul 1958</td>\n",
       "      <td>Sofia, Sofia City, Bulgaria</td>\n",
       "      <td></td>\n",
       "      <td></td>\n",
       "      <td>Female</td>\n",
       "      <td>NaN</td>\n",
       "      <td>F29</td>\n",
       "      <td>1958-07-22</td>\n",
       "      <td>...</td>\n",
       "      <td>2023-05-27 20:27:08.343798</td>\n",
       "      <td>64.892746</td>\n",
       "      <td>Iliana STOYANOVA</td>\n",
       "      <td>Living</td>\n",
       "      <td>Sofia</td>\n",
       "      <td>Sofia City</td>\n",
       "      <td>Bulgaria</td>\n",
       "      <td></td>\n",
       "      <td>None</td>\n",
       "      <td>None</td>\n",
       "    </tr>\n",
       "    <tr>\n",
       "      <th>I432487340580</th>\n",
       "      <td>Borislav</td>\n",
       "      <td>BATEMBERGSKI</td>\n",
       "      <td></td>\n",
       "      <td>Sofia, Sofia City, Bulgaria</td>\n",
       "      <td></td>\n",
       "      <td></td>\n",
       "      <td>Male</td>\n",
       "      <td>F80</td>\n",
       "      <td>NaN</td>\n",
       "      <td>NaT</td>\n",
       "      <td>...</td>\n",
       "      <td>2023-05-27 20:27:08.343798</td>\n",
       "      <td>NaN</td>\n",
       "      <td>Borislav BATEMBERGSKI</td>\n",
       "      <td>Living</td>\n",
       "      <td>Sofia</td>\n",
       "      <td>Sofia City</td>\n",
       "      <td>Bulgaria</td>\n",
       "      <td></td>\n",
       "      <td>None</td>\n",
       "      <td>None</td>\n",
       "    </tr>\n",
       "    <tr>\n",
       "      <th>I432487524615</th>\n",
       "      <td>Adam</td>\n",
       "      <td>MATOV</td>\n",
       "      <td></td>\n",
       "      <td></td>\n",
       "      <td></td>\n",
       "      <td></td>\n",
       "      <td>Male</td>\n",
       "      <td>NaN</td>\n",
       "      <td>F108</td>\n",
       "      <td>NaT</td>\n",
       "      <td>...</td>\n",
       "      <td>2023-05-27 20:27:08.343798</td>\n",
       "      <td>NaN</td>\n",
       "      <td>Adam MATOV</td>\n",
       "      <td>Living</td>\n",
       "      <td></td>\n",
       "      <td>None</td>\n",
       "      <td>None</td>\n",
       "      <td></td>\n",
       "      <td>None</td>\n",
       "      <td>None</td>\n",
       "    </tr>\n",
       "    <tr>\n",
       "      <th>I432487656907</th>\n",
       "      <td>Ivan</td>\n",
       "      <td>MATOV</td>\n",
       "      <td>1890</td>\n",
       "      <td>Babitsa, Pernik, Bulgaria</td>\n",
       "      <td></td>\n",
       "      <td>Sofia, Sofia City, Bulgaria</td>\n",
       "      <td>Male</td>\n",
       "      <td>F7</td>\n",
       "      <td>NaN</td>\n",
       "      <td>1890-01-01</td>\n",
       "      <td>...</td>\n",
       "      <td>NaT</td>\n",
       "      <td>NaN</td>\n",
       "      <td>Ivan MATOV</td>\n",
       "      <td>Deceased</td>\n",
       "      <td>Babitsa</td>\n",
       "      <td>Pernik</td>\n",
       "      <td>Bulgaria</td>\n",
       "      <td>Sofia</td>\n",
       "      <td>Sofia City</td>\n",
       "      <td>Bulgaria</td>\n",
       "    </tr>\n",
       "    <tr>\n",
       "      <th>I432491469571</th>\n",
       "      <td>Rumiana</td>\n",
       "      <td></td>\n",
       "      <td></td>\n",
       "      <td>Sofia, Sofia City, Bulgaria</td>\n",
       "      <td></td>\n",
       "      <td>Santa Fe, New Mexico, USA</td>\n",
       "      <td>Female</td>\n",
       "      <td>NaN</td>\n",
       "      <td>F36</td>\n",
       "      <td>NaT</td>\n",
       "      <td>...</td>\n",
       "      <td>NaT</td>\n",
       "      <td>NaN</td>\n",
       "      <td>Rumiana</td>\n",
       "      <td>Deceased</td>\n",
       "      <td>Sofia</td>\n",
       "      <td>Sofia City</td>\n",
       "      <td>Bulgaria</td>\n",
       "      <td>Santa Fe</td>\n",
       "      <td>New Mexico</td>\n",
       "      <td>USA</td>\n",
       "    </tr>\n",
       "  </tbody>\n",
       "</table>\n",
       "<p>299 rows × 22 columns</p>\n",
       "</div>"
      ],
      "text/plain": [
       "                              FirstName    FamilyName    BirthDate   \n",
       "PersonID                                                             \n",
       "I432449656974                   Velizar    VESSELINOV   8 Nov 1975  \\\n",
       "I432449657093     Margarita Vladimirova        MATOVA  30 Apr 1938   \n",
       "I432449657204                  Valentin    VESSELINOV  25 Sep 1938   \n",
       "I432449657296                     Zoyka     MIHAILOVA  24 Feb 1906   \n",
       "I432449657316  Velimir (Vladimir-Vlado)         MATOV   8 Apr 1897   \n",
       "...                                 ...           ...          ...   \n",
       "I432487335185                    Iliana     STOYANOVA  22 Jul 1958   \n",
       "I432487340580                  Borislav  BATEMBERGSKI                \n",
       "I432487524615                      Adam         MATOV                \n",
       "I432487656907                      Ivan         MATOV         1890   \n",
       "I432491469571                   Rumiana                              \n",
       "\n",
       "                                       BirthPlace    DeathDate   \n",
       "PersonID                                                         \n",
       "I432449656974         Sofia, Sofia City, Bulgaria               \\\n",
       "I432449657093  Svishtov, Veliko Turnovo, Bulgaria                \n",
       "I432449657204            Vratsa, Vratsa, Bulgaria         2017   \n",
       "I432449657296                Ruse, Ruse, Bulgaria  21 Sep 1993   \n",
       "I432449657316           Babitsa, Pernik, Bulgaria   4 Jul 1963   \n",
       "...                                           ...          ...   \n",
       "I432487335185         Sofia, Sofia City, Bulgaria                \n",
       "I432487340580         Sofia, Sofia City, Bulgaria                \n",
       "I432487524615                                                    \n",
       "I432487656907           Babitsa, Pernik, Bulgaria                \n",
       "I432491469571         Sofia, Sofia City, Bulgaria                \n",
       "\n",
       "                                DeathPlace  Gender FamilyID ParentFamilyID   \n",
       "PersonID                                                                     \n",
       "I432449656974                                 Male      F14            F56  \\\n",
       "I432449657093                               Female      F63            F14   \n",
       "I432449657204  Sofia, Sofia City, Bulgaria    Male      F51            F14   \n",
       "I432449657296  Sofia, Sofia City, Bulgaria  Female      F27            F63   \n",
       "I432449657316  Sofia, Sofia City, Bulgaria    Male       F7            F63   \n",
       "...                                    ...     ...      ...            ...   \n",
       "I432487335185                               Female      NaN            F29   \n",
       "I432487340580                                 Male      F80            NaN   \n",
       "I432487524615                                 Male      NaN           F108   \n",
       "I432487656907  Sofia, Sofia City, Bulgaria    Male       F7            NaN   \n",
       "I432491469571    Santa Fe, New Mexico, USA  Female      NaN            F36   \n",
       "\n",
       "                 BirthDT  ...                    DeathDT LifeDuration   \n",
       "PersonID                  ...                                           \n",
       "I432449656974 1975-11-08  ... 2023-05-27 20:27:08.343798    47.583157  \\\n",
       "I432449657093 1938-04-30  ... 2023-05-27 20:27:08.343798    85.133842   \n",
       "I432449657204 1938-09-25  ... 2017-01-01 00:00:00.000000    78.323288   \n",
       "I432449657296 1906-02-24  ... 1993-09-21 00:00:00.000000    87.632877   \n",
       "I432449657316 1897-04-08  ... 1963-07-04 00:00:00.000000    66.279452   \n",
       "...                  ...  ...                        ...          ...   \n",
       "I432487335185 1958-07-22  ... 2023-05-27 20:27:08.343798    64.892746   \n",
       "I432487340580        NaT  ... 2023-05-27 20:27:08.343798          NaN   \n",
       "I432487524615        NaT  ... 2023-05-27 20:27:08.343798          NaN   \n",
       "I432487656907 1890-01-01  ...                        NaT          NaN   \n",
       "I432491469571        NaT  ...                        NaT          NaN   \n",
       "\n",
       "                                       Name    Status BirthCity   \n",
       "PersonID                                                          \n",
       "I432449656974            Velizar VESSELINOV    Living     Sofia  \\\n",
       "I432449657093  Margarita Vladimirova MATOVA    Living  Svishtov   \n",
       "I432449657204           Valentin VESSELINOV  Deceased    Vratsa   \n",
       "I432449657296               Zoyka MIHAILOVA  Deceased      Ruse   \n",
       "I432449657316                Velimir  MATOV  Deceased   Babitsa   \n",
       "...                                     ...       ...       ...   \n",
       "I432487335185              Iliana STOYANOVA    Living     Sofia   \n",
       "I432487340580         Borislav BATEMBERGSKI    Living     Sofia   \n",
       "I432487524615                    Adam MATOV    Living             \n",
       "I432487656907                    Ivan MATOV  Deceased   Babitsa   \n",
       "I432491469571                      Rumiana   Deceased     Sofia   \n",
       "\n",
       "                  BirthRegion BirthCountry DeathCity DeathRegion DeathCountry  \n",
       "PersonID                                                                       \n",
       "I432449656974      Sofia City     Bulgaria                  None         None  \n",
       "I432449657093  Veliko Turnovo     Bulgaria                  None         None  \n",
       "I432449657204          Vratsa     Bulgaria     Sofia  Sofia City     Bulgaria  \n",
       "I432449657296            Ruse     Bulgaria     Sofia  Sofia City     Bulgaria  \n",
       "I432449657316          Pernik     Bulgaria     Sofia  Sofia City     Bulgaria  \n",
       "...                       ...          ...       ...         ...          ...  \n",
       "I432487335185      Sofia City     Bulgaria                  None         None  \n",
       "I432487340580      Sofia City     Bulgaria                  None         None  \n",
       "I432487524615            None         None                  None         None  \n",
       "I432487656907          Pernik     Bulgaria     Sofia  Sofia City     Bulgaria  \n",
       "I432491469571      Sofia City     Bulgaria  Santa Fe  New Mexico          USA  \n",
       "\n",
       "[299 rows x 22 columns]"
      ]
     },
     "execution_count": 398,
     "metadata": {},
     "output_type": "execute_result"
    }
   ],
   "source": [
    "dtf[\"BirthDT\"] = to_datetime(dtf.BirthDate, errors=\"coerce\", format=r\"%d %b %Y\")\n",
    "dtf[\"BirthDay\"] = dtf.BirthDT.dt.day.astype(\"Int64\")\n",
    "print(dtf[\"BirthDay\"])\n",
    "dtf[\"BirthMonth\"] = dtf.BirthDT.dt.month_name()\n",
    "dtf[\"BirthDT2\"] = to_datetime(dtf.BirthDate, errors=\"coerce\", format=r\"%Y\")\n",
    "dtf.BirthDT = dtf.BirthDT.fillna(dtf.BirthDT2)\n",
    "\n",
    "dtf[\"DeathDT\"] = to_datetime(dtf.DeathDate, errors=\"coerce\", format=r\"%d %b %Y\")\n",
    "\n",
    "dtf[\"DeathDT2\"] = to_datetime(dtf.DeathDate, errors=\"coerce\", format=r\"%Y\")\n",
    "dtf.DeathDT = dtf.DeathDT.fillna(dtf.DeathDT2)\n",
    "dtf.loc[dtf.Dead == False, \"DeathDT\"] = dtf.DeathDT.fillna(datetime.today())\n",
    "dtf[\"LifeDuration\"] = (dtf.DeathDT - dtf.BirthDT) / timedelta64(1, \"Y\")\n",
    "\n",
    "dtf[\"Name\"] = (\n",
    "    dtf.FirstName.replace(r\"(\\(.*\\))\", \"\", regex=True) + \" \" + dtf.FamilyName\n",
    ")\n",
    "dtf.loc[dtf.Dead == True, \"Status\"] = \"Deceased\"\n",
    "dtf.loc[dtf.Dead == False, \"Status\"] = \"Living\"\n",
    "dtf.loc[dtf.Dead.isnull(), \"Status\"] = \"Unknown\"\n",
    "dtf.Gender.replace({\"M\": \"Male\", \"F\": \"Female\", \"U\": \"Unknown\"}, inplace=True)\n",
    "dtf.drop(columns=[\"BirthDT2\", \"DeathDT2\", \"Dead\"], inplace=True)\n",
    "\n",
    "for i in [\"Birth\", \"Death\"]:\n",
    "    dtf = dtf.join(\n",
    "        dtf[f\"{i}Place\"]\n",
    "        .str.split(\", \", expand=True)\n",
    "        .rename(columns={0: f\"{i}City\", 1: f\"{i}Region\", 2: f\"{i}Country\"})\n",
    "    )\n",
    "\n",
    "# print(dtf.loc[dtf.BirthPlace.str.contains(r\",.*,\", regex=True)])\n",
    "# dtf.loc[dtf.BirthPlace.str.contains(r\",.*,\", regex=True), \"BirthCountry\"] = dtf.BirthPlace.str.split(\",\")[-1]\n",
    "# dtf.loc[dtf.BirthPlace.str.contains(r\",.*,\", regex=True), \"BirthRegion\"] = dtf.BirthPlace.str.split(\",\")[-2]\n",
    "# dtf.loc[dtf.BirthPlace.str.contains(r\",.*,\", regex=True), \"BirthCity\"] = dtf.BirthPlace.str.split(\",\")[-3]\n",
    "dtf"
   ]
  },
  {
   "cell_type": "code",
   "execution_count": 399,
   "metadata": {},
   "outputs": [],
   "source": [
    "# from treelib import Node, Tree\n",
    "\n",
    "# tree = Tree()\n",
    "\n",
    "# def per_row(row):\n",
    "#     tree.create_node(row[\"Name\"], row.name, parent=row[\"ParentFamilyID\"])\n",
    "\n",
    "# dtf.apply(per_row, axis=1)\n",
    "\n",
    "# # tree.create_node(\"Jane\", \"jane\", parent=\"harry\")\n",
    "# tree.show()"
   ]
  },
  {
   "attachments": {},
   "cell_type": "markdown",
   "metadata": {},
   "source": [
    "## 6. Plot life duration expectation"
   ]
  },
  {
   "cell_type": "code",
   "execution_count": 400,
   "metadata": {},
   "outputs": [
    {
     "data": {
      "application/vnd.plotly.v1+json": {
       "config": {
        "plotlyServerURL": "https://plot.ly"
       },
       "data": [
        {
         "alignmentgroup": "True",
         "hovertemplate": "Status=Living<br>Name=%{x}<br>LifeDuration=%{y}<extra></extra>",
         "legendgroup": "Living",
         "marker": {
          "color": "#636efa",
          "pattern": {
           "shape": ""
          }
         },
         "name": "Living",
         "offsetgroup": "Living",
         "orientation": "v",
         "showlegend": true,
         "textposition": "auto",
         "type": "bar",
         "x": [
          "Velizar VESSELINOV",
          "Margarita Vladimirova MATOVA",
          "Velimir VESSELINOV",
          "Alexandre VESSELINOV",
          "Guergana VESSELINOV",
          "Edward VESSELINOV",
          "Raphael VESSELINOV",
          "Victoria VESSELINOV",
          "Neda VESSELINOVA",
          "Sevar VESSELINOV",
          "Alexandra KOSTOVA",
          "Galina KYOPCHEVA",
          "Iskra KYOPCHEVA",
          "Valentin KYOPCHEV",
          "Ivayla GUEORGUIEVA",
          "Rumyana VESSELINOV",
          "Ventsislav VARBANOV",
          "Ventislav YANEV",
          "Kimo DONCHEV",
          "Vladimir VARBANOV",
          "Viktor VARBANOV",
          "Ralitza KYOPCHEV",
          "Galya TSONKOVA",
          "Yavor YANEV",
          "Preslav DONCHEV",
          "Yana YANEVA",
          "Raya DONCHEVA",
          "Stefana TCHAKAROVA",
          "Marina KOSTOVA",
          "Evgeniya ABADZHIEVA",
          "Krasimir Atanasov KOSTOV",
          "Svetoslav STOYANOV",
          "Mila STOYANOVA",
          "Petar Atanasov KOSTOV",
          "Yana Krasimira KOSTOVA",
          "Ventsislav Petrov KOSTOV",
          "Atanas Petrov KOSTOV",
          "Maria TCHAKAROVA",
          "Tani MIHAILOVA",
          "Konstantin DIMITROV",
          "Sunny STEFANOV",
          "Pavel Atanasov KOSTOV",
          "Virginia Erincheva IRINTCHEVA",
          "Rilka MATOVA",
          "Alexander MINKOVSKI",
          "Albena ",
          "Nikolai MATOV",
          "Iliya MATOV",
          "Bonka ",
          "Anna MATOVA",
          "Valentin TASKOV",
          "Miglena TASKOVA",
          "Milen ILIEV",
          "Alexander TASKOV",
          "Iliana MATOVA",
          "Sofia MATOVA",
          "Ilyana MANKOVA",
          "Svetla ATANASOVA-VANGELOVA",
          "Roumen VANGELOV",
          "Rumiana ",
          "Boris MINKOVSKI",
          "Encho Petrov IRINCHEV",
          "Teodor ILIEV",
          "Valentin MATOV",
          "Lozina MATOVA",
          "Mihail MATOV",
          "Georgi MATOV",
          "Emilia BOZHILOVA-BRATANOVA",
          "Katia BRATANOVA",
          "Kalina BOZHILOVA",
          "Svetlana BOZHILOVA-DIMITROVA",
          "Dimitar DIMITROV",
          "Milan DIMITROV",
          "Alexander DIMITROV",
          "Mariana DIMITROVA",
          "Boriana BATEMBERGSKA",
          "Dara MINKOVSKA",
          "Iliana STOYANOVA"
         ],
         "xaxis": "x",
         "y": [
          47.583156657274166,
          85.13384158878101,
          58.909184054534435,
          15.558499123027588,
          48.27630734220567,
          13.45712926001389,
          12.257129260013889,
          9.53658131480841,
          26.52836213672622,
          20.942060766863204,
          71.98863610932895,
          44.36945802713718,
          44.36945802713718,
          48.59137583535635,
          41.624252547685124,
          74.96397857508238,
          47.36671830110978,
          41.840690903849506,
          74.93384158878101,
          6.574937479191972,
          13.783156657274164,
          16.142060766863203,
          50.462608712068686,
          15.492745698370054,
          11.75575939700019,
          9.235211451794711,
          7.051649807959095,
          96.25164980795908,
          63.0434306298769,
          47.59411556138375,
          68.83247172576732,
          63.843430629876906,
          37.90096487645224,
          64.77767720521936,
          42.224252547685126,
          38.02699227371252,
          41.8461703559043,
          63.4461703559043,
          81.45712926001389,
          47.28178679426046,
          34.33658131480841,
          11.550279944945396,
          44.32014295864403,
          83.72014295864402,
          52.673567616178275,
          53.01877309563033,
          76.6352114517947,
          69.88726624631526,
          83.29274569837004,
          73.48178679426046,
          74.71192378056183,
          49.5420607668632,
          49.432471725767314,
          41.8489100819317,
          33.88726624631526,
          25.13658131480841,
          67.98041693124676,
          86.91192378056182,
          53.63795117782211,
          53.78589638330156,
          23.807814191520738,
          78.0461703559043,
          23.511923780561833,
          62.56123884905499,
          44.311923780561834,
          20.761238849054987,
          52.16397857508238,
          74.76671830110978,
          45.92836213672622,
          31.133841588781014,
          75.27904706823306,
          73.45438953398649,
          49.25712926001389,
          43.99137583535636,
          48.57493747919197,
          40.58863610932896,
          14.870827890150876,
          64.89274569837005
         ],
         "yaxis": "y"
        },
        {
         "alignmentgroup": "True",
         "hovertemplate": "Status=Deceased<br>Name=%{x}<br>LifeDuration=%{y}<extra></extra>",
         "legendgroup": "Deceased",
         "marker": {
          "color": "#EF553B",
          "pattern": {
           "shape": ""
          }
         },
         "name": "Deceased",
         "offsetgroup": "Deceased",
         "orientation": "v",
         "showlegend": true,
         "textposition": "auto",
         "type": "bar",
         "x": [
          "Valentin VESSELINOV",
          "Zoyka MIHAILOVA",
          "Velimir  MATOV",
          "Tzanko GUEORGUIEV",
          "Natalia MATOVA",
          "Plamen KYOPCHEV",
          "Georgi Kostov ATANASOV",
          "Ivanka Dakova KINOVSKA",
          "Dotchka GUEORGUIEVA",
          "Stafan GUEORGUIEV",
          "Pencho TCHAKAROV",
          "Nacho Dimitrov MIHAILOV",
          "Nikola MATOV",
          "Donka ",
          "Atanas MIHAILOV",
          "Dimitar MIHAILOV",
          "Alexander  ATANASOV",
          "Stoyanka MATOVA",
          "Ilia MANKOV",
          "Vasil MATOV",
          "Anton MATOV",
          "Dochka  MANKOVA",
          "Petko MANKOV",
          "Melania  ",
          "Zlatka ",
          "Milka ",
          "Lidia MATOVA",
          "Lubomir MATOV",
          "Ani MANKOVA",
          "Stefan MANKOV",
          "Vladimir  OBRETENOV",
          "Tzvetan ATANASOV",
          "Tzventanka ATANASOVA",
          "Marin BATEMBERGSKI",
          "Nadejda ATANASOVA",
          "Nedjalko TOPALOV",
          "Plamen BATEMBERGSKI",
          "Valentina BATENBERGSKA",
          "Maritza MATOVA",
          "Vienka BOZHILOVA-ATANASOVA",
          "Ivan ATANASOV",
          "Karamfil BOZHILOV"
         ],
         "xaxis": "x",
         "y": [
          78.32328767123288,
          87.63287671232877,
          66.27945205479452,
          57.320547945205476,
          76.25753424657535,
          50.5972602739726,
          91.06027397260274,
          88.61643835616438,
          64.9041095890411,
          70.07397260273973,
          83.83287671232877,
          78.43561643835616,
          85.22739726027397,
          79.02465753424657,
          74.68493150684931,
          21.013698630136986,
          71.8986301369863,
          66.04383561643836,
          48.0986301369863,
          76.23013698630137,
          68.96712328767123,
          74.04657534246576,
          47.49041095890411,
          50.9041095890411,
          95.1945205479452,
          91.40821917808219,
          7.002739726027397,
          61.78082191780822,
          89.94246575342466,
          43.31780821917808,
          82.5068493150685,
          3.0027397260273974,
          97.07123287671233,
          67.08493150684932,
          77.13424657534246,
          66.65753424657534,
          39.347945205479455,
          33.0958904109589,
          92.06027397260274,
          86.06027397260274,
          34.88219178082192,
          82.21095890410959
         ],
         "yaxis": "y"
        }
       ],
       "layout": {
        "barmode": "relative",
        "legend": {
         "title": {
          "text": "Status"
         },
         "tracegroupgap": 0
        },
        "margin": {
         "t": 60
        },
        "template": {
         "data": {
          "bar": [
           {
            "error_x": {
             "color": "#f2f5fa"
            },
            "error_y": {
             "color": "#f2f5fa"
            },
            "marker": {
             "line": {
              "color": "rgb(17,17,17)",
              "width": 0.5
             },
             "pattern": {
              "fillmode": "overlay",
              "size": 10,
              "solidity": 0.2
             }
            },
            "type": "bar"
           }
          ],
          "barpolar": [
           {
            "marker": {
             "line": {
              "color": "rgb(17,17,17)",
              "width": 0.5
             },
             "pattern": {
              "fillmode": "overlay",
              "size": 10,
              "solidity": 0.2
             }
            },
            "type": "barpolar"
           }
          ],
          "carpet": [
           {
            "aaxis": {
             "endlinecolor": "#A2B1C6",
             "gridcolor": "#506784",
             "linecolor": "#506784",
             "minorgridcolor": "#506784",
             "startlinecolor": "#A2B1C6"
            },
            "baxis": {
             "endlinecolor": "#A2B1C6",
             "gridcolor": "#506784",
             "linecolor": "#506784",
             "minorgridcolor": "#506784",
             "startlinecolor": "#A2B1C6"
            },
            "type": "carpet"
           }
          ],
          "choropleth": [
           {
            "colorbar": {
             "outlinewidth": 0,
             "ticks": ""
            },
            "type": "choropleth"
           }
          ],
          "contour": [
           {
            "colorbar": {
             "outlinewidth": 0,
             "ticks": ""
            },
            "colorscale": [
             [
              0,
              "#0d0887"
             ],
             [
              0.1111111111111111,
              "#46039f"
             ],
             [
              0.2222222222222222,
              "#7201a8"
             ],
             [
              0.3333333333333333,
              "#9c179e"
             ],
             [
              0.4444444444444444,
              "#bd3786"
             ],
             [
              0.5555555555555556,
              "#d8576b"
             ],
             [
              0.6666666666666666,
              "#ed7953"
             ],
             [
              0.7777777777777778,
              "#fb9f3a"
             ],
             [
              0.8888888888888888,
              "#fdca26"
             ],
             [
              1,
              "#f0f921"
             ]
            ],
            "type": "contour"
           }
          ],
          "contourcarpet": [
           {
            "colorbar": {
             "outlinewidth": 0,
             "ticks": ""
            },
            "type": "contourcarpet"
           }
          ],
          "heatmap": [
           {
            "colorbar": {
             "outlinewidth": 0,
             "ticks": ""
            },
            "colorscale": [
             [
              0,
              "#0d0887"
             ],
             [
              0.1111111111111111,
              "#46039f"
             ],
             [
              0.2222222222222222,
              "#7201a8"
             ],
             [
              0.3333333333333333,
              "#9c179e"
             ],
             [
              0.4444444444444444,
              "#bd3786"
             ],
             [
              0.5555555555555556,
              "#d8576b"
             ],
             [
              0.6666666666666666,
              "#ed7953"
             ],
             [
              0.7777777777777778,
              "#fb9f3a"
             ],
             [
              0.8888888888888888,
              "#fdca26"
             ],
             [
              1,
              "#f0f921"
             ]
            ],
            "type": "heatmap"
           }
          ],
          "heatmapgl": [
           {
            "colorbar": {
             "outlinewidth": 0,
             "ticks": ""
            },
            "colorscale": [
             [
              0,
              "#0d0887"
             ],
             [
              0.1111111111111111,
              "#46039f"
             ],
             [
              0.2222222222222222,
              "#7201a8"
             ],
             [
              0.3333333333333333,
              "#9c179e"
             ],
             [
              0.4444444444444444,
              "#bd3786"
             ],
             [
              0.5555555555555556,
              "#d8576b"
             ],
             [
              0.6666666666666666,
              "#ed7953"
             ],
             [
              0.7777777777777778,
              "#fb9f3a"
             ],
             [
              0.8888888888888888,
              "#fdca26"
             ],
             [
              1,
              "#f0f921"
             ]
            ],
            "type": "heatmapgl"
           }
          ],
          "histogram": [
           {
            "marker": {
             "pattern": {
              "fillmode": "overlay",
              "size": 10,
              "solidity": 0.2
             }
            },
            "type": "histogram"
           }
          ],
          "histogram2d": [
           {
            "colorbar": {
             "outlinewidth": 0,
             "ticks": ""
            },
            "colorscale": [
             [
              0,
              "#0d0887"
             ],
             [
              0.1111111111111111,
              "#46039f"
             ],
             [
              0.2222222222222222,
              "#7201a8"
             ],
             [
              0.3333333333333333,
              "#9c179e"
             ],
             [
              0.4444444444444444,
              "#bd3786"
             ],
             [
              0.5555555555555556,
              "#d8576b"
             ],
             [
              0.6666666666666666,
              "#ed7953"
             ],
             [
              0.7777777777777778,
              "#fb9f3a"
             ],
             [
              0.8888888888888888,
              "#fdca26"
             ],
             [
              1,
              "#f0f921"
             ]
            ],
            "type": "histogram2d"
           }
          ],
          "histogram2dcontour": [
           {
            "colorbar": {
             "outlinewidth": 0,
             "ticks": ""
            },
            "colorscale": [
             [
              0,
              "#0d0887"
             ],
             [
              0.1111111111111111,
              "#46039f"
             ],
             [
              0.2222222222222222,
              "#7201a8"
             ],
             [
              0.3333333333333333,
              "#9c179e"
             ],
             [
              0.4444444444444444,
              "#bd3786"
             ],
             [
              0.5555555555555556,
              "#d8576b"
             ],
             [
              0.6666666666666666,
              "#ed7953"
             ],
             [
              0.7777777777777778,
              "#fb9f3a"
             ],
             [
              0.8888888888888888,
              "#fdca26"
             ],
             [
              1,
              "#f0f921"
             ]
            ],
            "type": "histogram2dcontour"
           }
          ],
          "mesh3d": [
           {
            "colorbar": {
             "outlinewidth": 0,
             "ticks": ""
            },
            "type": "mesh3d"
           }
          ],
          "parcoords": [
           {
            "line": {
             "colorbar": {
              "outlinewidth": 0,
              "ticks": ""
             }
            },
            "type": "parcoords"
           }
          ],
          "pie": [
           {
            "automargin": true,
            "type": "pie"
           }
          ],
          "scatter": [
           {
            "marker": {
             "line": {
              "color": "#283442"
             }
            },
            "type": "scatter"
           }
          ],
          "scatter3d": [
           {
            "line": {
             "colorbar": {
              "outlinewidth": 0,
              "ticks": ""
             }
            },
            "marker": {
             "colorbar": {
              "outlinewidth": 0,
              "ticks": ""
             }
            },
            "type": "scatter3d"
           }
          ],
          "scattercarpet": [
           {
            "marker": {
             "colorbar": {
              "outlinewidth": 0,
              "ticks": ""
             }
            },
            "type": "scattercarpet"
           }
          ],
          "scattergeo": [
           {
            "marker": {
             "colorbar": {
              "outlinewidth": 0,
              "ticks": ""
             }
            },
            "type": "scattergeo"
           }
          ],
          "scattergl": [
           {
            "marker": {
             "line": {
              "color": "#283442"
             }
            },
            "type": "scattergl"
           }
          ],
          "scattermapbox": [
           {
            "marker": {
             "colorbar": {
              "outlinewidth": 0,
              "ticks": ""
             }
            },
            "type": "scattermapbox"
           }
          ],
          "scatterpolar": [
           {
            "marker": {
             "colorbar": {
              "outlinewidth": 0,
              "ticks": ""
             }
            },
            "type": "scatterpolar"
           }
          ],
          "scatterpolargl": [
           {
            "marker": {
             "colorbar": {
              "outlinewidth": 0,
              "ticks": ""
             }
            },
            "type": "scatterpolargl"
           }
          ],
          "scatterternary": [
           {
            "marker": {
             "colorbar": {
              "outlinewidth": 0,
              "ticks": ""
             }
            },
            "type": "scatterternary"
           }
          ],
          "surface": [
           {
            "colorbar": {
             "outlinewidth": 0,
             "ticks": ""
            },
            "colorscale": [
             [
              0,
              "#0d0887"
             ],
             [
              0.1111111111111111,
              "#46039f"
             ],
             [
              0.2222222222222222,
              "#7201a8"
             ],
             [
              0.3333333333333333,
              "#9c179e"
             ],
             [
              0.4444444444444444,
              "#bd3786"
             ],
             [
              0.5555555555555556,
              "#d8576b"
             ],
             [
              0.6666666666666666,
              "#ed7953"
             ],
             [
              0.7777777777777778,
              "#fb9f3a"
             ],
             [
              0.8888888888888888,
              "#fdca26"
             ],
             [
              1,
              "#f0f921"
             ]
            ],
            "type": "surface"
           }
          ],
          "table": [
           {
            "cells": {
             "fill": {
              "color": "#506784"
             },
             "line": {
              "color": "rgb(17,17,17)"
             }
            },
            "header": {
             "fill": {
              "color": "#2a3f5f"
             },
             "line": {
              "color": "rgb(17,17,17)"
             }
            },
            "type": "table"
           }
          ]
         },
         "layout": {
          "annotationdefaults": {
           "arrowcolor": "#f2f5fa",
           "arrowhead": 0,
           "arrowwidth": 1
          },
          "autotypenumbers": "strict",
          "coloraxis": {
           "colorbar": {
            "outlinewidth": 0,
            "ticks": ""
           }
          },
          "colorscale": {
           "diverging": [
            [
             0,
             "#8e0152"
            ],
            [
             0.1,
             "#c51b7d"
            ],
            [
             0.2,
             "#de77ae"
            ],
            [
             0.3,
             "#f1b6da"
            ],
            [
             0.4,
             "#fde0ef"
            ],
            [
             0.5,
             "#f7f7f7"
            ],
            [
             0.6,
             "#e6f5d0"
            ],
            [
             0.7,
             "#b8e186"
            ],
            [
             0.8,
             "#7fbc41"
            ],
            [
             0.9,
             "#4d9221"
            ],
            [
             1,
             "#276419"
            ]
           ],
           "sequential": [
            [
             0,
             "#0d0887"
            ],
            [
             0.1111111111111111,
             "#46039f"
            ],
            [
             0.2222222222222222,
             "#7201a8"
            ],
            [
             0.3333333333333333,
             "#9c179e"
            ],
            [
             0.4444444444444444,
             "#bd3786"
            ],
            [
             0.5555555555555556,
             "#d8576b"
            ],
            [
             0.6666666666666666,
             "#ed7953"
            ],
            [
             0.7777777777777778,
             "#fb9f3a"
            ],
            [
             0.8888888888888888,
             "#fdca26"
            ],
            [
             1,
             "#f0f921"
            ]
           ],
           "sequentialminus": [
            [
             0,
             "#0d0887"
            ],
            [
             0.1111111111111111,
             "#46039f"
            ],
            [
             0.2222222222222222,
             "#7201a8"
            ],
            [
             0.3333333333333333,
             "#9c179e"
            ],
            [
             0.4444444444444444,
             "#bd3786"
            ],
            [
             0.5555555555555556,
             "#d8576b"
            ],
            [
             0.6666666666666666,
             "#ed7953"
            ],
            [
             0.7777777777777778,
             "#fb9f3a"
            ],
            [
             0.8888888888888888,
             "#fdca26"
            ],
            [
             1,
             "#f0f921"
            ]
           ]
          },
          "colorway": [
           "#636efa",
           "#EF553B",
           "#00cc96",
           "#ab63fa",
           "#FFA15A",
           "#19d3f3",
           "#FF6692",
           "#B6E880",
           "#FF97FF",
           "#FECB52"
          ],
          "font": {
           "color": "#f2f5fa"
          },
          "geo": {
           "bgcolor": "rgb(17,17,17)",
           "lakecolor": "rgb(17,17,17)",
           "landcolor": "rgb(17,17,17)",
           "showlakes": true,
           "showland": true,
           "subunitcolor": "#506784"
          },
          "hoverlabel": {
           "align": "left"
          },
          "hovermode": "closest",
          "mapbox": {
           "style": "dark"
          },
          "paper_bgcolor": "rgb(17,17,17)",
          "plot_bgcolor": "rgb(17,17,17)",
          "polar": {
           "angularaxis": {
            "gridcolor": "#506784",
            "linecolor": "#506784",
            "ticks": ""
           },
           "bgcolor": "rgb(17,17,17)",
           "radialaxis": {
            "gridcolor": "#506784",
            "linecolor": "#506784",
            "ticks": ""
           }
          },
          "scene": {
           "xaxis": {
            "backgroundcolor": "rgb(17,17,17)",
            "gridcolor": "#506784",
            "gridwidth": 2,
            "linecolor": "#506784",
            "showbackground": true,
            "ticks": "",
            "zerolinecolor": "#C8D4E3"
           },
           "yaxis": {
            "backgroundcolor": "rgb(17,17,17)",
            "gridcolor": "#506784",
            "gridwidth": 2,
            "linecolor": "#506784",
            "showbackground": true,
            "ticks": "",
            "zerolinecolor": "#C8D4E3"
           },
           "zaxis": {
            "backgroundcolor": "rgb(17,17,17)",
            "gridcolor": "#506784",
            "gridwidth": 2,
            "linecolor": "#506784",
            "showbackground": true,
            "ticks": "",
            "zerolinecolor": "#C8D4E3"
           }
          },
          "shapedefaults": {
           "line": {
            "color": "#f2f5fa"
           }
          },
          "sliderdefaults": {
           "bgcolor": "#C8D4E3",
           "bordercolor": "rgb(17,17,17)",
           "borderwidth": 1,
           "tickwidth": 0
          },
          "ternary": {
           "aaxis": {
            "gridcolor": "#506784",
            "linecolor": "#506784",
            "ticks": ""
           },
           "baxis": {
            "gridcolor": "#506784",
            "linecolor": "#506784",
            "ticks": ""
           },
           "bgcolor": "rgb(17,17,17)",
           "caxis": {
            "gridcolor": "#506784",
            "linecolor": "#506784",
            "ticks": ""
           }
          },
          "title": {
           "x": 0.05
          },
          "updatemenudefaults": {
           "bgcolor": "#506784",
           "borderwidth": 0
          },
          "xaxis": {
           "automargin": true,
           "gridcolor": "#283442",
           "linecolor": "#506784",
           "ticks": "",
           "title": {
            "standoff": 15
           },
           "zerolinecolor": "#283442",
           "zerolinewidth": 2
          },
          "yaxis": {
           "automargin": true,
           "gridcolor": "#283442",
           "linecolor": "#506784",
           "ticks": "",
           "title": {
            "standoff": 15
           },
           "zerolinecolor": "#283442",
           "zerolinewidth": 2
          }
         }
        },
        "xaxis": {
         "anchor": "y",
         "categoryorder": "total descending",
         "domain": [
          0,
          1
         ],
         "title": {
          "text": "Name"
         }
        },
        "yaxis": {
         "anchor": "x",
         "domain": [
          0,
          1
         ],
         "title": {
          "text": "LifeDuration"
         }
        }
       }
      }
     },
     "metadata": {},
     "output_type": "display_data"
    }
   ],
   "source": [
    "fig = bar(\n",
    "    dtf[dtf.LifeDuration.notnull()],\n",
    "    y=\"LifeDuration\",\n",
    "    x=\"Name\",\n",
    "    color=\"Status\",\n",
    ")\n",
    "\n",
    "fig.update_layout(xaxis={\"categoryorder\": \"total descending\"})\n",
    "fig.write_html(\"FamilyLiveExpectationHistogram.html\")\n",
    "fig"
   ]
  },
  {
   "cell_type": "code",
   "execution_count": 401,
   "metadata": {},
   "outputs": [
    {
     "data": {
      "application/vnd.plotly.v1+json": {
       "config": {
        "plotlyServerURL": "https://plot.ly"
       },
       "data": [
        {
         "box": {
          "visible": true
         },
         "line": {
          "color": "blue"
         },
         "meanline": {
          "visible": true
         },
         "name": "Male",
         "points": "all",
         "side": "negative",
         "type": "violin",
         "x": [
          "Living",
          "Deceased",
          "Deceased",
          "Deceased",
          "Living",
          "Living",
          "Living",
          "Living",
          "Living",
          "Deceased",
          "Deceased",
          "Living",
          "Living",
          "Living",
          "Living",
          "Living",
          "Living",
          "Living",
          "Living",
          "Living",
          "Living",
          "Living",
          "Deceased",
          "Deceased",
          "Deceased",
          "Living",
          "Living",
          "Deceased",
          "Living",
          "Living",
          "Living",
          "Living",
          "Living",
          "Living",
          "Living",
          "Deceased",
          "Living",
          "Living",
          "Living",
          "Living",
          "Living",
          "Living",
          "Living",
          "Living",
          "Living",
          "Living",
          "Deceased",
          "Living",
          "Deceased",
          "Deceased",
          "Deceased",
          "Living",
          "Living",
          "Living",
          "Deceased",
          "Deceased",
          "Deceased",
          "Deceased",
          "Deceased",
          "Living",
          "Living",
          "Living",
          "Living",
          "Living",
          "Living",
          "Living",
          "Living",
          "Living",
          "Living",
          "Living",
          "Living",
          "Living",
          "Living",
          "Living",
          "Living",
          "Living",
          "Living",
          "Living",
          "Living",
          "Living",
          "Living",
          "Living",
          "Living",
          "Living",
          "Living",
          "Deceased",
          "Living",
          "Living",
          "Deceased",
          "Living",
          "Deceased",
          "Living",
          "Living",
          "Deceased",
          "Living",
          "Living",
          "Living",
          "Deceased",
          "Living",
          "Living",
          "Living",
          "Living",
          "Deceased",
          "Deceased",
          "Deceased",
          "Deceased",
          "Deceased",
          "Living",
          "Living",
          "Living",
          "Living",
          "Living",
          "Living",
          "Deceased",
          "Deceased",
          "Living",
          "Living",
          "Living",
          "Living",
          "Living",
          "Living",
          "Living",
          "Living",
          "Deceased",
          "Deceased",
          "Living",
          "Living",
          "Living",
          "Living",
          "Living",
          "Living",
          "Living",
          "Living",
          "Living",
          "Living",
          "Living",
          "Living",
          "Living",
          "Living",
          "Living",
          "Living",
          "Living",
          "Living",
          "Living",
          "Living",
          "Living",
          "Living",
          "Living",
          "Deceased",
          "Living",
          "Living",
          "Living",
          "Living",
          "Living",
          "Living",
          "Living",
          "Living",
          "Living",
          "Living",
          "Living",
          "Living",
          "Living",
          "Living",
          "Deceased"
         ],
         "y": [
          47.583156657274166,
          78.32328767123288,
          66.27945205479452,
          null,
          58.909184054534435,
          15.558499123027588,
          13.45712926001389,
          12.257129260013889,
          20.942060766863204,
          57.320547945205476,
          50.5972602739726,
          48.59137583535635,
          null,
          null,
          null,
          47.36671830110978,
          41.840690903849506,
          74.93384158878101,
          6.574937479191972,
          13.783156657274164,
          15.492745698370054,
          11.75575939700019,
          91.06027397260274,
          70.07397260273973,
          83.83287671232877,
          null,
          null,
          null,
          null,
          null,
          68.83247172576732,
          63.843430629876906,
          64.77767720521936,
          38.02699227371252,
          41.8461703559043,
          null,
          63.4461703559043,
          null,
          null,
          null,
          null,
          null,
          null,
          null,
          null,
          null,
          78.43561643835616,
          null,
          85.22739726027397,
          74.68493150684931,
          21.013698630136986,
          null,
          null,
          null,
          71.8986301369863,
          48.0986301369863,
          76.23013698630137,
          68.96712328767123,
          null,
          null,
          null,
          null,
          null,
          null,
          null,
          47.28178679426046,
          null,
          null,
          null,
          34.33658131480841,
          null,
          null,
          11.550279944945396,
          null,
          null,
          null,
          null,
          null,
          null,
          null,
          null,
          null,
          null,
          null,
          null,
          null,
          null,
          null,
          47.49041095890411,
          44.32014295864403,
          null,
          null,
          null,
          null,
          52.673567616178275,
          76.6352114517947,
          69.88726624631526,
          61.78082191780822,
          73.48178679426046,
          74.71192378056183,
          49.432471725767314,
          41.8489100819317,
          43.31780821917808,
          3.0027397260273974,
          67.08493150684932,
          66.65753424657534,
          39.347945205479455,
          null,
          null,
          null,
          null,
          null,
          null,
          34.88219178082192,
          null,
          53.63795117782211,
          null,
          23.807814191520738,
          78.0461703559043,
          23.511923780561833,
          62.56123884905499,
          20.761238849054987,
          52.16397857508238,
          82.21095890410959,
          null,
          null,
          null,
          null,
          null,
          null,
          null,
          null,
          null,
          null,
          null,
          null,
          null,
          null,
          null,
          null,
          null,
          73.45438953398649,
          49.25712926001389,
          null,
          null,
          null,
          null,
          null,
          null,
          null,
          null,
          null,
          null,
          null,
          null,
          null,
          null,
          null,
          null,
          null,
          null,
          null,
          null,
          null
         ]
        },
        {
         "box": {
          "visible": true
         },
         "line": {
          "color": "pink"
         },
         "meanline": {
          "visible": true
         },
         "name": "Female",
         "points": "all",
         "side": "positive",
         "type": "violin",
         "x": [
          "Living",
          "Deceased",
          "Deceased",
          "Living",
          "Living",
          "Living",
          "Living",
          "Deceased",
          "Living",
          "Living",
          "Living",
          "Living",
          "Living",
          "Living",
          "Living",
          "Living",
          "Living",
          "Living",
          "Living",
          "Living",
          "Living",
          "Living",
          "Deceased",
          "Deceased",
          "Deceased",
          "Living",
          "Living",
          "Deceased",
          "Living",
          "Living",
          "Living",
          "Living",
          "Living",
          "Living",
          "Living",
          "Deceased",
          "Deceased",
          "Living",
          "Living",
          "Living",
          "Living",
          "Deceased",
          "Deceased",
          "Living",
          "Living",
          "Living",
          "Living",
          "Living",
          "Living",
          "Living",
          "Living",
          "Living",
          "Living",
          "Living",
          "Living",
          "Living",
          "Living",
          "Living",
          "Living",
          "Living",
          "Deceased",
          "Living",
          "Living",
          "Deceased",
          "Living",
          "Living",
          "Deceased",
          "Living",
          "Living",
          "Deceased",
          "Deceased",
          "Living",
          "Living",
          "Living",
          "Living",
          "Deceased",
          "Living",
          "Living",
          "Deceased",
          "Deceased",
          "Deceased",
          "Deceased",
          "Living",
          "Deceased",
          "Living",
          "Living",
          "Living",
          "Living",
          "Deceased",
          "Living",
          "Living",
          "Living",
          "Deceased",
          "Living",
          "Living",
          "Living",
          "Living",
          "Living",
          "Living",
          "Living",
          "Living",
          "Living",
          "Living",
          "Living",
          "Living",
          "Living",
          "Living",
          "Living",
          "Living",
          "Living",
          "Living",
          "Living",
          "Living",
          "Living",
          "Living",
          "Living",
          "Living",
          "Living",
          "Living",
          "Living",
          "Living",
          "Deceased",
          "Deceased",
          "Living",
          "Living",
          "Living",
          "Living",
          "Living",
          "Living",
          "Living",
          "Living",
          "Living",
          "Living",
          "Living",
          "Deceased"
         ],
         "y": [
          85.13384158878101,
          87.63287671232877,
          null,
          48.27630734220567,
          9.53658131480841,
          26.52836213672622,
          71.98863610932895,
          76.25753424657535,
          44.36945802713718,
          44.36945802713718,
          41.624252547685124,
          null,
          null,
          null,
          74.96397857508238,
          16.142060766863203,
          50.462608712068686,
          9.235211451794711,
          null,
          7.051649807959095,
          96.25164980795908,
          63.0434306298769,
          88.61643835616438,
          64.9041095890411,
          null,
          null,
          null,
          null,
          null,
          null,
          47.59411556138375,
          37.90096487645224,
          42.224252547685126,
          null,
          null,
          79.02465753424657,
          null,
          81.45712926001389,
          null,
          null,
          null,
          null,
          66.04383561643836,
          null,
          null,
          null,
          null,
          null,
          null,
          null,
          null,
          null,
          null,
          null,
          null,
          null,
          null,
          null,
          null,
          null,
          74.04657534246576,
          null,
          null,
          50.9041095890411,
          83.72014295864402,
          53.01877309563033,
          95.1945205479452,
          null,
          null,
          91.40821917808219,
          7.002739726027397,
          83.29274569837004,
          49.5420607668632,
          33.88726624631526,
          25.13658131480841,
          89.94246575342466,
          67.98041693124676,
          null,
          82.5068493150685,
          97.07123287671233,
          77.13424657534246,
          33.0958904109589,
          null,
          92.06027397260274,
          null,
          null,
          null,
          null,
          86.06027397260274,
          86.91192378056182,
          53.78589638330156,
          44.311923780561834,
          null,
          null,
          null,
          null,
          null,
          null,
          null,
          null,
          null,
          null,
          null,
          null,
          null,
          null,
          null,
          null,
          null,
          74.76671830110978,
          45.92836213672622,
          31.133841588781014,
          null,
          null,
          75.27904706823306,
          43.99137583535636,
          null,
          null,
          null,
          48.57493747919197,
          40.58863610932896,
          null,
          null,
          null,
          null,
          null,
          null,
          null,
          null,
          null,
          null,
          null,
          14.870827890150876,
          64.89274569837005,
          null
         ]
        }
       ],
       "layout": {
        "template": {
         "data": {
          "bar": [
           {
            "error_x": {
             "color": "#f2f5fa"
            },
            "error_y": {
             "color": "#f2f5fa"
            },
            "marker": {
             "line": {
              "color": "rgb(17,17,17)",
              "width": 0.5
             },
             "pattern": {
              "fillmode": "overlay",
              "size": 10,
              "solidity": 0.2
             }
            },
            "type": "bar"
           }
          ],
          "barpolar": [
           {
            "marker": {
             "line": {
              "color": "rgb(17,17,17)",
              "width": 0.5
             },
             "pattern": {
              "fillmode": "overlay",
              "size": 10,
              "solidity": 0.2
             }
            },
            "type": "barpolar"
           }
          ],
          "carpet": [
           {
            "aaxis": {
             "endlinecolor": "#A2B1C6",
             "gridcolor": "#506784",
             "linecolor": "#506784",
             "minorgridcolor": "#506784",
             "startlinecolor": "#A2B1C6"
            },
            "baxis": {
             "endlinecolor": "#A2B1C6",
             "gridcolor": "#506784",
             "linecolor": "#506784",
             "minorgridcolor": "#506784",
             "startlinecolor": "#A2B1C6"
            },
            "type": "carpet"
           }
          ],
          "choropleth": [
           {
            "colorbar": {
             "outlinewidth": 0,
             "ticks": ""
            },
            "type": "choropleth"
           }
          ],
          "contour": [
           {
            "colorbar": {
             "outlinewidth": 0,
             "ticks": ""
            },
            "colorscale": [
             [
              0,
              "#0d0887"
             ],
             [
              0.1111111111111111,
              "#46039f"
             ],
             [
              0.2222222222222222,
              "#7201a8"
             ],
             [
              0.3333333333333333,
              "#9c179e"
             ],
             [
              0.4444444444444444,
              "#bd3786"
             ],
             [
              0.5555555555555556,
              "#d8576b"
             ],
             [
              0.6666666666666666,
              "#ed7953"
             ],
             [
              0.7777777777777778,
              "#fb9f3a"
             ],
             [
              0.8888888888888888,
              "#fdca26"
             ],
             [
              1,
              "#f0f921"
             ]
            ],
            "type": "contour"
           }
          ],
          "contourcarpet": [
           {
            "colorbar": {
             "outlinewidth": 0,
             "ticks": ""
            },
            "type": "contourcarpet"
           }
          ],
          "heatmap": [
           {
            "colorbar": {
             "outlinewidth": 0,
             "ticks": ""
            },
            "colorscale": [
             [
              0,
              "#0d0887"
             ],
             [
              0.1111111111111111,
              "#46039f"
             ],
             [
              0.2222222222222222,
              "#7201a8"
             ],
             [
              0.3333333333333333,
              "#9c179e"
             ],
             [
              0.4444444444444444,
              "#bd3786"
             ],
             [
              0.5555555555555556,
              "#d8576b"
             ],
             [
              0.6666666666666666,
              "#ed7953"
             ],
             [
              0.7777777777777778,
              "#fb9f3a"
             ],
             [
              0.8888888888888888,
              "#fdca26"
             ],
             [
              1,
              "#f0f921"
             ]
            ],
            "type": "heatmap"
           }
          ],
          "heatmapgl": [
           {
            "colorbar": {
             "outlinewidth": 0,
             "ticks": ""
            },
            "colorscale": [
             [
              0,
              "#0d0887"
             ],
             [
              0.1111111111111111,
              "#46039f"
             ],
             [
              0.2222222222222222,
              "#7201a8"
             ],
             [
              0.3333333333333333,
              "#9c179e"
             ],
             [
              0.4444444444444444,
              "#bd3786"
             ],
             [
              0.5555555555555556,
              "#d8576b"
             ],
             [
              0.6666666666666666,
              "#ed7953"
             ],
             [
              0.7777777777777778,
              "#fb9f3a"
             ],
             [
              0.8888888888888888,
              "#fdca26"
             ],
             [
              1,
              "#f0f921"
             ]
            ],
            "type": "heatmapgl"
           }
          ],
          "histogram": [
           {
            "marker": {
             "pattern": {
              "fillmode": "overlay",
              "size": 10,
              "solidity": 0.2
             }
            },
            "type": "histogram"
           }
          ],
          "histogram2d": [
           {
            "colorbar": {
             "outlinewidth": 0,
             "ticks": ""
            },
            "colorscale": [
             [
              0,
              "#0d0887"
             ],
             [
              0.1111111111111111,
              "#46039f"
             ],
             [
              0.2222222222222222,
              "#7201a8"
             ],
             [
              0.3333333333333333,
              "#9c179e"
             ],
             [
              0.4444444444444444,
              "#bd3786"
             ],
             [
              0.5555555555555556,
              "#d8576b"
             ],
             [
              0.6666666666666666,
              "#ed7953"
             ],
             [
              0.7777777777777778,
              "#fb9f3a"
             ],
             [
              0.8888888888888888,
              "#fdca26"
             ],
             [
              1,
              "#f0f921"
             ]
            ],
            "type": "histogram2d"
           }
          ],
          "histogram2dcontour": [
           {
            "colorbar": {
             "outlinewidth": 0,
             "ticks": ""
            },
            "colorscale": [
             [
              0,
              "#0d0887"
             ],
             [
              0.1111111111111111,
              "#46039f"
             ],
             [
              0.2222222222222222,
              "#7201a8"
             ],
             [
              0.3333333333333333,
              "#9c179e"
             ],
             [
              0.4444444444444444,
              "#bd3786"
             ],
             [
              0.5555555555555556,
              "#d8576b"
             ],
             [
              0.6666666666666666,
              "#ed7953"
             ],
             [
              0.7777777777777778,
              "#fb9f3a"
             ],
             [
              0.8888888888888888,
              "#fdca26"
             ],
             [
              1,
              "#f0f921"
             ]
            ],
            "type": "histogram2dcontour"
           }
          ],
          "mesh3d": [
           {
            "colorbar": {
             "outlinewidth": 0,
             "ticks": ""
            },
            "type": "mesh3d"
           }
          ],
          "parcoords": [
           {
            "line": {
             "colorbar": {
              "outlinewidth": 0,
              "ticks": ""
             }
            },
            "type": "parcoords"
           }
          ],
          "pie": [
           {
            "automargin": true,
            "type": "pie"
           }
          ],
          "scatter": [
           {
            "marker": {
             "line": {
              "color": "#283442"
             }
            },
            "type": "scatter"
           }
          ],
          "scatter3d": [
           {
            "line": {
             "colorbar": {
              "outlinewidth": 0,
              "ticks": ""
             }
            },
            "marker": {
             "colorbar": {
              "outlinewidth": 0,
              "ticks": ""
             }
            },
            "type": "scatter3d"
           }
          ],
          "scattercarpet": [
           {
            "marker": {
             "colorbar": {
              "outlinewidth": 0,
              "ticks": ""
             }
            },
            "type": "scattercarpet"
           }
          ],
          "scattergeo": [
           {
            "marker": {
             "colorbar": {
              "outlinewidth": 0,
              "ticks": ""
             }
            },
            "type": "scattergeo"
           }
          ],
          "scattergl": [
           {
            "marker": {
             "line": {
              "color": "#283442"
             }
            },
            "type": "scattergl"
           }
          ],
          "scattermapbox": [
           {
            "marker": {
             "colorbar": {
              "outlinewidth": 0,
              "ticks": ""
             }
            },
            "type": "scattermapbox"
           }
          ],
          "scatterpolar": [
           {
            "marker": {
             "colorbar": {
              "outlinewidth": 0,
              "ticks": ""
             }
            },
            "type": "scatterpolar"
           }
          ],
          "scatterpolargl": [
           {
            "marker": {
             "colorbar": {
              "outlinewidth": 0,
              "ticks": ""
             }
            },
            "type": "scatterpolargl"
           }
          ],
          "scatterternary": [
           {
            "marker": {
             "colorbar": {
              "outlinewidth": 0,
              "ticks": ""
             }
            },
            "type": "scatterternary"
           }
          ],
          "surface": [
           {
            "colorbar": {
             "outlinewidth": 0,
             "ticks": ""
            },
            "colorscale": [
             [
              0,
              "#0d0887"
             ],
             [
              0.1111111111111111,
              "#46039f"
             ],
             [
              0.2222222222222222,
              "#7201a8"
             ],
             [
              0.3333333333333333,
              "#9c179e"
             ],
             [
              0.4444444444444444,
              "#bd3786"
             ],
             [
              0.5555555555555556,
              "#d8576b"
             ],
             [
              0.6666666666666666,
              "#ed7953"
             ],
             [
              0.7777777777777778,
              "#fb9f3a"
             ],
             [
              0.8888888888888888,
              "#fdca26"
             ],
             [
              1,
              "#f0f921"
             ]
            ],
            "type": "surface"
           }
          ],
          "table": [
           {
            "cells": {
             "fill": {
              "color": "#506784"
             },
             "line": {
              "color": "rgb(17,17,17)"
             }
            },
            "header": {
             "fill": {
              "color": "#2a3f5f"
             },
             "line": {
              "color": "rgb(17,17,17)"
             }
            },
            "type": "table"
           }
          ]
         },
         "layout": {
          "annotationdefaults": {
           "arrowcolor": "#f2f5fa",
           "arrowhead": 0,
           "arrowwidth": 1
          },
          "autotypenumbers": "strict",
          "coloraxis": {
           "colorbar": {
            "outlinewidth": 0,
            "ticks": ""
           }
          },
          "colorscale": {
           "diverging": [
            [
             0,
             "#8e0152"
            ],
            [
             0.1,
             "#c51b7d"
            ],
            [
             0.2,
             "#de77ae"
            ],
            [
             0.3,
             "#f1b6da"
            ],
            [
             0.4,
             "#fde0ef"
            ],
            [
             0.5,
             "#f7f7f7"
            ],
            [
             0.6,
             "#e6f5d0"
            ],
            [
             0.7,
             "#b8e186"
            ],
            [
             0.8,
             "#7fbc41"
            ],
            [
             0.9,
             "#4d9221"
            ],
            [
             1,
             "#276419"
            ]
           ],
           "sequential": [
            [
             0,
             "#0d0887"
            ],
            [
             0.1111111111111111,
             "#46039f"
            ],
            [
             0.2222222222222222,
             "#7201a8"
            ],
            [
             0.3333333333333333,
             "#9c179e"
            ],
            [
             0.4444444444444444,
             "#bd3786"
            ],
            [
             0.5555555555555556,
             "#d8576b"
            ],
            [
             0.6666666666666666,
             "#ed7953"
            ],
            [
             0.7777777777777778,
             "#fb9f3a"
            ],
            [
             0.8888888888888888,
             "#fdca26"
            ],
            [
             1,
             "#f0f921"
            ]
           ],
           "sequentialminus": [
            [
             0,
             "#0d0887"
            ],
            [
             0.1111111111111111,
             "#46039f"
            ],
            [
             0.2222222222222222,
             "#7201a8"
            ],
            [
             0.3333333333333333,
             "#9c179e"
            ],
            [
             0.4444444444444444,
             "#bd3786"
            ],
            [
             0.5555555555555556,
             "#d8576b"
            ],
            [
             0.6666666666666666,
             "#ed7953"
            ],
            [
             0.7777777777777778,
             "#fb9f3a"
            ],
            [
             0.8888888888888888,
             "#fdca26"
            ],
            [
             1,
             "#f0f921"
            ]
           ]
          },
          "colorway": [
           "#636efa",
           "#EF553B",
           "#00cc96",
           "#ab63fa",
           "#FFA15A",
           "#19d3f3",
           "#FF6692",
           "#B6E880",
           "#FF97FF",
           "#FECB52"
          ],
          "font": {
           "color": "#f2f5fa"
          },
          "geo": {
           "bgcolor": "rgb(17,17,17)",
           "lakecolor": "rgb(17,17,17)",
           "landcolor": "rgb(17,17,17)",
           "showlakes": true,
           "showland": true,
           "subunitcolor": "#506784"
          },
          "hoverlabel": {
           "align": "left"
          },
          "hovermode": "closest",
          "mapbox": {
           "style": "dark"
          },
          "paper_bgcolor": "rgb(17,17,17)",
          "plot_bgcolor": "rgb(17,17,17)",
          "polar": {
           "angularaxis": {
            "gridcolor": "#506784",
            "linecolor": "#506784",
            "ticks": ""
           },
           "bgcolor": "rgb(17,17,17)",
           "radialaxis": {
            "gridcolor": "#506784",
            "linecolor": "#506784",
            "ticks": ""
           }
          },
          "scene": {
           "xaxis": {
            "backgroundcolor": "rgb(17,17,17)",
            "gridcolor": "#506784",
            "gridwidth": 2,
            "linecolor": "#506784",
            "showbackground": true,
            "ticks": "",
            "zerolinecolor": "#C8D4E3"
           },
           "yaxis": {
            "backgroundcolor": "rgb(17,17,17)",
            "gridcolor": "#506784",
            "gridwidth": 2,
            "linecolor": "#506784",
            "showbackground": true,
            "ticks": "",
            "zerolinecolor": "#C8D4E3"
           },
           "zaxis": {
            "backgroundcolor": "rgb(17,17,17)",
            "gridcolor": "#506784",
            "gridwidth": 2,
            "linecolor": "#506784",
            "showbackground": true,
            "ticks": "",
            "zerolinecolor": "#C8D4E3"
           }
          },
          "shapedefaults": {
           "line": {
            "color": "#f2f5fa"
           }
          },
          "sliderdefaults": {
           "bgcolor": "#C8D4E3",
           "bordercolor": "rgb(17,17,17)",
           "borderwidth": 1,
           "tickwidth": 0
          },
          "ternary": {
           "aaxis": {
            "gridcolor": "#506784",
            "linecolor": "#506784",
            "ticks": ""
           },
           "baxis": {
            "gridcolor": "#506784",
            "linecolor": "#506784",
            "ticks": ""
           },
           "bgcolor": "rgb(17,17,17)",
           "caxis": {
            "gridcolor": "#506784",
            "linecolor": "#506784",
            "ticks": ""
           }
          },
          "title": {
           "x": 0.05
          },
          "updatemenudefaults": {
           "bgcolor": "#506784",
           "borderwidth": 0
          },
          "xaxis": {
           "automargin": true,
           "gridcolor": "#283442",
           "linecolor": "#506784",
           "ticks": "",
           "title": {
            "standoff": 15
           },
           "zerolinecolor": "#283442",
           "zerolinewidth": 2
          },
          "yaxis": {
           "automargin": true,
           "gridcolor": "#283442",
           "linecolor": "#506784",
           "ticks": "",
           "title": {
            "standoff": 15
           },
           "zerolinecolor": "#283442",
           "zerolinewidth": 2
          }
         }
        },
        "title": {
         "text": "Life duration expectation"
        },
        "violingap": 0,
        "violinmode": "overlay",
        "yaxis": {
         "range": [
          0,
          100
         ],
         "title": {
          "text": "Age (years)"
         }
        }
       }
      }
     },
     "metadata": {},
     "output_type": "display_data"
    }
   ],
   "source": [
    "# fig = violin(\n",
    "#     dtf,\n",
    "#     y=\"LifeDuration\",\n",
    "#     x=\"Status\",\n",
    "#     color=\"Gender\",\n",
    "#     box=True,\n",
    "#     points=\"all\",\n",
    "#     hover_data=dtf.columns,\n",
    "# )\n",
    "\n",
    "fig = Figure()\n",
    "\n",
    "fig.add_trace(\n",
    "    Violin(\n",
    "        x=dtf[\"Status\"][dtf[\"Gender\"] == \"Male\"],\n",
    "        y=dtf[\"LifeDuration\"][dtf[\"Gender\"] == \"Male\"],\n",
    "        # legendgroup=\"Gender\",\n",
    "        # scalegroup=\"Yes\",\n",
    "        name=\"Male\",\n",
    "        side=\"negative\",\n",
    "        line_color=\"blue\",\n",
    "        box_visible=True,\n",
    "    )\n",
    ")\n",
    "\n",
    "fig.add_trace(\n",
    "    Violin(\n",
    "        x=dtf[\"Status\"][dtf[\"Gender\"] == \"Female\"],\n",
    "        y=dtf[\"LifeDuration\"][dtf[\"Gender\"] == \"Female\"],\n",
    "        # legendgroup=\"Gender\",\n",
    "        # scalegroup=\"Yes\",\n",
    "        name=\"Female\",\n",
    "        side=\"positive\",\n",
    "        line_color=\"pink\",\n",
    "    )\n",
    ")\n",
    "\n",
    "fig.update_yaxes(range=[0, 100], title=\"Age (years)\")\n",
    "fig.update_traces(meanline_visible=True, box_visible=True, points=\"all\")\n",
    "fig.update_layout(\n",
    "    violingap=0, violinmode=\"overlay\", title_text=\"Life duration expectation\"\n",
    ")\n",
    "fig.write_html(\"FamilyLiveExpectationViolin.html\")\n",
    "fig\n"
   ]
  },
  {
   "cell_type": "code",
   "execution_count": 402,
   "metadata": {},
   "outputs": [
    {
     "data": {
      "application/vnd.plotly.v1+json": {
       "config": {
        "plotlyServerURL": "https://plot.ly"
       },
       "data": [
        {
         "alignmentgroup": "True",
         "hovertemplate": "BirthCity=%{x}<br>Count=%{y}<extra></extra>",
         "legendgroup": "",
         "marker": {
          "color": "#636efa",
          "pattern": {
           "shape": ""
          }
         },
         "name": "",
         "offsetgroup": "",
         "orientation": "v",
         "showlegend": false,
         "textposition": "auto",
         "type": "bar",
         "x": [
          "Unknown",
          "Sofia",
          "Babitsa",
          "Dobrich",
          "Pernik",
          "Samokov",
          "Ruse",
          "Simitli",
          "Bregare",
          "Montpellier",
          "London",
          "Plovdiv",
          "Novi Sad",
          "Svishtov",
          "Kotel",
          "Konstantin",
          "Slakovtsi",
          "Troyan",
          "Suhindol",
          "Sopot",
          "Tucson",
          "Varbovo",
          "Volgograd",
          "Vratsa",
          "Yarlovo",
          "Zlataritsa",
          "Pleven",
          "Shiroka Luka",
          "Sevlievo",
          "Santa Fe",
          "Odrin",
          "Lyutibrod",
          "Lom",
          "Kubratovo",
          "Karlovo",
          "Ihtiman",
          "France",
          "Byala",
          "Busintsi",
          "Bitola",
          "Zlatograd"
         ],
         "xaxis": "x",
         "y": [
          127,
          63,
          29,
          8,
          8,
          6,
          6,
          5,
          4,
          4,
          3,
          2,
          2,
          2,
          2,
          2,
          2,
          1,
          1,
          1,
          1,
          1,
          1,
          1,
          1,
          1,
          1,
          1,
          1,
          1,
          1,
          1,
          1,
          1,
          1,
          1,
          1,
          1,
          1,
          1,
          1
         ],
         "yaxis": "y"
        }
       ],
       "layout": {
        "barmode": "relative",
        "legend": {
         "tracegroupgap": 0
        },
        "template": {
         "data": {
          "bar": [
           {
            "error_x": {
             "color": "#f2f5fa"
            },
            "error_y": {
             "color": "#f2f5fa"
            },
            "marker": {
             "line": {
              "color": "rgb(17,17,17)",
              "width": 0.5
             },
             "pattern": {
              "fillmode": "overlay",
              "size": 10,
              "solidity": 0.2
             }
            },
            "type": "bar"
           }
          ],
          "barpolar": [
           {
            "marker": {
             "line": {
              "color": "rgb(17,17,17)",
              "width": 0.5
             },
             "pattern": {
              "fillmode": "overlay",
              "size": 10,
              "solidity": 0.2
             }
            },
            "type": "barpolar"
           }
          ],
          "carpet": [
           {
            "aaxis": {
             "endlinecolor": "#A2B1C6",
             "gridcolor": "#506784",
             "linecolor": "#506784",
             "minorgridcolor": "#506784",
             "startlinecolor": "#A2B1C6"
            },
            "baxis": {
             "endlinecolor": "#A2B1C6",
             "gridcolor": "#506784",
             "linecolor": "#506784",
             "minorgridcolor": "#506784",
             "startlinecolor": "#A2B1C6"
            },
            "type": "carpet"
           }
          ],
          "choropleth": [
           {
            "colorbar": {
             "outlinewidth": 0,
             "ticks": ""
            },
            "type": "choropleth"
           }
          ],
          "contour": [
           {
            "colorbar": {
             "outlinewidth": 0,
             "ticks": ""
            },
            "colorscale": [
             [
              0,
              "#0d0887"
             ],
             [
              0.1111111111111111,
              "#46039f"
             ],
             [
              0.2222222222222222,
              "#7201a8"
             ],
             [
              0.3333333333333333,
              "#9c179e"
             ],
             [
              0.4444444444444444,
              "#bd3786"
             ],
             [
              0.5555555555555556,
              "#d8576b"
             ],
             [
              0.6666666666666666,
              "#ed7953"
             ],
             [
              0.7777777777777778,
              "#fb9f3a"
             ],
             [
              0.8888888888888888,
              "#fdca26"
             ],
             [
              1,
              "#f0f921"
             ]
            ],
            "type": "contour"
           }
          ],
          "contourcarpet": [
           {
            "colorbar": {
             "outlinewidth": 0,
             "ticks": ""
            },
            "type": "contourcarpet"
           }
          ],
          "heatmap": [
           {
            "colorbar": {
             "outlinewidth": 0,
             "ticks": ""
            },
            "colorscale": [
             [
              0,
              "#0d0887"
             ],
             [
              0.1111111111111111,
              "#46039f"
             ],
             [
              0.2222222222222222,
              "#7201a8"
             ],
             [
              0.3333333333333333,
              "#9c179e"
             ],
             [
              0.4444444444444444,
              "#bd3786"
             ],
             [
              0.5555555555555556,
              "#d8576b"
             ],
             [
              0.6666666666666666,
              "#ed7953"
             ],
             [
              0.7777777777777778,
              "#fb9f3a"
             ],
             [
              0.8888888888888888,
              "#fdca26"
             ],
             [
              1,
              "#f0f921"
             ]
            ],
            "type": "heatmap"
           }
          ],
          "heatmapgl": [
           {
            "colorbar": {
             "outlinewidth": 0,
             "ticks": ""
            },
            "colorscale": [
             [
              0,
              "#0d0887"
             ],
             [
              0.1111111111111111,
              "#46039f"
             ],
             [
              0.2222222222222222,
              "#7201a8"
             ],
             [
              0.3333333333333333,
              "#9c179e"
             ],
             [
              0.4444444444444444,
              "#bd3786"
             ],
             [
              0.5555555555555556,
              "#d8576b"
             ],
             [
              0.6666666666666666,
              "#ed7953"
             ],
             [
              0.7777777777777778,
              "#fb9f3a"
             ],
             [
              0.8888888888888888,
              "#fdca26"
             ],
             [
              1,
              "#f0f921"
             ]
            ],
            "type": "heatmapgl"
           }
          ],
          "histogram": [
           {
            "marker": {
             "pattern": {
              "fillmode": "overlay",
              "size": 10,
              "solidity": 0.2
             }
            },
            "type": "histogram"
           }
          ],
          "histogram2d": [
           {
            "colorbar": {
             "outlinewidth": 0,
             "ticks": ""
            },
            "colorscale": [
             [
              0,
              "#0d0887"
             ],
             [
              0.1111111111111111,
              "#46039f"
             ],
             [
              0.2222222222222222,
              "#7201a8"
             ],
             [
              0.3333333333333333,
              "#9c179e"
             ],
             [
              0.4444444444444444,
              "#bd3786"
             ],
             [
              0.5555555555555556,
              "#d8576b"
             ],
             [
              0.6666666666666666,
              "#ed7953"
             ],
             [
              0.7777777777777778,
              "#fb9f3a"
             ],
             [
              0.8888888888888888,
              "#fdca26"
             ],
             [
              1,
              "#f0f921"
             ]
            ],
            "type": "histogram2d"
           }
          ],
          "histogram2dcontour": [
           {
            "colorbar": {
             "outlinewidth": 0,
             "ticks": ""
            },
            "colorscale": [
             [
              0,
              "#0d0887"
             ],
             [
              0.1111111111111111,
              "#46039f"
             ],
             [
              0.2222222222222222,
              "#7201a8"
             ],
             [
              0.3333333333333333,
              "#9c179e"
             ],
             [
              0.4444444444444444,
              "#bd3786"
             ],
             [
              0.5555555555555556,
              "#d8576b"
             ],
             [
              0.6666666666666666,
              "#ed7953"
             ],
             [
              0.7777777777777778,
              "#fb9f3a"
             ],
             [
              0.8888888888888888,
              "#fdca26"
             ],
             [
              1,
              "#f0f921"
             ]
            ],
            "type": "histogram2dcontour"
           }
          ],
          "mesh3d": [
           {
            "colorbar": {
             "outlinewidth": 0,
             "ticks": ""
            },
            "type": "mesh3d"
           }
          ],
          "parcoords": [
           {
            "line": {
             "colorbar": {
              "outlinewidth": 0,
              "ticks": ""
             }
            },
            "type": "parcoords"
           }
          ],
          "pie": [
           {
            "automargin": true,
            "type": "pie"
           }
          ],
          "scatter": [
           {
            "marker": {
             "line": {
              "color": "#283442"
             }
            },
            "type": "scatter"
           }
          ],
          "scatter3d": [
           {
            "line": {
             "colorbar": {
              "outlinewidth": 0,
              "ticks": ""
             }
            },
            "marker": {
             "colorbar": {
              "outlinewidth": 0,
              "ticks": ""
             }
            },
            "type": "scatter3d"
           }
          ],
          "scattercarpet": [
           {
            "marker": {
             "colorbar": {
              "outlinewidth": 0,
              "ticks": ""
             }
            },
            "type": "scattercarpet"
           }
          ],
          "scattergeo": [
           {
            "marker": {
             "colorbar": {
              "outlinewidth": 0,
              "ticks": ""
             }
            },
            "type": "scattergeo"
           }
          ],
          "scattergl": [
           {
            "marker": {
             "line": {
              "color": "#283442"
             }
            },
            "type": "scattergl"
           }
          ],
          "scattermapbox": [
           {
            "marker": {
             "colorbar": {
              "outlinewidth": 0,
              "ticks": ""
             }
            },
            "type": "scattermapbox"
           }
          ],
          "scatterpolar": [
           {
            "marker": {
             "colorbar": {
              "outlinewidth": 0,
              "ticks": ""
             }
            },
            "type": "scatterpolar"
           }
          ],
          "scatterpolargl": [
           {
            "marker": {
             "colorbar": {
              "outlinewidth": 0,
              "ticks": ""
             }
            },
            "type": "scatterpolargl"
           }
          ],
          "scatterternary": [
           {
            "marker": {
             "colorbar": {
              "outlinewidth": 0,
              "ticks": ""
             }
            },
            "type": "scatterternary"
           }
          ],
          "surface": [
           {
            "colorbar": {
             "outlinewidth": 0,
             "ticks": ""
            },
            "colorscale": [
             [
              0,
              "#0d0887"
             ],
             [
              0.1111111111111111,
              "#46039f"
             ],
             [
              0.2222222222222222,
              "#7201a8"
             ],
             [
              0.3333333333333333,
              "#9c179e"
             ],
             [
              0.4444444444444444,
              "#bd3786"
             ],
             [
              0.5555555555555556,
              "#d8576b"
             ],
             [
              0.6666666666666666,
              "#ed7953"
             ],
             [
              0.7777777777777778,
              "#fb9f3a"
             ],
             [
              0.8888888888888888,
              "#fdca26"
             ],
             [
              1,
              "#f0f921"
             ]
            ],
            "type": "surface"
           }
          ],
          "table": [
           {
            "cells": {
             "fill": {
              "color": "#506784"
             },
             "line": {
              "color": "rgb(17,17,17)"
             }
            },
            "header": {
             "fill": {
              "color": "#2a3f5f"
             },
             "line": {
              "color": "rgb(17,17,17)"
             }
            },
            "type": "table"
           }
          ]
         },
         "layout": {
          "annotationdefaults": {
           "arrowcolor": "#f2f5fa",
           "arrowhead": 0,
           "arrowwidth": 1
          },
          "autotypenumbers": "strict",
          "coloraxis": {
           "colorbar": {
            "outlinewidth": 0,
            "ticks": ""
           }
          },
          "colorscale": {
           "diverging": [
            [
             0,
             "#8e0152"
            ],
            [
             0.1,
             "#c51b7d"
            ],
            [
             0.2,
             "#de77ae"
            ],
            [
             0.3,
             "#f1b6da"
            ],
            [
             0.4,
             "#fde0ef"
            ],
            [
             0.5,
             "#f7f7f7"
            ],
            [
             0.6,
             "#e6f5d0"
            ],
            [
             0.7,
             "#b8e186"
            ],
            [
             0.8,
             "#7fbc41"
            ],
            [
             0.9,
             "#4d9221"
            ],
            [
             1,
             "#276419"
            ]
           ],
           "sequential": [
            [
             0,
             "#0d0887"
            ],
            [
             0.1111111111111111,
             "#46039f"
            ],
            [
             0.2222222222222222,
             "#7201a8"
            ],
            [
             0.3333333333333333,
             "#9c179e"
            ],
            [
             0.4444444444444444,
             "#bd3786"
            ],
            [
             0.5555555555555556,
             "#d8576b"
            ],
            [
             0.6666666666666666,
             "#ed7953"
            ],
            [
             0.7777777777777778,
             "#fb9f3a"
            ],
            [
             0.8888888888888888,
             "#fdca26"
            ],
            [
             1,
             "#f0f921"
            ]
           ],
           "sequentialminus": [
            [
             0,
             "#0d0887"
            ],
            [
             0.1111111111111111,
             "#46039f"
            ],
            [
             0.2222222222222222,
             "#7201a8"
            ],
            [
             0.3333333333333333,
             "#9c179e"
            ],
            [
             0.4444444444444444,
             "#bd3786"
            ],
            [
             0.5555555555555556,
             "#d8576b"
            ],
            [
             0.6666666666666666,
             "#ed7953"
            ],
            [
             0.7777777777777778,
             "#fb9f3a"
            ],
            [
             0.8888888888888888,
             "#fdca26"
            ],
            [
             1,
             "#f0f921"
            ]
           ]
          },
          "colorway": [
           "#636efa",
           "#EF553B",
           "#00cc96",
           "#ab63fa",
           "#FFA15A",
           "#19d3f3",
           "#FF6692",
           "#B6E880",
           "#FF97FF",
           "#FECB52"
          ],
          "font": {
           "color": "#f2f5fa"
          },
          "geo": {
           "bgcolor": "rgb(17,17,17)",
           "lakecolor": "rgb(17,17,17)",
           "landcolor": "rgb(17,17,17)",
           "showlakes": true,
           "showland": true,
           "subunitcolor": "#506784"
          },
          "hoverlabel": {
           "align": "left"
          },
          "hovermode": "closest",
          "mapbox": {
           "style": "dark"
          },
          "paper_bgcolor": "rgb(17,17,17)",
          "plot_bgcolor": "rgb(17,17,17)",
          "polar": {
           "angularaxis": {
            "gridcolor": "#506784",
            "linecolor": "#506784",
            "ticks": ""
           },
           "bgcolor": "rgb(17,17,17)",
           "radialaxis": {
            "gridcolor": "#506784",
            "linecolor": "#506784",
            "ticks": ""
           }
          },
          "scene": {
           "xaxis": {
            "backgroundcolor": "rgb(17,17,17)",
            "gridcolor": "#506784",
            "gridwidth": 2,
            "linecolor": "#506784",
            "showbackground": true,
            "ticks": "",
            "zerolinecolor": "#C8D4E3"
           },
           "yaxis": {
            "backgroundcolor": "rgb(17,17,17)",
            "gridcolor": "#506784",
            "gridwidth": 2,
            "linecolor": "#506784",
            "showbackground": true,
            "ticks": "",
            "zerolinecolor": "#C8D4E3"
           },
           "zaxis": {
            "backgroundcolor": "rgb(17,17,17)",
            "gridcolor": "#506784",
            "gridwidth": 2,
            "linecolor": "#506784",
            "showbackground": true,
            "ticks": "",
            "zerolinecolor": "#C8D4E3"
           }
          },
          "shapedefaults": {
           "line": {
            "color": "#f2f5fa"
           }
          },
          "sliderdefaults": {
           "bgcolor": "#C8D4E3",
           "bordercolor": "rgb(17,17,17)",
           "borderwidth": 1,
           "tickwidth": 0
          },
          "ternary": {
           "aaxis": {
            "gridcolor": "#506784",
            "linecolor": "#506784",
            "ticks": ""
           },
           "baxis": {
            "gridcolor": "#506784",
            "linecolor": "#506784",
            "ticks": ""
           },
           "bgcolor": "rgb(17,17,17)",
           "caxis": {
            "gridcolor": "#506784",
            "linecolor": "#506784",
            "ticks": ""
           }
          },
          "title": {
           "x": 0.05
          },
          "updatemenudefaults": {
           "bgcolor": "#506784",
           "borderwidth": 0
          },
          "xaxis": {
           "automargin": true,
           "gridcolor": "#283442",
           "linecolor": "#506784",
           "ticks": "",
           "title": {
            "standoff": 15
           },
           "zerolinecolor": "#283442",
           "zerolinewidth": 2
          },
          "yaxis": {
           "automargin": true,
           "gridcolor": "#283442",
           "linecolor": "#506784",
           "ticks": "",
           "title": {
            "standoff": 15
           },
           "zerolinecolor": "#283442",
           "zerolinewidth": 2
          }
         }
        },
        "title": {
         "text": "My family tree origins"
        },
        "xaxis": {
         "anchor": "y",
         "domain": [
          0,
          1
         ],
         "title": {
          "text": "BirthCity"
         }
        },
        "yaxis": {
         "anchor": "x",
         "domain": [
          0,
          1
         ],
         "title": {
          "text": "Count"
         }
        }
       }
      }
     },
     "metadata": {},
     "output_type": "display_data"
    }
   ],
   "source": [
    "dtf2 = (\n",
    "    (\n",
    "        dtf[[\"BirthCity\"]]\n",
    "        .groupby([\"BirthCity\"])\n",
    "        .size()\n",
    "        .to_frame(\"Count\")\n",
    "        .sort_values(\"Count\", ascending=False)\n",
    "    )\n",
    "    .reset_index(drop=False)\n",
    "    .replace(\"\", \"Unknown\")\n",
    ")\n",
    "# print(dtf2)\n",
    "# dtf2\n",
    "# fig = bar(dtf2, y=\"Count\", x=\"BirthPlace\", title=\"My family tree origins\")\n",
    "fig = bar(dtf2, y=\"Count\", x=\"BirthCity\", title=\"My family tree origins\")\n",
    "fig.write_html(\"OriginHistogram.html\")\n",
    "fig\n"
   ]
  },
  {
   "cell_type": "code",
   "execution_count": 407,
   "metadata": {},
   "outputs": [
    {
     "data": {
      "application/vnd.plotly.v1+json": {
       "config": {
        "plotlyServerURL": "https://plot.ly"
       },
       "data": [
        {
         "branchvalues": "total",
         "domain": {
          "x": [
           0,
           1
          ],
          "y": [
           0,
           1
          ]
         },
         "hovertemplate": "labels=%{label}<br>Count=%{value}<br>parent=%{parent}<br>id=%{id}<extra></extra>",
         "ids": [
          "Bulgaria/Pernik/Babitsa",
          "North Macedonia/Pelagonia/Bitola",
          "Bulgaria/Pleven/Bregare",
          "Bulgaria/Pernik/Busintsi",
          "Bulgaria/Varna/Byala",
          "Bulgaria/Dobrich/Dobrich",
          "Unknown/Unknown/France",
          "Bulgaria/Sofia Province/Ihtiman",
          "Bulgaria/Plovdiv/Karlovo",
          "Bulgaria/Veliko Turnovo/Konstantin",
          "Bulgaria/Sliven/Kotel",
          "Bulgaria/Sofia City/Kubratovo",
          "Bulgaria/Montana/Lom",
          "England/London/London",
          "Bulgaria/Vratsa/Lyutibrod",
          "France/Occitanie/Montpellier",
          "Serbia/South Bačka/Novi Sad",
          "Montenegro/Bijelo Polje/Odrin",
          "Bulgaria/Pernik/Pernik",
          "Bulgaria/Pleven/Pleven",
          "Bulgaria/Plovdiv/Plovdiv",
          "Bulgaria/Ruse/Ruse",
          "Bulgaria/Sofia Province/Samokov",
          "USA/New Mexico/Santa Fe",
          "Bulgaria/Gabrovo/Sevlievo",
          "Bulgaria/Smolyan/Shiroka Luka",
          "Bulgaria/Blagoevgrad/Simitli",
          "Bulgaria/Pernik/Slakovtsi",
          "Bulgaria/Sofia City/Sofia",
          "Bulgaria/Plovdiv/Sopot",
          "Bulgaria/Veliko Tarnovo/Suhindol",
          "Bulgaria/Veliko Turnovo/Svishtov",
          "Bulgaria/Lovech/Troyan",
          "USA/Arizona/Tucson",
          "Unknown/Unknown/Unknown",
          "Unknown/Bulgaria/Varbovo",
          "Russia/Volgograd/Volgograd",
          "Bulgaria/Vratsa/Vratsa",
          "Bulgaria/ Sofia Province/Yarlovo",
          "Bulgaria/Veliko Turnovo/Zlataritsa",
          "Bulgaria/Smolyan/Zlatograd",
          "Bulgaria/ Sofia Province",
          "USA/Arizona",
          "Montenegro/Bijelo Polje",
          "Bulgaria/Blagoevgrad",
          "Unknown/Bulgaria",
          "Bulgaria/Dobrich",
          "Bulgaria/Gabrovo",
          "England/London",
          "Bulgaria/Lovech",
          "Bulgaria/Montana",
          "USA/New Mexico",
          "France/Occitanie",
          "North Macedonia/Pelagonia",
          "Bulgaria/Pernik",
          "Bulgaria/Pleven",
          "Bulgaria/Plovdiv",
          "Bulgaria/Ruse",
          "Bulgaria/Sliven",
          "Bulgaria/Smolyan",
          "Bulgaria/Sofia City",
          "Bulgaria/Sofia Province",
          "Serbia/South Bačka",
          "Unknown/Unknown",
          "Bulgaria/Varna",
          "Bulgaria/Veliko Tarnovo",
          "Bulgaria/Veliko Turnovo",
          "Russia/Volgograd",
          "Bulgaria/Vratsa",
          "Bulgaria",
          "England",
          "France",
          "Montenegro",
          "North Macedonia",
          "Russia",
          "Serbia",
          "USA",
          "Unknown"
         ],
         "labels": [
          "Babitsa",
          "Bitola",
          "Bregare",
          "Busintsi",
          "Byala",
          "Dobrich",
          "France",
          "Ihtiman",
          "Karlovo",
          "Konstantin",
          "Kotel",
          "Kubratovo",
          "Lom",
          "London",
          "Lyutibrod",
          "Montpellier",
          "Novi Sad",
          "Odrin",
          "Pernik",
          "Pleven",
          "Plovdiv",
          "Ruse",
          "Samokov",
          "Santa Fe",
          "Sevlievo",
          "Shiroka Luka",
          "Simitli",
          "Slakovtsi",
          "Sofia",
          "Sopot",
          "Suhindol",
          "Svishtov",
          "Troyan",
          "Tucson",
          "Unknown",
          "Varbovo",
          "Volgograd",
          "Vratsa",
          "Yarlovo",
          "Zlataritsa",
          "Zlatograd",
          " Sofia Province",
          "Arizona",
          "Bijelo Polje",
          "Blagoevgrad",
          "Bulgaria",
          "Dobrich",
          "Gabrovo",
          "London",
          "Lovech",
          "Montana",
          "New Mexico",
          "Occitanie",
          "Pelagonia",
          "Pernik",
          "Pleven",
          "Plovdiv",
          "Ruse",
          "Sliven",
          "Smolyan",
          "Sofia City",
          "Sofia Province",
          "South Bačka",
          "Unknown",
          "Varna",
          "Veliko Tarnovo",
          "Veliko Turnovo",
          "Volgograd",
          "Vratsa",
          "Bulgaria",
          "England",
          "France",
          "Montenegro",
          "North Macedonia",
          "Russia",
          "Serbia",
          "USA",
          "Unknown"
         ],
         "name": "",
         "parents": [
          "Bulgaria/Pernik",
          "North Macedonia/Pelagonia",
          "Bulgaria/Pleven",
          "Bulgaria/Pernik",
          "Bulgaria/Varna",
          "Bulgaria/Dobrich",
          "Unknown/Unknown",
          "Bulgaria/Sofia Province",
          "Bulgaria/Plovdiv",
          "Bulgaria/Veliko Turnovo",
          "Bulgaria/Sliven",
          "Bulgaria/Sofia City",
          "Bulgaria/Montana",
          "England/London",
          "Bulgaria/Vratsa",
          "France/Occitanie",
          "Serbia/South Bačka",
          "Montenegro/Bijelo Polje",
          "Bulgaria/Pernik",
          "Bulgaria/Pleven",
          "Bulgaria/Plovdiv",
          "Bulgaria/Ruse",
          "Bulgaria/Sofia Province",
          "USA/New Mexico",
          "Bulgaria/Gabrovo",
          "Bulgaria/Smolyan",
          "Bulgaria/Blagoevgrad",
          "Bulgaria/Pernik",
          "Bulgaria/Sofia City",
          "Bulgaria/Plovdiv",
          "Bulgaria/Veliko Tarnovo",
          "Bulgaria/Veliko Turnovo",
          "Bulgaria/Lovech",
          "USA/Arizona",
          "Unknown/Unknown",
          "Unknown/Bulgaria",
          "Russia/Volgograd",
          "Bulgaria/Vratsa",
          "Bulgaria/ Sofia Province",
          "Bulgaria/Veliko Turnovo",
          "Bulgaria/Smolyan",
          "Bulgaria",
          "USA",
          "Montenegro",
          "Bulgaria",
          "Unknown",
          "Bulgaria",
          "Bulgaria",
          "England",
          "Bulgaria",
          "Bulgaria",
          "USA",
          "France",
          "North Macedonia",
          "Bulgaria",
          "Bulgaria",
          "Bulgaria",
          "Bulgaria",
          "Bulgaria",
          "Bulgaria",
          "Bulgaria",
          "Bulgaria",
          "Serbia",
          "Unknown",
          "Bulgaria",
          "Bulgaria",
          "Bulgaria",
          "Russia",
          "Bulgaria",
          "",
          "",
          "",
          "",
          "",
          "",
          "",
          "",
          ""
         ],
         "textinfo": "label+percent entry",
         "type": "sunburst",
         "values": [
          29,
          1,
          4,
          1,
          1,
          8,
          1,
          1,
          1,
          2,
          2,
          1,
          1,
          3,
          1,
          4,
          2,
          1,
          8,
          1,
          2,
          6,
          6,
          1,
          1,
          1,
          5,
          2,
          63,
          1,
          1,
          2,
          1,
          1,
          127,
          1,
          1,
          1,
          1,
          1,
          1,
          1,
          1,
          1,
          5,
          1,
          8,
          1,
          3,
          1,
          1,
          1,
          4,
          1,
          40,
          5,
          4,
          6,
          2,
          2,
          64,
          7,
          2,
          128,
          1,
          1,
          5,
          1,
          2,
          156,
          3,
          4,
          1,
          1,
          1,
          2,
          2,
          129
         ]
        }
       ],
       "layout": {
        "legend": {
         "tracegroupgap": 0
        },
        "template": {
         "data": {
          "bar": [
           {
            "error_x": {
             "color": "#f2f5fa"
            },
            "error_y": {
             "color": "#f2f5fa"
            },
            "marker": {
             "line": {
              "color": "rgb(17,17,17)",
              "width": 0.5
             },
             "pattern": {
              "fillmode": "overlay",
              "size": 10,
              "solidity": 0.2
             }
            },
            "type": "bar"
           }
          ],
          "barpolar": [
           {
            "marker": {
             "line": {
              "color": "rgb(17,17,17)",
              "width": 0.5
             },
             "pattern": {
              "fillmode": "overlay",
              "size": 10,
              "solidity": 0.2
             }
            },
            "type": "barpolar"
           }
          ],
          "carpet": [
           {
            "aaxis": {
             "endlinecolor": "#A2B1C6",
             "gridcolor": "#506784",
             "linecolor": "#506784",
             "minorgridcolor": "#506784",
             "startlinecolor": "#A2B1C6"
            },
            "baxis": {
             "endlinecolor": "#A2B1C6",
             "gridcolor": "#506784",
             "linecolor": "#506784",
             "minorgridcolor": "#506784",
             "startlinecolor": "#A2B1C6"
            },
            "type": "carpet"
           }
          ],
          "choropleth": [
           {
            "colorbar": {
             "outlinewidth": 0,
             "ticks": ""
            },
            "type": "choropleth"
           }
          ],
          "contour": [
           {
            "colorbar": {
             "outlinewidth": 0,
             "ticks": ""
            },
            "colorscale": [
             [
              0,
              "#0d0887"
             ],
             [
              0.1111111111111111,
              "#46039f"
             ],
             [
              0.2222222222222222,
              "#7201a8"
             ],
             [
              0.3333333333333333,
              "#9c179e"
             ],
             [
              0.4444444444444444,
              "#bd3786"
             ],
             [
              0.5555555555555556,
              "#d8576b"
             ],
             [
              0.6666666666666666,
              "#ed7953"
             ],
             [
              0.7777777777777778,
              "#fb9f3a"
             ],
             [
              0.8888888888888888,
              "#fdca26"
             ],
             [
              1,
              "#f0f921"
             ]
            ],
            "type": "contour"
           }
          ],
          "contourcarpet": [
           {
            "colorbar": {
             "outlinewidth": 0,
             "ticks": ""
            },
            "type": "contourcarpet"
           }
          ],
          "heatmap": [
           {
            "colorbar": {
             "outlinewidth": 0,
             "ticks": ""
            },
            "colorscale": [
             [
              0,
              "#0d0887"
             ],
             [
              0.1111111111111111,
              "#46039f"
             ],
             [
              0.2222222222222222,
              "#7201a8"
             ],
             [
              0.3333333333333333,
              "#9c179e"
             ],
             [
              0.4444444444444444,
              "#bd3786"
             ],
             [
              0.5555555555555556,
              "#d8576b"
             ],
             [
              0.6666666666666666,
              "#ed7953"
             ],
             [
              0.7777777777777778,
              "#fb9f3a"
             ],
             [
              0.8888888888888888,
              "#fdca26"
             ],
             [
              1,
              "#f0f921"
             ]
            ],
            "type": "heatmap"
           }
          ],
          "heatmapgl": [
           {
            "colorbar": {
             "outlinewidth": 0,
             "ticks": ""
            },
            "colorscale": [
             [
              0,
              "#0d0887"
             ],
             [
              0.1111111111111111,
              "#46039f"
             ],
             [
              0.2222222222222222,
              "#7201a8"
             ],
             [
              0.3333333333333333,
              "#9c179e"
             ],
             [
              0.4444444444444444,
              "#bd3786"
             ],
             [
              0.5555555555555556,
              "#d8576b"
             ],
             [
              0.6666666666666666,
              "#ed7953"
             ],
             [
              0.7777777777777778,
              "#fb9f3a"
             ],
             [
              0.8888888888888888,
              "#fdca26"
             ],
             [
              1,
              "#f0f921"
             ]
            ],
            "type": "heatmapgl"
           }
          ],
          "histogram": [
           {
            "marker": {
             "pattern": {
              "fillmode": "overlay",
              "size": 10,
              "solidity": 0.2
             }
            },
            "type": "histogram"
           }
          ],
          "histogram2d": [
           {
            "colorbar": {
             "outlinewidth": 0,
             "ticks": ""
            },
            "colorscale": [
             [
              0,
              "#0d0887"
             ],
             [
              0.1111111111111111,
              "#46039f"
             ],
             [
              0.2222222222222222,
              "#7201a8"
             ],
             [
              0.3333333333333333,
              "#9c179e"
             ],
             [
              0.4444444444444444,
              "#bd3786"
             ],
             [
              0.5555555555555556,
              "#d8576b"
             ],
             [
              0.6666666666666666,
              "#ed7953"
             ],
             [
              0.7777777777777778,
              "#fb9f3a"
             ],
             [
              0.8888888888888888,
              "#fdca26"
             ],
             [
              1,
              "#f0f921"
             ]
            ],
            "type": "histogram2d"
           }
          ],
          "histogram2dcontour": [
           {
            "colorbar": {
             "outlinewidth": 0,
             "ticks": ""
            },
            "colorscale": [
             [
              0,
              "#0d0887"
             ],
             [
              0.1111111111111111,
              "#46039f"
             ],
             [
              0.2222222222222222,
              "#7201a8"
             ],
             [
              0.3333333333333333,
              "#9c179e"
             ],
             [
              0.4444444444444444,
              "#bd3786"
             ],
             [
              0.5555555555555556,
              "#d8576b"
             ],
             [
              0.6666666666666666,
              "#ed7953"
             ],
             [
              0.7777777777777778,
              "#fb9f3a"
             ],
             [
              0.8888888888888888,
              "#fdca26"
             ],
             [
              1,
              "#f0f921"
             ]
            ],
            "type": "histogram2dcontour"
           }
          ],
          "mesh3d": [
           {
            "colorbar": {
             "outlinewidth": 0,
             "ticks": ""
            },
            "type": "mesh3d"
           }
          ],
          "parcoords": [
           {
            "line": {
             "colorbar": {
              "outlinewidth": 0,
              "ticks": ""
             }
            },
            "type": "parcoords"
           }
          ],
          "pie": [
           {
            "automargin": true,
            "type": "pie"
           }
          ],
          "scatter": [
           {
            "marker": {
             "line": {
              "color": "#283442"
             }
            },
            "type": "scatter"
           }
          ],
          "scatter3d": [
           {
            "line": {
             "colorbar": {
              "outlinewidth": 0,
              "ticks": ""
             }
            },
            "marker": {
             "colorbar": {
              "outlinewidth": 0,
              "ticks": ""
             }
            },
            "type": "scatter3d"
           }
          ],
          "scattercarpet": [
           {
            "marker": {
             "colorbar": {
              "outlinewidth": 0,
              "ticks": ""
             }
            },
            "type": "scattercarpet"
           }
          ],
          "scattergeo": [
           {
            "marker": {
             "colorbar": {
              "outlinewidth": 0,
              "ticks": ""
             }
            },
            "type": "scattergeo"
           }
          ],
          "scattergl": [
           {
            "marker": {
             "line": {
              "color": "#283442"
             }
            },
            "type": "scattergl"
           }
          ],
          "scattermapbox": [
           {
            "marker": {
             "colorbar": {
              "outlinewidth": 0,
              "ticks": ""
             }
            },
            "type": "scattermapbox"
           }
          ],
          "scatterpolar": [
           {
            "marker": {
             "colorbar": {
              "outlinewidth": 0,
              "ticks": ""
             }
            },
            "type": "scatterpolar"
           }
          ],
          "scatterpolargl": [
           {
            "marker": {
             "colorbar": {
              "outlinewidth": 0,
              "ticks": ""
             }
            },
            "type": "scatterpolargl"
           }
          ],
          "scatterternary": [
           {
            "marker": {
             "colorbar": {
              "outlinewidth": 0,
              "ticks": ""
             }
            },
            "type": "scatterternary"
           }
          ],
          "surface": [
           {
            "colorbar": {
             "outlinewidth": 0,
             "ticks": ""
            },
            "colorscale": [
             [
              0,
              "#0d0887"
             ],
             [
              0.1111111111111111,
              "#46039f"
             ],
             [
              0.2222222222222222,
              "#7201a8"
             ],
             [
              0.3333333333333333,
              "#9c179e"
             ],
             [
              0.4444444444444444,
              "#bd3786"
             ],
             [
              0.5555555555555556,
              "#d8576b"
             ],
             [
              0.6666666666666666,
              "#ed7953"
             ],
             [
              0.7777777777777778,
              "#fb9f3a"
             ],
             [
              0.8888888888888888,
              "#fdca26"
             ],
             [
              1,
              "#f0f921"
             ]
            ],
            "type": "surface"
           }
          ],
          "table": [
           {
            "cells": {
             "fill": {
              "color": "#506784"
             },
             "line": {
              "color": "rgb(17,17,17)"
             }
            },
            "header": {
             "fill": {
              "color": "#2a3f5f"
             },
             "line": {
              "color": "rgb(17,17,17)"
             }
            },
            "type": "table"
           }
          ]
         },
         "layout": {
          "annotationdefaults": {
           "arrowcolor": "#f2f5fa",
           "arrowhead": 0,
           "arrowwidth": 1
          },
          "autotypenumbers": "strict",
          "coloraxis": {
           "colorbar": {
            "outlinewidth": 0,
            "ticks": ""
           }
          },
          "colorscale": {
           "diverging": [
            [
             0,
             "#8e0152"
            ],
            [
             0.1,
             "#c51b7d"
            ],
            [
             0.2,
             "#de77ae"
            ],
            [
             0.3,
             "#f1b6da"
            ],
            [
             0.4,
             "#fde0ef"
            ],
            [
             0.5,
             "#f7f7f7"
            ],
            [
             0.6,
             "#e6f5d0"
            ],
            [
             0.7,
             "#b8e186"
            ],
            [
             0.8,
             "#7fbc41"
            ],
            [
             0.9,
             "#4d9221"
            ],
            [
             1,
             "#276419"
            ]
           ],
           "sequential": [
            [
             0,
             "#0d0887"
            ],
            [
             0.1111111111111111,
             "#46039f"
            ],
            [
             0.2222222222222222,
             "#7201a8"
            ],
            [
             0.3333333333333333,
             "#9c179e"
            ],
            [
             0.4444444444444444,
             "#bd3786"
            ],
            [
             0.5555555555555556,
             "#d8576b"
            ],
            [
             0.6666666666666666,
             "#ed7953"
            ],
            [
             0.7777777777777778,
             "#fb9f3a"
            ],
            [
             0.8888888888888888,
             "#fdca26"
            ],
            [
             1,
             "#f0f921"
            ]
           ],
           "sequentialminus": [
            [
             0,
             "#0d0887"
            ],
            [
             0.1111111111111111,
             "#46039f"
            ],
            [
             0.2222222222222222,
             "#7201a8"
            ],
            [
             0.3333333333333333,
             "#9c179e"
            ],
            [
             0.4444444444444444,
             "#bd3786"
            ],
            [
             0.5555555555555556,
             "#d8576b"
            ],
            [
             0.6666666666666666,
             "#ed7953"
            ],
            [
             0.7777777777777778,
             "#fb9f3a"
            ],
            [
             0.8888888888888888,
             "#fdca26"
            ],
            [
             1,
             "#f0f921"
            ]
           ]
          },
          "colorway": [
           "#636efa",
           "#EF553B",
           "#00cc96",
           "#ab63fa",
           "#FFA15A",
           "#19d3f3",
           "#FF6692",
           "#B6E880",
           "#FF97FF",
           "#FECB52"
          ],
          "font": {
           "color": "#f2f5fa"
          },
          "geo": {
           "bgcolor": "rgb(17,17,17)",
           "lakecolor": "rgb(17,17,17)",
           "landcolor": "rgb(17,17,17)",
           "showlakes": true,
           "showland": true,
           "subunitcolor": "#506784"
          },
          "hoverlabel": {
           "align": "left"
          },
          "hovermode": "closest",
          "mapbox": {
           "style": "dark"
          },
          "paper_bgcolor": "rgb(17,17,17)",
          "plot_bgcolor": "rgb(17,17,17)",
          "polar": {
           "angularaxis": {
            "gridcolor": "#506784",
            "linecolor": "#506784",
            "ticks": ""
           },
           "bgcolor": "rgb(17,17,17)",
           "radialaxis": {
            "gridcolor": "#506784",
            "linecolor": "#506784",
            "ticks": ""
           }
          },
          "scene": {
           "xaxis": {
            "backgroundcolor": "rgb(17,17,17)",
            "gridcolor": "#506784",
            "gridwidth": 2,
            "linecolor": "#506784",
            "showbackground": true,
            "ticks": "",
            "zerolinecolor": "#C8D4E3"
           },
           "yaxis": {
            "backgroundcolor": "rgb(17,17,17)",
            "gridcolor": "#506784",
            "gridwidth": 2,
            "linecolor": "#506784",
            "showbackground": true,
            "ticks": "",
            "zerolinecolor": "#C8D4E3"
           },
           "zaxis": {
            "backgroundcolor": "rgb(17,17,17)",
            "gridcolor": "#506784",
            "gridwidth": 2,
            "linecolor": "#506784",
            "showbackground": true,
            "ticks": "",
            "zerolinecolor": "#C8D4E3"
           }
          },
          "shapedefaults": {
           "line": {
            "color": "#f2f5fa"
           }
          },
          "sliderdefaults": {
           "bgcolor": "#C8D4E3",
           "bordercolor": "rgb(17,17,17)",
           "borderwidth": 1,
           "tickwidth": 0
          },
          "ternary": {
           "aaxis": {
            "gridcolor": "#506784",
            "linecolor": "#506784",
            "ticks": ""
           },
           "baxis": {
            "gridcolor": "#506784",
            "linecolor": "#506784",
            "ticks": ""
           },
           "bgcolor": "rgb(17,17,17)",
           "caxis": {
            "gridcolor": "#506784",
            "linecolor": "#506784",
            "ticks": ""
           }
          },
          "title": {
           "x": 0.05
          },
          "updatemenudefaults": {
           "bgcolor": "#506784",
           "borderwidth": 0
          },
          "xaxis": {
           "automargin": true,
           "gridcolor": "#283442",
           "linecolor": "#506784",
           "ticks": "",
           "title": {
            "standoff": 15
           },
           "zerolinecolor": "#283442",
           "zerolinewidth": 2
          },
          "yaxis": {
           "automargin": true,
           "gridcolor": "#283442",
           "linecolor": "#506784",
           "ticks": "",
           "title": {
            "standoff": 15
           },
           "zerolinecolor": "#283442",
           "zerolinewidth": 2
          }
         }
        },
        "title": {
         "text": "My family tree origins"
        }
       }
      }
     },
     "metadata": {},
     "output_type": "display_data"
    }
   ],
   "source": [
    "dtf3 = (\n",
    "    (\n",
    "        dtf[[\"BirthCity\", \"BirthRegion\", \"BirthCountry\"]]\n",
    "        # .fillna(\"Unknown\")\n",
    "        .groupby([\"BirthCity\", \"BirthRegion\", \"BirthCountry\"])\n",
    "        .size()\n",
    "        .to_frame(\"Count\")\n",
    "        .sort_values(\"Count\", ascending=False)\n",
    "    )\n",
    "    .reset_index(drop=False)\n",
    "    .replace(\"\", \"Unknown\")\n",
    ")\n",
    "# print(dtf2)\n",
    "# dtf2\n",
    "# fig = bar(dtf2, y=\"Count\", x=\"BirthPlace\", title=\"My family tree origins\")\n",
    "fig = sunburst(\n",
    "    dtf3,\n",
    "    path=[\"BirthCountry\", \"BirthRegion\", \"BirthCity\"],\n",
    "    values=\"Count\",\n",
    "    title=\"My family tree origins\",\n",
    ")\n",
    "fig.update_traces(textinfo=\"label+percent entry\")\n",
    "fig.write_html(\"OriginSunburst.html\")\n",
    "fig\n"
   ]
  },
  {
   "cell_type": "code",
   "execution_count": 404,
   "metadata": {},
   "outputs": [
    {
     "data": {
      "application/vnd.plotly.v1+json": {
       "config": {
        "plotlyServerURL": "https://plot.ly"
       },
       "data": [
        {
         "branchvalues": "total",
         "domain": {
          "x": [
           0,
           1
          ],
          "y": [
           0,
           1
          ]
         },
         "hovertemplate": "labels=%{label}<br>Count=%{value}<br>parent=%{parent}<br>id=%{id}<extra></extra>",
         "ids": [
          "BOZHILOVA-ATANASOVI/Babitsa",
          "BOZHILOVA-JORDANOVI/Babitsa",
          "BOZHILOVI/Babitsa",
          "MATOVI/Babitsa",
          "Unknown/Bitola",
          "GUEORGUIEVI/Bregare",
          "KINOVSKI/Bregare",
          "Unknown/Busintsi",
          "BOZHILOVI/Byala",
          "DIMITROVI/Dobrich",
          "KOSTOVI/Dobrich",
          "STOYANOVI/Dobrich",
          "Unknown/France",
          "Unknown/Ihtiman",
          "BATENBERGSKI/Karlovo",
          "RAINOVI/Konstantin",
          "TCHAKAROVI/Konstantin",
          "RAINOVI/Kotel",
          "Unknown/Kotel",
          "VESSELINOVI/Kubratovo",
          "OBRETENOVI/Lom",
          "VARBANOVI/London",
          "YANEVI/London",
          "KYOPCHEVI/Lyutibrod",
          "VESSELINOVI/Montpellier",
          "Unknown/Novi Sad",
          "KOLEVI/Odrin",
          "ATANASOVA-VANGELOVI/Pernik",
          "ATANASOVI/Pernik",
          "BOZHILOVA-BRATANOVI/Pernik",
          "BOZHILOVI/Pernik",
          "JORDANOVI/Pernik",
          "VANGELOVI/Pernik",
          "ILIEVI/Pleven",
          "YANEVI/Plovdiv",
          "BATEMBERGSKI/Ruse",
          "MANKOVI/Ruse",
          "MIHAILOVI/Ruse",
          "MIRCHEVI/Ruse",
          "CHERESHAROVI/Samokov",
          "PETROVI/Samokov",
          "VESSELINOVI/Santa Fe",
          "TSONKOVI/Sevlievo",
          "Unknown/Shiroka Luka",
          "MATOVI/Simitli",
          "MIHAILOVI/Simitli",
          "ATANASOVI/Slakovtsi",
          "Unknown/Slakovtsi",
          "ATANASOVI/Sofia",
          "BATEMBERGSKI/Sofia",
          "BOZHILOVI/Sofia",
          "BRATANOVI/Sofia",
          "DIMITROVI/Sofia",
          "DONCHEVI/Sofia",
          "GUEORGUIEVI/Sofia",
          "ILIEVI/Sofia",
          "IRINCHEVI/Sofia",
          "IRINTCHEVI/Sofia",
          "KOSTOVI/Sofia",
          "KYOPCHEVI/Sofia",
          "MANKOVI/Sofia",
          "MATOVI/Sofia",
          "MINKOVSKI/Sofia",
          "STOYANOVI/Sofia",
          "TASKOVI/Sofia",
          "TCHAKAROVI/Sofia",
          "TOPALOVI/Sofia",
          "Unknown/Sofia",
          "VANGELOVI/Sofia",
          "VESSELINOVI/Sofia",
          "Unknown/Sopot",
          "MANKOVI/Suhindol",
          "MATOVI/Svishtov",
          "Unknown/Troyan",
          "VESSELINOVI/Tucson",
          "?/Unknown",
          "ABADZHIEVI/Unknown",
          "APOSTOLOVI/Unknown",
          "ATANASOVI/Unknown",
          "BRATANOVI/Unknown",
          "CHERESHAROVI/Unknown",
          "DAKOV KINOVSKI/Unknown",
          "DAKOVI/Unknown",
          "DIMITROVI/Unknown",
          "DONCHEVI/Unknown",
          "GERGOVI/Unknown",
          "HOLLIS/Unknown",
          "HOUNSELL/Unknown",
          "HRISTOVI/Unknown",
          "IVANOVI/Unknown",
          "JORDANOVI/Unknown",
          "KINOVSKI/Unknown",
          "KOLEVI/Unknown",
          "KYOPCHEVI/Unknown",
          "MATOVI/Unknown",
          "MIHAILOVI/Unknown",
          "MINKOVSKI/Unknown",
          "MIRCHEVI/Unknown",
          "PAVLOVI/Unknown",
          "PETKOVI/Unknown",
          "PETROVI/Unknown",
          "ROBERTS/Unknown",
          "STEFANOVI/Unknown",
          "STOEVI/Unknown",
          "TCHAKAROVI/Unknown",
          "Unknown/Unknown",
          "VASILEVI/Unknown",
          "VESSELINOVI/Unknown",
          "WINCHESTER HERRING/Unknown",
          "TCHALUKOVI/Varbovo",
          "BOZHILOVA-DIMITROVI/Volgograd",
          "VESSELINOVI/Vratsa",
          "MIHAILOVI/Yarlovo",
          "TCHAKAROVI/Zlataritsa",
          "VARBANOVI/Zlatograd",
          "?",
          "ABADZHIEVI",
          "APOSTOLOVI",
          "ATANASOVA-VANGELOVI",
          "ATANASOVI",
          "BATEMBERGSKI",
          "BATENBERGSKI",
          "BOZHILOVA-ATANASOVI",
          "BOZHILOVA-BRATANOVI",
          "BOZHILOVA-DIMITROVI",
          "BOZHILOVA-JORDANOVI",
          "BOZHILOVI",
          "BRATANOVI",
          "CHERESHAROVI",
          "DAKOV KINOVSKI",
          "DAKOVI",
          "DIMITROVI",
          "DONCHEVI",
          "GERGOVI",
          "GUEORGUIEVI",
          "HOLLIS",
          "HOUNSELL",
          "HRISTOVI",
          "ILIEVI",
          "IRINCHEVI",
          "IRINTCHEVI",
          "IVANOVI",
          "JORDANOVI",
          "KINOVSKI",
          "KOLEVI",
          "KOSTOVI",
          "KYOPCHEVI",
          "MANKOVI",
          "MATOVI",
          "MIHAILOVI",
          "MINKOVSKI",
          "MIRCHEVI",
          "OBRETENOVI",
          "PAVLOVI",
          "PETKOVI",
          "PETROVI",
          "RAINOVI",
          "ROBERTS",
          "STEFANOVI",
          "STOEVI",
          "STOYANOVI",
          "TASKOVI",
          "TCHAKAROVI",
          "TCHALUKOVI",
          "TOPALOVI",
          "TSONKOVI",
          "Unknown",
          "VANGELOVI",
          "VARBANOVI",
          "VASILEVI",
          "VESSELINOVI",
          "WINCHESTER HERRING",
          "YANEVI"
         ],
         "labels": [
          "Babitsa",
          "Babitsa",
          "Babitsa",
          "Babitsa",
          "Bitola",
          "Bregare",
          "Bregare",
          "Busintsi",
          "Byala",
          "Dobrich",
          "Dobrich",
          "Dobrich",
          "France",
          "Ihtiman",
          "Karlovo",
          "Konstantin",
          "Konstantin",
          "Kotel",
          "Kotel",
          "Kubratovo",
          "Lom",
          "London",
          "London",
          "Lyutibrod",
          "Montpellier",
          "Novi Sad",
          "Odrin",
          "Pernik",
          "Pernik",
          "Pernik",
          "Pernik",
          "Pernik",
          "Pernik",
          "Pleven",
          "Plovdiv",
          "Ruse",
          "Ruse",
          "Ruse",
          "Ruse",
          "Samokov",
          "Samokov",
          "Santa Fe",
          "Sevlievo",
          "Shiroka Luka",
          "Simitli",
          "Simitli",
          "Slakovtsi",
          "Slakovtsi",
          "Sofia",
          "Sofia",
          "Sofia",
          "Sofia",
          "Sofia",
          "Sofia",
          "Sofia",
          "Sofia",
          "Sofia",
          "Sofia",
          "Sofia",
          "Sofia",
          "Sofia",
          "Sofia",
          "Sofia",
          "Sofia",
          "Sofia",
          "Sofia",
          "Sofia",
          "Sofia",
          "Sofia",
          "Sofia",
          "Sopot",
          "Suhindol",
          "Svishtov",
          "Troyan",
          "Tucson",
          "Unknown",
          "Unknown",
          "Unknown",
          "Unknown",
          "Unknown",
          "Unknown",
          "Unknown",
          "Unknown",
          "Unknown",
          "Unknown",
          "Unknown",
          "Unknown",
          "Unknown",
          "Unknown",
          "Unknown",
          "Unknown",
          "Unknown",
          "Unknown",
          "Unknown",
          "Unknown",
          "Unknown",
          "Unknown",
          "Unknown",
          "Unknown",
          "Unknown",
          "Unknown",
          "Unknown",
          "Unknown",
          "Unknown",
          "Unknown",
          "Unknown",
          "Unknown",
          "Unknown",
          "Unknown",
          "Varbovo",
          "Volgograd",
          "Vratsa",
          "Yarlovo",
          "Zlataritsa",
          "Zlatograd",
          "?",
          "ABADZHIEVI",
          "APOSTOLOVI",
          "ATANASOVA-VANGELOVI",
          "ATANASOVI",
          "BATEMBERGSKI",
          "BATENBERGSKI",
          "BOZHILOVA-ATANASOVI",
          "BOZHILOVA-BRATANOVI",
          "BOZHILOVA-DIMITROVI",
          "BOZHILOVA-JORDANOVI",
          "BOZHILOVI",
          "BRATANOVI",
          "CHERESHAROVI",
          "DAKOV KINOVSKI",
          "DAKOVI",
          "DIMITROVI",
          "DONCHEVI",
          "GERGOVI",
          "GUEORGUIEVI",
          "HOLLIS",
          "HOUNSELL",
          "HRISTOVI",
          "ILIEVI",
          "IRINCHEVI",
          "IRINTCHEVI",
          "IVANOVI",
          "JORDANOVI",
          "KINOVSKI",
          "KOLEVI",
          "KOSTOVI",
          "KYOPCHEVI",
          "MANKOVI",
          "MATOVI",
          "MIHAILOVI",
          "MINKOVSKI",
          "MIRCHEVI",
          "OBRETENOVI",
          "PAVLOVI",
          "PETKOVI",
          "PETROVI",
          "RAINOVI",
          "ROBERTS",
          "STEFANOVI",
          "STOEVI",
          "STOYANOVI",
          "TASKOVI",
          "TCHAKAROVI",
          "TCHALUKOVI",
          "TOPALOVI",
          "TSONKOVI",
          "Unknown",
          "VANGELOVI",
          "VARBANOVI",
          "VASILEVI",
          "VESSELINOVI",
          "WINCHESTER HERRING",
          "YANEVI"
         ],
         "name": "",
         "parents": [
          "BOZHILOVA-ATANASOVI",
          "BOZHILOVA-JORDANOVI",
          "BOZHILOVI",
          "MATOVI",
          "Unknown",
          "GUEORGUIEVI",
          "KINOVSKI",
          "Unknown",
          "BOZHILOVI",
          "DIMITROVI",
          "KOSTOVI",
          "STOYANOVI",
          "Unknown",
          "Unknown",
          "BATENBERGSKI",
          "RAINOVI",
          "TCHAKAROVI",
          "RAINOVI",
          "Unknown",
          "VESSELINOVI",
          "OBRETENOVI",
          "VARBANOVI",
          "YANEVI",
          "KYOPCHEVI",
          "VESSELINOVI",
          "Unknown",
          "KOLEVI",
          "ATANASOVA-VANGELOVI",
          "ATANASOVI",
          "BOZHILOVA-BRATANOVI",
          "BOZHILOVI",
          "JORDANOVI",
          "VANGELOVI",
          "ILIEVI",
          "YANEVI",
          "BATEMBERGSKI",
          "MANKOVI",
          "MIHAILOVI",
          "MIRCHEVI",
          "CHERESHAROVI",
          "PETROVI",
          "VESSELINOVI",
          "TSONKOVI",
          "Unknown",
          "MATOVI",
          "MIHAILOVI",
          "ATANASOVI",
          "Unknown",
          "ATANASOVI",
          "BATEMBERGSKI",
          "BOZHILOVI",
          "BRATANOVI",
          "DIMITROVI",
          "DONCHEVI",
          "GUEORGUIEVI",
          "ILIEVI",
          "IRINCHEVI",
          "IRINTCHEVI",
          "KOSTOVI",
          "KYOPCHEVI",
          "MANKOVI",
          "MATOVI",
          "MINKOVSKI",
          "STOYANOVI",
          "TASKOVI",
          "TCHAKAROVI",
          "TOPALOVI",
          "Unknown",
          "VANGELOVI",
          "VESSELINOVI",
          "Unknown",
          "MANKOVI",
          "MATOVI",
          "Unknown",
          "VESSELINOVI",
          "?",
          "ABADZHIEVI",
          "APOSTOLOVI",
          "ATANASOVI",
          "BRATANOVI",
          "CHERESHAROVI",
          "DAKOV KINOVSKI",
          "DAKOVI",
          "DIMITROVI",
          "DONCHEVI",
          "GERGOVI",
          "HOLLIS",
          "HOUNSELL",
          "HRISTOVI",
          "IVANOVI",
          "JORDANOVI",
          "KINOVSKI",
          "KOLEVI",
          "KYOPCHEVI",
          "MATOVI",
          "MIHAILOVI",
          "MINKOVSKI",
          "MIRCHEVI",
          "PAVLOVI",
          "PETKOVI",
          "PETROVI",
          "ROBERTS",
          "STEFANOVI",
          "STOEVI",
          "TCHAKAROVI",
          "Unknown",
          "VASILEVI",
          "VESSELINOVI",
          "WINCHESTER HERRING",
          "TCHALUKOVI",
          "BOZHILOVA-DIMITROVI",
          "VESSELINOVI",
          "MIHAILOVI",
          "TCHAKAROVI",
          "VARBANOVI",
          "",
          "",
          "",
          "",
          "",
          "",
          "",
          "",
          "",
          "",
          "",
          "",
          "",
          "",
          "",
          "",
          "",
          "",
          "",
          "",
          "",
          "",
          "",
          "",
          "",
          "",
          "",
          "",
          "",
          "",
          "",
          "",
          "",
          "",
          "",
          "",
          "",
          "",
          "",
          "",
          "",
          "",
          "",
          "",
          "",
          "",
          "",
          "",
          "",
          "",
          "",
          "",
          "",
          "",
          "",
          "",
          "",
          ""
         ],
         "textinfo": "label+percent entry",
         "type": "sunburst",
         "values": [
          1,
          1,
          5,
          22,
          1,
          3,
          1,
          1,
          1,
          1,
          5,
          2,
          1,
          1,
          1,
          1,
          1,
          1,
          1,
          1,
          1,
          2,
          1,
          1,
          4,
          2,
          1,
          1,
          1,
          1,
          1,
          3,
          1,
          1,
          2,
          1,
          1,
          3,
          1,
          4,
          2,
          1,
          1,
          1,
          4,
          1,
          1,
          1,
          4,
          3,
          3,
          1,
          4,
          3,
          1,
          1,
          1,
          1,
          3,
          4,
          4,
          12,
          3,
          1,
          3,
          2,
          1,
          2,
          2,
          4,
          1,
          1,
          2,
          1,
          1,
          1,
          2,
          3,
          3,
          1,
          1,
          1,
          5,
          3,
          3,
          4,
          1,
          2,
          4,
          1,
          2,
          14,
          1,
          2,
          15,
          1,
          1,
          2,
          1,
          6,
          6,
          1,
          3,
          3,
          7,
          21,
          2,
          3,
          1,
          1,
          1,
          1,
          1,
          1,
          1,
          1,
          2,
          3,
          1,
          9,
          4,
          1,
          1,
          1,
          1,
          1,
          10,
          2,
          5,
          1,
          5,
          8,
          6,
          4,
          4,
          1,
          2,
          4,
          2,
          1,
          1,
          1,
          5,
          15,
          2,
          8,
          7,
          6,
          55,
          6,
          4,
          3,
          1,
          1,
          6,
          8,
          2,
          1,
          3,
          3,
          3,
          3,
          11,
          1,
          1,
          1,
          34,
          3,
          3,
          2,
          15,
          1,
          3
         ]
        }
       ],
       "layout": {
        "legend": {
         "tracegroupgap": 0
        },
        "template": {
         "data": {
          "bar": [
           {
            "error_x": {
             "color": "#f2f5fa"
            },
            "error_y": {
             "color": "#f2f5fa"
            },
            "marker": {
             "line": {
              "color": "rgb(17,17,17)",
              "width": 0.5
             },
             "pattern": {
              "fillmode": "overlay",
              "size": 10,
              "solidity": 0.2
             }
            },
            "type": "bar"
           }
          ],
          "barpolar": [
           {
            "marker": {
             "line": {
              "color": "rgb(17,17,17)",
              "width": 0.5
             },
             "pattern": {
              "fillmode": "overlay",
              "size": 10,
              "solidity": 0.2
             }
            },
            "type": "barpolar"
           }
          ],
          "carpet": [
           {
            "aaxis": {
             "endlinecolor": "#A2B1C6",
             "gridcolor": "#506784",
             "linecolor": "#506784",
             "minorgridcolor": "#506784",
             "startlinecolor": "#A2B1C6"
            },
            "baxis": {
             "endlinecolor": "#A2B1C6",
             "gridcolor": "#506784",
             "linecolor": "#506784",
             "minorgridcolor": "#506784",
             "startlinecolor": "#A2B1C6"
            },
            "type": "carpet"
           }
          ],
          "choropleth": [
           {
            "colorbar": {
             "outlinewidth": 0,
             "ticks": ""
            },
            "type": "choropleth"
           }
          ],
          "contour": [
           {
            "colorbar": {
             "outlinewidth": 0,
             "ticks": ""
            },
            "colorscale": [
             [
              0,
              "#0d0887"
             ],
             [
              0.1111111111111111,
              "#46039f"
             ],
             [
              0.2222222222222222,
              "#7201a8"
             ],
             [
              0.3333333333333333,
              "#9c179e"
             ],
             [
              0.4444444444444444,
              "#bd3786"
             ],
             [
              0.5555555555555556,
              "#d8576b"
             ],
             [
              0.6666666666666666,
              "#ed7953"
             ],
             [
              0.7777777777777778,
              "#fb9f3a"
             ],
             [
              0.8888888888888888,
              "#fdca26"
             ],
             [
              1,
              "#f0f921"
             ]
            ],
            "type": "contour"
           }
          ],
          "contourcarpet": [
           {
            "colorbar": {
             "outlinewidth": 0,
             "ticks": ""
            },
            "type": "contourcarpet"
           }
          ],
          "heatmap": [
           {
            "colorbar": {
             "outlinewidth": 0,
             "ticks": ""
            },
            "colorscale": [
             [
              0,
              "#0d0887"
             ],
             [
              0.1111111111111111,
              "#46039f"
             ],
             [
              0.2222222222222222,
              "#7201a8"
             ],
             [
              0.3333333333333333,
              "#9c179e"
             ],
             [
              0.4444444444444444,
              "#bd3786"
             ],
             [
              0.5555555555555556,
              "#d8576b"
             ],
             [
              0.6666666666666666,
              "#ed7953"
             ],
             [
              0.7777777777777778,
              "#fb9f3a"
             ],
             [
              0.8888888888888888,
              "#fdca26"
             ],
             [
              1,
              "#f0f921"
             ]
            ],
            "type": "heatmap"
           }
          ],
          "heatmapgl": [
           {
            "colorbar": {
             "outlinewidth": 0,
             "ticks": ""
            },
            "colorscale": [
             [
              0,
              "#0d0887"
             ],
             [
              0.1111111111111111,
              "#46039f"
             ],
             [
              0.2222222222222222,
              "#7201a8"
             ],
             [
              0.3333333333333333,
              "#9c179e"
             ],
             [
              0.4444444444444444,
              "#bd3786"
             ],
             [
              0.5555555555555556,
              "#d8576b"
             ],
             [
              0.6666666666666666,
              "#ed7953"
             ],
             [
              0.7777777777777778,
              "#fb9f3a"
             ],
             [
              0.8888888888888888,
              "#fdca26"
             ],
             [
              1,
              "#f0f921"
             ]
            ],
            "type": "heatmapgl"
           }
          ],
          "histogram": [
           {
            "marker": {
             "pattern": {
              "fillmode": "overlay",
              "size": 10,
              "solidity": 0.2
             }
            },
            "type": "histogram"
           }
          ],
          "histogram2d": [
           {
            "colorbar": {
             "outlinewidth": 0,
             "ticks": ""
            },
            "colorscale": [
             [
              0,
              "#0d0887"
             ],
             [
              0.1111111111111111,
              "#46039f"
             ],
             [
              0.2222222222222222,
              "#7201a8"
             ],
             [
              0.3333333333333333,
              "#9c179e"
             ],
             [
              0.4444444444444444,
              "#bd3786"
             ],
             [
              0.5555555555555556,
              "#d8576b"
             ],
             [
              0.6666666666666666,
              "#ed7953"
             ],
             [
              0.7777777777777778,
              "#fb9f3a"
             ],
             [
              0.8888888888888888,
              "#fdca26"
             ],
             [
              1,
              "#f0f921"
             ]
            ],
            "type": "histogram2d"
           }
          ],
          "histogram2dcontour": [
           {
            "colorbar": {
             "outlinewidth": 0,
             "ticks": ""
            },
            "colorscale": [
             [
              0,
              "#0d0887"
             ],
             [
              0.1111111111111111,
              "#46039f"
             ],
             [
              0.2222222222222222,
              "#7201a8"
             ],
             [
              0.3333333333333333,
              "#9c179e"
             ],
             [
              0.4444444444444444,
              "#bd3786"
             ],
             [
              0.5555555555555556,
              "#d8576b"
             ],
             [
              0.6666666666666666,
              "#ed7953"
             ],
             [
              0.7777777777777778,
              "#fb9f3a"
             ],
             [
              0.8888888888888888,
              "#fdca26"
             ],
             [
              1,
              "#f0f921"
             ]
            ],
            "type": "histogram2dcontour"
           }
          ],
          "mesh3d": [
           {
            "colorbar": {
             "outlinewidth": 0,
             "ticks": ""
            },
            "type": "mesh3d"
           }
          ],
          "parcoords": [
           {
            "line": {
             "colorbar": {
              "outlinewidth": 0,
              "ticks": ""
             }
            },
            "type": "parcoords"
           }
          ],
          "pie": [
           {
            "automargin": true,
            "type": "pie"
           }
          ],
          "scatter": [
           {
            "marker": {
             "line": {
              "color": "#283442"
             }
            },
            "type": "scatter"
           }
          ],
          "scatter3d": [
           {
            "line": {
             "colorbar": {
              "outlinewidth": 0,
              "ticks": ""
             }
            },
            "marker": {
             "colorbar": {
              "outlinewidth": 0,
              "ticks": ""
             }
            },
            "type": "scatter3d"
           }
          ],
          "scattercarpet": [
           {
            "marker": {
             "colorbar": {
              "outlinewidth": 0,
              "ticks": ""
             }
            },
            "type": "scattercarpet"
           }
          ],
          "scattergeo": [
           {
            "marker": {
             "colorbar": {
              "outlinewidth": 0,
              "ticks": ""
             }
            },
            "type": "scattergeo"
           }
          ],
          "scattergl": [
           {
            "marker": {
             "line": {
              "color": "#283442"
             }
            },
            "type": "scattergl"
           }
          ],
          "scattermapbox": [
           {
            "marker": {
             "colorbar": {
              "outlinewidth": 0,
              "ticks": ""
             }
            },
            "type": "scattermapbox"
           }
          ],
          "scatterpolar": [
           {
            "marker": {
             "colorbar": {
              "outlinewidth": 0,
              "ticks": ""
             }
            },
            "type": "scatterpolar"
           }
          ],
          "scatterpolargl": [
           {
            "marker": {
             "colorbar": {
              "outlinewidth": 0,
              "ticks": ""
             }
            },
            "type": "scatterpolargl"
           }
          ],
          "scatterternary": [
           {
            "marker": {
             "colorbar": {
              "outlinewidth": 0,
              "ticks": ""
             }
            },
            "type": "scatterternary"
           }
          ],
          "surface": [
           {
            "colorbar": {
             "outlinewidth": 0,
             "ticks": ""
            },
            "colorscale": [
             [
              0,
              "#0d0887"
             ],
             [
              0.1111111111111111,
              "#46039f"
             ],
             [
              0.2222222222222222,
              "#7201a8"
             ],
             [
              0.3333333333333333,
              "#9c179e"
             ],
             [
              0.4444444444444444,
              "#bd3786"
             ],
             [
              0.5555555555555556,
              "#d8576b"
             ],
             [
              0.6666666666666666,
              "#ed7953"
             ],
             [
              0.7777777777777778,
              "#fb9f3a"
             ],
             [
              0.8888888888888888,
              "#fdca26"
             ],
             [
              1,
              "#f0f921"
             ]
            ],
            "type": "surface"
           }
          ],
          "table": [
           {
            "cells": {
             "fill": {
              "color": "#506784"
             },
             "line": {
              "color": "rgb(17,17,17)"
             }
            },
            "header": {
             "fill": {
              "color": "#2a3f5f"
             },
             "line": {
              "color": "rgb(17,17,17)"
             }
            },
            "type": "table"
           }
          ]
         },
         "layout": {
          "annotationdefaults": {
           "arrowcolor": "#f2f5fa",
           "arrowhead": 0,
           "arrowwidth": 1
          },
          "autotypenumbers": "strict",
          "coloraxis": {
           "colorbar": {
            "outlinewidth": 0,
            "ticks": ""
           }
          },
          "colorscale": {
           "diverging": [
            [
             0,
             "#8e0152"
            ],
            [
             0.1,
             "#c51b7d"
            ],
            [
             0.2,
             "#de77ae"
            ],
            [
             0.3,
             "#f1b6da"
            ],
            [
             0.4,
             "#fde0ef"
            ],
            [
             0.5,
             "#f7f7f7"
            ],
            [
             0.6,
             "#e6f5d0"
            ],
            [
             0.7,
             "#b8e186"
            ],
            [
             0.8,
             "#7fbc41"
            ],
            [
             0.9,
             "#4d9221"
            ],
            [
             1,
             "#276419"
            ]
           ],
           "sequential": [
            [
             0,
             "#0d0887"
            ],
            [
             0.1111111111111111,
             "#46039f"
            ],
            [
             0.2222222222222222,
             "#7201a8"
            ],
            [
             0.3333333333333333,
             "#9c179e"
            ],
            [
             0.4444444444444444,
             "#bd3786"
            ],
            [
             0.5555555555555556,
             "#d8576b"
            ],
            [
             0.6666666666666666,
             "#ed7953"
            ],
            [
             0.7777777777777778,
             "#fb9f3a"
            ],
            [
             0.8888888888888888,
             "#fdca26"
            ],
            [
             1,
             "#f0f921"
            ]
           ],
           "sequentialminus": [
            [
             0,
             "#0d0887"
            ],
            [
             0.1111111111111111,
             "#46039f"
            ],
            [
             0.2222222222222222,
             "#7201a8"
            ],
            [
             0.3333333333333333,
             "#9c179e"
            ],
            [
             0.4444444444444444,
             "#bd3786"
            ],
            [
             0.5555555555555556,
             "#d8576b"
            ],
            [
             0.6666666666666666,
             "#ed7953"
            ],
            [
             0.7777777777777778,
             "#fb9f3a"
            ],
            [
             0.8888888888888888,
             "#fdca26"
            ],
            [
             1,
             "#f0f921"
            ]
           ]
          },
          "colorway": [
           "#636efa",
           "#EF553B",
           "#00cc96",
           "#ab63fa",
           "#FFA15A",
           "#19d3f3",
           "#FF6692",
           "#B6E880",
           "#FF97FF",
           "#FECB52"
          ],
          "font": {
           "color": "#f2f5fa"
          },
          "geo": {
           "bgcolor": "rgb(17,17,17)",
           "lakecolor": "rgb(17,17,17)",
           "landcolor": "rgb(17,17,17)",
           "showlakes": true,
           "showland": true,
           "subunitcolor": "#506784"
          },
          "hoverlabel": {
           "align": "left"
          },
          "hovermode": "closest",
          "mapbox": {
           "style": "dark"
          },
          "paper_bgcolor": "rgb(17,17,17)",
          "plot_bgcolor": "rgb(17,17,17)",
          "polar": {
           "angularaxis": {
            "gridcolor": "#506784",
            "linecolor": "#506784",
            "ticks": ""
           },
           "bgcolor": "rgb(17,17,17)",
           "radialaxis": {
            "gridcolor": "#506784",
            "linecolor": "#506784",
            "ticks": ""
           }
          },
          "scene": {
           "xaxis": {
            "backgroundcolor": "rgb(17,17,17)",
            "gridcolor": "#506784",
            "gridwidth": 2,
            "linecolor": "#506784",
            "showbackground": true,
            "ticks": "",
            "zerolinecolor": "#C8D4E3"
           },
           "yaxis": {
            "backgroundcolor": "rgb(17,17,17)",
            "gridcolor": "#506784",
            "gridwidth": 2,
            "linecolor": "#506784",
            "showbackground": true,
            "ticks": "",
            "zerolinecolor": "#C8D4E3"
           },
           "zaxis": {
            "backgroundcolor": "rgb(17,17,17)",
            "gridcolor": "#506784",
            "gridwidth": 2,
            "linecolor": "#506784",
            "showbackground": true,
            "ticks": "",
            "zerolinecolor": "#C8D4E3"
           }
          },
          "shapedefaults": {
           "line": {
            "color": "#f2f5fa"
           }
          },
          "sliderdefaults": {
           "bgcolor": "#C8D4E3",
           "bordercolor": "rgb(17,17,17)",
           "borderwidth": 1,
           "tickwidth": 0
          },
          "ternary": {
           "aaxis": {
            "gridcolor": "#506784",
            "linecolor": "#506784",
            "ticks": ""
           },
           "baxis": {
            "gridcolor": "#506784",
            "linecolor": "#506784",
            "ticks": ""
           },
           "bgcolor": "rgb(17,17,17)",
           "caxis": {
            "gridcolor": "#506784",
            "linecolor": "#506784",
            "ticks": ""
           }
          },
          "title": {
           "x": 0.05
          },
          "updatemenudefaults": {
           "bgcolor": "#506784",
           "borderwidth": 0
          },
          "xaxis": {
           "automargin": true,
           "gridcolor": "#283442",
           "linecolor": "#506784",
           "ticks": "",
           "title": {
            "standoff": 15
           },
           "zerolinecolor": "#283442",
           "zerolinewidth": 2
          },
          "yaxis": {
           "automargin": true,
           "gridcolor": "#283442",
           "linecolor": "#506784",
           "ticks": "",
           "title": {
            "standoff": 15
           },
           "zerolinecolor": "#283442",
           "zerolinewidth": 2
          }
         }
        },
        "title": {
         "text": "My family tree origins"
        }
       }
      }
     },
     "metadata": {},
     "output_type": "display_data"
    }
   ],
   "source": [
    "dtf3 = (\n",
    "    (\n",
    "        dtf[[\"FamilyName\", \"BirthCity\"]]\n",
    "        .groupby([\"FamilyName\", \"BirthCity\"])\n",
    "        .size()\n",
    "        .to_frame(\"Count\")\n",
    "        .sort_values(\"Count\", ascending=False)\n",
    "    )\n",
    "    .reset_index(drop=False)\n",
    "    .replace(\"\", \"Unknown\")\n",
    ")\n",
    "\n",
    "# Slavic name regroup:\n",
    "dtf3.FamilyName = dtf3.FamilyName.str.replace(\"V$\", \"VI\", regex=True)\n",
    "dtf3.FamilyName = dtf3.FamilyName.str.replace(\"VA$\", \"VI\", regex=True)\n",
    "dtf3.FamilyName = dtf3.FamilyName.str.replace(\"SKA$\", \"SKI\", regex=True)\n",
    "\n",
    "fig = sunburst(\n",
    "    dtf3,\n",
    "    path=[\"FamilyName\", \"BirthCity\"],\n",
    "    values=\"Count\",\n",
    "    title=\"My family tree origins\",\n",
    ")\n",
    "fig.update_traces(textinfo=\"label+percent entry\")\n",
    "fig.write_html(\"FamilyNameSunburst.html\")\n",
    "fig"
   ]
  },
  {
   "cell_type": "code",
   "execution_count": 405,
   "metadata": {},
   "outputs": [
    {
     "data": {
      "application/vnd.plotly.v1+json": {
       "config": {
        "plotlyServerURL": "https://plot.ly"
       },
       "data": [
        {
         "branchvalues": "total",
         "domain": {
          "x": [
           0,
           1
          ],
          "y": [
           0,
           1
          ]
         },
         "hovertemplate": "labels=%{label}<br>Count=%{value}<br>parent=%{parent}<br>id=%{id}<extra></extra>",
         "ids": [
          "August/1",
          "January/1",
          "August/2",
          "February/2",
          "January/2",
          "March/2",
          "September/2",
          "April/3",
          "December/3",
          "June/3",
          "August/4",
          "July/4",
          "November/4",
          "March/5",
          "November/5",
          "June/6",
          "March/7",
          "October/7",
          "April/8",
          "February/8",
          "November/8",
          "September/8",
          "August/9",
          "July/9",
          "November/9",
          "September/9",
          "April/10",
          "August/10",
          "July/10",
          "May/10",
          "April/11",
          "August/11",
          "December/11",
          "February/11",
          "June/11",
          "November/11",
          "October/11",
          "August/12",
          "February/12",
          "July/12",
          "December/13",
          "September/13",
          "April/14",
          "August/14",
          "February/14",
          "July/14",
          "November/14",
          "December/15",
          "June/15",
          "November/15",
          "April/16",
          "July/16",
          "August/17",
          "July/17",
          "March/17",
          "August/18",
          "February/18",
          "August/19",
          "June/19",
          "November/19",
          "July/20",
          "October/20",
          "April/21",
          "December/21",
          "January/21",
          "June/21",
          "March/21",
          "December/22",
          "July/22",
          "March/22",
          "November/22",
          "October/22",
          "April/23",
          "June/23",
          "November/23",
          "February/24",
          "January/24",
          "July/25",
          "September/25",
          "February/26",
          "January/26",
          "August/27",
          "May/27",
          "November/27",
          "October/27",
          "September/27",
          "August/28",
          "February/28",
          "July/28",
          "June/28",
          "November/28",
          "September/28",
          "February/29",
          "April/30",
          "January/30",
          "June/30",
          "March/30",
          "May/30",
          "December/31",
          "October/31",
          "April",
          "August",
          "December",
          "February",
          "January",
          "July",
          "June",
          "March",
          "May",
          "November",
          "October",
          "September"
         ],
         "labels": [
          "1",
          "1",
          "2",
          "2",
          "2",
          "2",
          "2",
          "3",
          "3",
          "3",
          "4",
          "4",
          "4",
          "5",
          "5",
          "6",
          "7",
          "7",
          "8",
          "8",
          "8",
          "8",
          "9",
          "9",
          "9",
          "9",
          "10",
          "10",
          "10",
          "10",
          "11",
          "11",
          "11",
          "11",
          "11",
          "11",
          "11",
          "12",
          "12",
          "12",
          "13",
          "13",
          "14",
          "14",
          "14",
          "14",
          "14",
          "15",
          "15",
          "15",
          "16",
          "16",
          "17",
          "17",
          "17",
          "18",
          "18",
          "19",
          "19",
          "19",
          "20",
          "20",
          "21",
          "21",
          "21",
          "21",
          "21",
          "22",
          "22",
          "22",
          "22",
          "22",
          "23",
          "23",
          "23",
          "24",
          "24",
          "25",
          "25",
          "26",
          "26",
          "27",
          "27",
          "27",
          "27",
          "27",
          "28",
          "28",
          "28",
          "28",
          "28",
          "28",
          "29",
          "30",
          "30",
          "30",
          "30",
          "30",
          "31",
          "31",
          "April",
          "August",
          "December",
          "February",
          "January",
          "July",
          "June",
          "March",
          "May",
          "November",
          "October",
          "September"
         ],
         "name": "",
         "parents": [
          "August",
          "January",
          "August",
          "February",
          "January",
          "March",
          "September",
          "April",
          "December",
          "June",
          "August",
          "July",
          "November",
          "March",
          "November",
          "June",
          "March",
          "October",
          "April",
          "February",
          "November",
          "September",
          "August",
          "July",
          "November",
          "September",
          "April",
          "August",
          "July",
          "May",
          "April",
          "August",
          "December",
          "February",
          "June",
          "November",
          "October",
          "August",
          "February",
          "July",
          "December",
          "September",
          "April",
          "August",
          "February",
          "July",
          "November",
          "December",
          "June",
          "November",
          "April",
          "July",
          "August",
          "July",
          "March",
          "August",
          "February",
          "August",
          "June",
          "November",
          "July",
          "October",
          "April",
          "December",
          "January",
          "June",
          "March",
          "December",
          "July",
          "March",
          "November",
          "October",
          "April",
          "June",
          "November",
          "February",
          "January",
          "July",
          "September",
          "February",
          "January",
          "August",
          "May",
          "November",
          "October",
          "September",
          "August",
          "February",
          "July",
          "June",
          "November",
          "September",
          "February",
          "April",
          "January",
          "June",
          "March",
          "May",
          "December",
          "October",
          "",
          "",
          "",
          "",
          "",
          "",
          "",
          "",
          "",
          "",
          "",
          ""
         ],
         "textinfo": "label+percent entry",
         "type": "sunburst",
         "values": [
          1,
          1,
          1,
          1,
          2,
          1,
          1,
          1,
          1,
          1,
          1,
          1,
          2,
          2,
          1,
          1,
          1,
          1,
          1,
          1,
          1,
          1,
          1,
          1,
          1,
          1,
          1,
          1,
          1,
          1,
          1,
          1,
          1,
          1,
          1,
          2,
          1,
          1,
          1,
          1,
          1,
          1,
          2,
          1,
          2,
          1,
          1,
          1,
          1,
          1,
          1,
          1,
          1,
          1,
          1,
          1,
          1,
          1,
          2,
          1,
          1,
          1,
          1,
          1,
          2,
          1,
          1,
          1,
          1,
          1,
          1,
          1,
          1,
          1,
          1,
          2,
          2,
          1,
          1,
          2,
          1,
          1,
          2,
          1,
          2,
          1,
          2,
          1,
          1,
          1,
          2,
          2,
          1,
          1,
          1,
          1,
          1,
          1,
          2,
          1,
          10,
          14,
          8,
          13,
          9,
          11,
          10,
          8,
          4,
          15,
          7,
          8
         ]
        }
       ],
       "layout": {
        "legend": {
         "tracegroupgap": 0
        },
        "template": {
         "data": {
          "bar": [
           {
            "error_x": {
             "color": "#f2f5fa"
            },
            "error_y": {
             "color": "#f2f5fa"
            },
            "marker": {
             "line": {
              "color": "rgb(17,17,17)",
              "width": 0.5
             },
             "pattern": {
              "fillmode": "overlay",
              "size": 10,
              "solidity": 0.2
             }
            },
            "type": "bar"
           }
          ],
          "barpolar": [
           {
            "marker": {
             "line": {
              "color": "rgb(17,17,17)",
              "width": 0.5
             },
             "pattern": {
              "fillmode": "overlay",
              "size": 10,
              "solidity": 0.2
             }
            },
            "type": "barpolar"
           }
          ],
          "carpet": [
           {
            "aaxis": {
             "endlinecolor": "#A2B1C6",
             "gridcolor": "#506784",
             "linecolor": "#506784",
             "minorgridcolor": "#506784",
             "startlinecolor": "#A2B1C6"
            },
            "baxis": {
             "endlinecolor": "#A2B1C6",
             "gridcolor": "#506784",
             "linecolor": "#506784",
             "minorgridcolor": "#506784",
             "startlinecolor": "#A2B1C6"
            },
            "type": "carpet"
           }
          ],
          "choropleth": [
           {
            "colorbar": {
             "outlinewidth": 0,
             "ticks": ""
            },
            "type": "choropleth"
           }
          ],
          "contour": [
           {
            "colorbar": {
             "outlinewidth": 0,
             "ticks": ""
            },
            "colorscale": [
             [
              0,
              "#0d0887"
             ],
             [
              0.1111111111111111,
              "#46039f"
             ],
             [
              0.2222222222222222,
              "#7201a8"
             ],
             [
              0.3333333333333333,
              "#9c179e"
             ],
             [
              0.4444444444444444,
              "#bd3786"
             ],
             [
              0.5555555555555556,
              "#d8576b"
             ],
             [
              0.6666666666666666,
              "#ed7953"
             ],
             [
              0.7777777777777778,
              "#fb9f3a"
             ],
             [
              0.8888888888888888,
              "#fdca26"
             ],
             [
              1,
              "#f0f921"
             ]
            ],
            "type": "contour"
           }
          ],
          "contourcarpet": [
           {
            "colorbar": {
             "outlinewidth": 0,
             "ticks": ""
            },
            "type": "contourcarpet"
           }
          ],
          "heatmap": [
           {
            "colorbar": {
             "outlinewidth": 0,
             "ticks": ""
            },
            "colorscale": [
             [
              0,
              "#0d0887"
             ],
             [
              0.1111111111111111,
              "#46039f"
             ],
             [
              0.2222222222222222,
              "#7201a8"
             ],
             [
              0.3333333333333333,
              "#9c179e"
             ],
             [
              0.4444444444444444,
              "#bd3786"
             ],
             [
              0.5555555555555556,
              "#d8576b"
             ],
             [
              0.6666666666666666,
              "#ed7953"
             ],
             [
              0.7777777777777778,
              "#fb9f3a"
             ],
             [
              0.8888888888888888,
              "#fdca26"
             ],
             [
              1,
              "#f0f921"
             ]
            ],
            "type": "heatmap"
           }
          ],
          "heatmapgl": [
           {
            "colorbar": {
             "outlinewidth": 0,
             "ticks": ""
            },
            "colorscale": [
             [
              0,
              "#0d0887"
             ],
             [
              0.1111111111111111,
              "#46039f"
             ],
             [
              0.2222222222222222,
              "#7201a8"
             ],
             [
              0.3333333333333333,
              "#9c179e"
             ],
             [
              0.4444444444444444,
              "#bd3786"
             ],
             [
              0.5555555555555556,
              "#d8576b"
             ],
             [
              0.6666666666666666,
              "#ed7953"
             ],
             [
              0.7777777777777778,
              "#fb9f3a"
             ],
             [
              0.8888888888888888,
              "#fdca26"
             ],
             [
              1,
              "#f0f921"
             ]
            ],
            "type": "heatmapgl"
           }
          ],
          "histogram": [
           {
            "marker": {
             "pattern": {
              "fillmode": "overlay",
              "size": 10,
              "solidity": 0.2
             }
            },
            "type": "histogram"
           }
          ],
          "histogram2d": [
           {
            "colorbar": {
             "outlinewidth": 0,
             "ticks": ""
            },
            "colorscale": [
             [
              0,
              "#0d0887"
             ],
             [
              0.1111111111111111,
              "#46039f"
             ],
             [
              0.2222222222222222,
              "#7201a8"
             ],
             [
              0.3333333333333333,
              "#9c179e"
             ],
             [
              0.4444444444444444,
              "#bd3786"
             ],
             [
              0.5555555555555556,
              "#d8576b"
             ],
             [
              0.6666666666666666,
              "#ed7953"
             ],
             [
              0.7777777777777778,
              "#fb9f3a"
             ],
             [
              0.8888888888888888,
              "#fdca26"
             ],
             [
              1,
              "#f0f921"
             ]
            ],
            "type": "histogram2d"
           }
          ],
          "histogram2dcontour": [
           {
            "colorbar": {
             "outlinewidth": 0,
             "ticks": ""
            },
            "colorscale": [
             [
              0,
              "#0d0887"
             ],
             [
              0.1111111111111111,
              "#46039f"
             ],
             [
              0.2222222222222222,
              "#7201a8"
             ],
             [
              0.3333333333333333,
              "#9c179e"
             ],
             [
              0.4444444444444444,
              "#bd3786"
             ],
             [
              0.5555555555555556,
              "#d8576b"
             ],
             [
              0.6666666666666666,
              "#ed7953"
             ],
             [
              0.7777777777777778,
              "#fb9f3a"
             ],
             [
              0.8888888888888888,
              "#fdca26"
             ],
             [
              1,
              "#f0f921"
             ]
            ],
            "type": "histogram2dcontour"
           }
          ],
          "mesh3d": [
           {
            "colorbar": {
             "outlinewidth": 0,
             "ticks": ""
            },
            "type": "mesh3d"
           }
          ],
          "parcoords": [
           {
            "line": {
             "colorbar": {
              "outlinewidth": 0,
              "ticks": ""
             }
            },
            "type": "parcoords"
           }
          ],
          "pie": [
           {
            "automargin": true,
            "type": "pie"
           }
          ],
          "scatter": [
           {
            "marker": {
             "line": {
              "color": "#283442"
             }
            },
            "type": "scatter"
           }
          ],
          "scatter3d": [
           {
            "line": {
             "colorbar": {
              "outlinewidth": 0,
              "ticks": ""
             }
            },
            "marker": {
             "colorbar": {
              "outlinewidth": 0,
              "ticks": ""
             }
            },
            "type": "scatter3d"
           }
          ],
          "scattercarpet": [
           {
            "marker": {
             "colorbar": {
              "outlinewidth": 0,
              "ticks": ""
             }
            },
            "type": "scattercarpet"
           }
          ],
          "scattergeo": [
           {
            "marker": {
             "colorbar": {
              "outlinewidth": 0,
              "ticks": ""
             }
            },
            "type": "scattergeo"
           }
          ],
          "scattergl": [
           {
            "marker": {
             "line": {
              "color": "#283442"
             }
            },
            "type": "scattergl"
           }
          ],
          "scattermapbox": [
           {
            "marker": {
             "colorbar": {
              "outlinewidth": 0,
              "ticks": ""
             }
            },
            "type": "scattermapbox"
           }
          ],
          "scatterpolar": [
           {
            "marker": {
             "colorbar": {
              "outlinewidth": 0,
              "ticks": ""
             }
            },
            "type": "scatterpolar"
           }
          ],
          "scatterpolargl": [
           {
            "marker": {
             "colorbar": {
              "outlinewidth": 0,
              "ticks": ""
             }
            },
            "type": "scatterpolargl"
           }
          ],
          "scatterternary": [
           {
            "marker": {
             "colorbar": {
              "outlinewidth": 0,
              "ticks": ""
             }
            },
            "type": "scatterternary"
           }
          ],
          "surface": [
           {
            "colorbar": {
             "outlinewidth": 0,
             "ticks": ""
            },
            "colorscale": [
             [
              0,
              "#0d0887"
             ],
             [
              0.1111111111111111,
              "#46039f"
             ],
             [
              0.2222222222222222,
              "#7201a8"
             ],
             [
              0.3333333333333333,
              "#9c179e"
             ],
             [
              0.4444444444444444,
              "#bd3786"
             ],
             [
              0.5555555555555556,
              "#d8576b"
             ],
             [
              0.6666666666666666,
              "#ed7953"
             ],
             [
              0.7777777777777778,
              "#fb9f3a"
             ],
             [
              0.8888888888888888,
              "#fdca26"
             ],
             [
              1,
              "#f0f921"
             ]
            ],
            "type": "surface"
           }
          ],
          "table": [
           {
            "cells": {
             "fill": {
              "color": "#506784"
             },
             "line": {
              "color": "rgb(17,17,17)"
             }
            },
            "header": {
             "fill": {
              "color": "#2a3f5f"
             },
             "line": {
              "color": "rgb(17,17,17)"
             }
            },
            "type": "table"
           }
          ]
         },
         "layout": {
          "annotationdefaults": {
           "arrowcolor": "#f2f5fa",
           "arrowhead": 0,
           "arrowwidth": 1
          },
          "autotypenumbers": "strict",
          "coloraxis": {
           "colorbar": {
            "outlinewidth": 0,
            "ticks": ""
           }
          },
          "colorscale": {
           "diverging": [
            [
             0,
             "#8e0152"
            ],
            [
             0.1,
             "#c51b7d"
            ],
            [
             0.2,
             "#de77ae"
            ],
            [
             0.3,
             "#f1b6da"
            ],
            [
             0.4,
             "#fde0ef"
            ],
            [
             0.5,
             "#f7f7f7"
            ],
            [
             0.6,
             "#e6f5d0"
            ],
            [
             0.7,
             "#b8e186"
            ],
            [
             0.8,
             "#7fbc41"
            ],
            [
             0.9,
             "#4d9221"
            ],
            [
             1,
             "#276419"
            ]
           ],
           "sequential": [
            [
             0,
             "#0d0887"
            ],
            [
             0.1111111111111111,
             "#46039f"
            ],
            [
             0.2222222222222222,
             "#7201a8"
            ],
            [
             0.3333333333333333,
             "#9c179e"
            ],
            [
             0.4444444444444444,
             "#bd3786"
            ],
            [
             0.5555555555555556,
             "#d8576b"
            ],
            [
             0.6666666666666666,
             "#ed7953"
            ],
            [
             0.7777777777777778,
             "#fb9f3a"
            ],
            [
             0.8888888888888888,
             "#fdca26"
            ],
            [
             1,
             "#f0f921"
            ]
           ],
           "sequentialminus": [
            [
             0,
             "#0d0887"
            ],
            [
             0.1111111111111111,
             "#46039f"
            ],
            [
             0.2222222222222222,
             "#7201a8"
            ],
            [
             0.3333333333333333,
             "#9c179e"
            ],
            [
             0.4444444444444444,
             "#bd3786"
            ],
            [
             0.5555555555555556,
             "#d8576b"
            ],
            [
             0.6666666666666666,
             "#ed7953"
            ],
            [
             0.7777777777777778,
             "#fb9f3a"
            ],
            [
             0.8888888888888888,
             "#fdca26"
            ],
            [
             1,
             "#f0f921"
            ]
           ]
          },
          "colorway": [
           "#636efa",
           "#EF553B",
           "#00cc96",
           "#ab63fa",
           "#FFA15A",
           "#19d3f3",
           "#FF6692",
           "#B6E880",
           "#FF97FF",
           "#FECB52"
          ],
          "font": {
           "color": "#f2f5fa"
          },
          "geo": {
           "bgcolor": "rgb(17,17,17)",
           "lakecolor": "rgb(17,17,17)",
           "landcolor": "rgb(17,17,17)",
           "showlakes": true,
           "showland": true,
           "subunitcolor": "#506784"
          },
          "hoverlabel": {
           "align": "left"
          },
          "hovermode": "closest",
          "mapbox": {
           "style": "dark"
          },
          "paper_bgcolor": "rgb(17,17,17)",
          "plot_bgcolor": "rgb(17,17,17)",
          "polar": {
           "angularaxis": {
            "gridcolor": "#506784",
            "linecolor": "#506784",
            "ticks": ""
           },
           "bgcolor": "rgb(17,17,17)",
           "radialaxis": {
            "gridcolor": "#506784",
            "linecolor": "#506784",
            "ticks": ""
           }
          },
          "scene": {
           "xaxis": {
            "backgroundcolor": "rgb(17,17,17)",
            "gridcolor": "#506784",
            "gridwidth": 2,
            "linecolor": "#506784",
            "showbackground": true,
            "ticks": "",
            "zerolinecolor": "#C8D4E3"
           },
           "yaxis": {
            "backgroundcolor": "rgb(17,17,17)",
            "gridcolor": "#506784",
            "gridwidth": 2,
            "linecolor": "#506784",
            "showbackground": true,
            "ticks": "",
            "zerolinecolor": "#C8D4E3"
           },
           "zaxis": {
            "backgroundcolor": "rgb(17,17,17)",
            "gridcolor": "#506784",
            "gridwidth": 2,
            "linecolor": "#506784",
            "showbackground": true,
            "ticks": "",
            "zerolinecolor": "#C8D4E3"
           }
          },
          "shapedefaults": {
           "line": {
            "color": "#f2f5fa"
           }
          },
          "sliderdefaults": {
           "bgcolor": "#C8D4E3",
           "bordercolor": "rgb(17,17,17)",
           "borderwidth": 1,
           "tickwidth": 0
          },
          "ternary": {
           "aaxis": {
            "gridcolor": "#506784",
            "linecolor": "#506784",
            "ticks": ""
           },
           "baxis": {
            "gridcolor": "#506784",
            "linecolor": "#506784",
            "ticks": ""
           },
           "bgcolor": "rgb(17,17,17)",
           "caxis": {
            "gridcolor": "#506784",
            "linecolor": "#506784",
            "ticks": ""
           }
          },
          "title": {
           "x": 0.05
          },
          "updatemenudefaults": {
           "bgcolor": "#506784",
           "borderwidth": 0
          },
          "xaxis": {
           "automargin": true,
           "gridcolor": "#283442",
           "linecolor": "#506784",
           "ticks": "",
           "title": {
            "standoff": 15
           },
           "zerolinecolor": "#283442",
           "zerolinewidth": 2
          },
          "yaxis": {
           "automargin": true,
           "gridcolor": "#283442",
           "linecolor": "#506784",
           "ticks": "",
           "title": {
            "standoff": 15
           },
           "zerolinecolor": "#283442",
           "zerolinewidth": 2
          }
         }
        },
        "title": {
         "text": "Family bitrth month"
        }
       }
      }
     },
     "metadata": {},
     "output_type": "display_data"
    }
   ],
   "source": [
    "dtf3 = (\n",
    "    (\n",
    "        dtf[[\"BirthMonth\", \"BirthDay\"]]\n",
    "        .groupby([\"BirthMonth\", \"BirthDay\"])\n",
    "        .size()\n",
    "        .to_frame(\"Count\")\n",
    "        .sort_values(\"Count\", ascending=False)\n",
    "    )\n",
    "    .reset_index(drop=False)\n",
    "    .replace(\"\", \"Unknown\")\n",
    ")\n",
    "\n",
    "fig = sunburst(\n",
    "    dtf3,\n",
    "    path=[\"BirthMonth\", \"BirthDay\"],\n",
    "    values=\"Count\",\n",
    "    title=\"Family bitrth month\",\n",
    ")\n",
    "fig.update_traces(textinfo=\"label+percent entry\")\n",
    "fig.write_html(\"BirthMonthSunburst.html\")\n",
    "fig"
   ]
  },
  {
   "cell_type": "code",
   "execution_count": 406,
   "metadata": {},
   "outputs": [
    {
     "data": {
      "application/vnd.plotly.v1+json": {
       "config": {
        "plotlyServerURL": "https://plot.ly"
       },
       "data": [
        {
         "branchvalues": "total",
         "domain": {
          "x": [
           0,
           1
          ],
          "y": [
           0,
           1
          ]
         },
         "hovertemplate": "labels=%{label}<br>Count=%{value}<br>parent=%{parent}<br>id=%{id}<extra></extra>",
         "ids": [
          "3/April",
          "8/April",
          "10/April",
          "11/April",
          "14/April",
          "16/April",
          "21/April",
          "23/April",
          "30/April",
          "1/August",
          "2/August",
          "4/August",
          "9/August",
          "10/August",
          "11/August",
          "12/August",
          "14/August",
          "17/August",
          "18/August",
          "19/August",
          "27/August",
          "28/August",
          "3/December",
          "11/December",
          "13/December",
          "15/December",
          "21/December",
          "22/December",
          "31/December",
          "2/February",
          "8/February",
          "11/February",
          "12/February",
          "14/February",
          "18/February",
          "24/February",
          "26/February",
          "28/February",
          "29/February",
          "1/January",
          "2/January",
          "21/January",
          "24/January",
          "26/January",
          "30/January",
          "4/July",
          "9/July",
          "10/July",
          "12/July",
          "14/July",
          "16/July",
          "17/July",
          "20/July",
          "22/July",
          "25/July",
          "28/July",
          "3/June",
          "6/June",
          "11/June",
          "15/June",
          "19/June",
          "21/June",
          "23/June",
          "28/June",
          "30/June",
          "2/March",
          "5/March",
          "7/March",
          "17/March",
          "21/March",
          "22/March",
          "30/March",
          "10/May",
          "27/May",
          "30/May",
          "4/November",
          "5/November",
          "8/November",
          "9/November",
          "11/November",
          "14/November",
          "15/November",
          "19/November",
          "22/November",
          "23/November",
          "27/November",
          "28/November",
          "7/October",
          "11/October",
          "20/October",
          "22/October",
          "27/October",
          "31/October",
          "2/September",
          "8/September",
          "9/September",
          "13/September",
          "25/September",
          "27/September",
          "28/September",
          "1",
          "2",
          "3",
          "4",
          "5",
          "6",
          "7",
          "8",
          "9",
          "10",
          "11",
          "12",
          "13",
          "14",
          "15",
          "16",
          "17",
          "18",
          "19",
          "20",
          "21",
          "22",
          "23",
          "24",
          "25",
          "26",
          "27",
          "28",
          "29",
          "30",
          "31"
         ],
         "labels": [
          "April",
          "April",
          "April",
          "April",
          "April",
          "April",
          "April",
          "April",
          "April",
          "August",
          "August",
          "August",
          "August",
          "August",
          "August",
          "August",
          "August",
          "August",
          "August",
          "August",
          "August",
          "August",
          "December",
          "December",
          "December",
          "December",
          "December",
          "December",
          "December",
          "February",
          "February",
          "February",
          "February",
          "February",
          "February",
          "February",
          "February",
          "February",
          "February",
          "January",
          "January",
          "January",
          "January",
          "January",
          "January",
          "July",
          "July",
          "July",
          "July",
          "July",
          "July",
          "July",
          "July",
          "July",
          "July",
          "July",
          "June",
          "June",
          "June",
          "June",
          "June",
          "June",
          "June",
          "June",
          "June",
          "March",
          "March",
          "March",
          "March",
          "March",
          "March",
          "March",
          "May",
          "May",
          "May",
          "November",
          "November",
          "November",
          "November",
          "November",
          "November",
          "November",
          "November",
          "November",
          "November",
          "November",
          "November",
          "October",
          "October",
          "October",
          "October",
          "October",
          "October",
          "September",
          "September",
          "September",
          "September",
          "September",
          "September",
          "September",
          "1",
          "2",
          "3",
          "4",
          "5",
          "6",
          "7",
          "8",
          "9",
          "10",
          "11",
          "12",
          "13",
          "14",
          "15",
          "16",
          "17",
          "18",
          "19",
          "20",
          "21",
          "22",
          "23",
          "24",
          "25",
          "26",
          "27",
          "28",
          "29",
          "30",
          "31"
         ],
         "name": "",
         "parents": [
          "3",
          "8",
          "10",
          "11",
          "14",
          "16",
          "21",
          "23",
          "30",
          "1",
          "2",
          "4",
          "9",
          "10",
          "11",
          "12",
          "14",
          "17",
          "18",
          "19",
          "27",
          "28",
          "3",
          "11",
          "13",
          "15",
          "21",
          "22",
          "31",
          "2",
          "8",
          "11",
          "12",
          "14",
          "18",
          "24",
          "26",
          "28",
          "29",
          "1",
          "2",
          "21",
          "24",
          "26",
          "30",
          "4",
          "9",
          "10",
          "12",
          "14",
          "16",
          "17",
          "20",
          "22",
          "25",
          "28",
          "3",
          "6",
          "11",
          "15",
          "19",
          "21",
          "23",
          "28",
          "30",
          "2",
          "5",
          "7",
          "17",
          "21",
          "22",
          "30",
          "10",
          "27",
          "30",
          "4",
          "5",
          "8",
          "9",
          "11",
          "14",
          "15",
          "19",
          "22",
          "23",
          "27",
          "28",
          "7",
          "11",
          "20",
          "22",
          "27",
          "31",
          "2",
          "8",
          "9",
          "13",
          "25",
          "27",
          "28",
          "",
          "",
          "",
          "",
          "",
          "",
          "",
          "",
          "",
          "",
          "",
          "",
          "",
          "",
          "",
          "",
          "",
          "",
          "",
          "",
          "",
          "",
          "",
          "",
          "",
          "",
          "",
          "",
          "",
          "",
          ""
         ],
         "textinfo": "label+percent entry",
         "type": "sunburst",
         "values": [
          1,
          1,
          1,
          1,
          2,
          1,
          1,
          1,
          1,
          1,
          1,
          1,
          1,
          1,
          1,
          1,
          1,
          1,
          1,
          1,
          1,
          2,
          1,
          1,
          1,
          1,
          1,
          1,
          2,
          1,
          1,
          1,
          1,
          2,
          1,
          2,
          2,
          1,
          1,
          1,
          2,
          2,
          2,
          1,
          1,
          1,
          1,
          1,
          1,
          1,
          1,
          1,
          1,
          1,
          1,
          1,
          1,
          1,
          1,
          1,
          2,
          1,
          1,
          1,
          1,
          1,
          2,
          1,
          1,
          1,
          1,
          1,
          1,
          2,
          1,
          2,
          1,
          1,
          1,
          2,
          1,
          1,
          1,
          1,
          1,
          1,
          2,
          1,
          1,
          1,
          1,
          2,
          1,
          1,
          1,
          1,
          1,
          1,
          1,
          2,
          2,
          6,
          3,
          4,
          3,
          1,
          2,
          4,
          4,
          4,
          8,
          3,
          2,
          7,
          3,
          2,
          3,
          2,
          4,
          2,
          6,
          5,
          3,
          4,
          2,
          3,
          7,
          9,
          1,
          5,
          3
         ]
        }
       ],
       "layout": {
        "legend": {
         "tracegroupgap": 0
        },
        "template": {
         "data": {
          "bar": [
           {
            "error_x": {
             "color": "#f2f5fa"
            },
            "error_y": {
             "color": "#f2f5fa"
            },
            "marker": {
             "line": {
              "color": "rgb(17,17,17)",
              "width": 0.5
             },
             "pattern": {
              "fillmode": "overlay",
              "size": 10,
              "solidity": 0.2
             }
            },
            "type": "bar"
           }
          ],
          "barpolar": [
           {
            "marker": {
             "line": {
              "color": "rgb(17,17,17)",
              "width": 0.5
             },
             "pattern": {
              "fillmode": "overlay",
              "size": 10,
              "solidity": 0.2
             }
            },
            "type": "barpolar"
           }
          ],
          "carpet": [
           {
            "aaxis": {
             "endlinecolor": "#A2B1C6",
             "gridcolor": "#506784",
             "linecolor": "#506784",
             "minorgridcolor": "#506784",
             "startlinecolor": "#A2B1C6"
            },
            "baxis": {
             "endlinecolor": "#A2B1C6",
             "gridcolor": "#506784",
             "linecolor": "#506784",
             "minorgridcolor": "#506784",
             "startlinecolor": "#A2B1C6"
            },
            "type": "carpet"
           }
          ],
          "choropleth": [
           {
            "colorbar": {
             "outlinewidth": 0,
             "ticks": ""
            },
            "type": "choropleth"
           }
          ],
          "contour": [
           {
            "colorbar": {
             "outlinewidth": 0,
             "ticks": ""
            },
            "colorscale": [
             [
              0,
              "#0d0887"
             ],
             [
              0.1111111111111111,
              "#46039f"
             ],
             [
              0.2222222222222222,
              "#7201a8"
             ],
             [
              0.3333333333333333,
              "#9c179e"
             ],
             [
              0.4444444444444444,
              "#bd3786"
             ],
             [
              0.5555555555555556,
              "#d8576b"
             ],
             [
              0.6666666666666666,
              "#ed7953"
             ],
             [
              0.7777777777777778,
              "#fb9f3a"
             ],
             [
              0.8888888888888888,
              "#fdca26"
             ],
             [
              1,
              "#f0f921"
             ]
            ],
            "type": "contour"
           }
          ],
          "contourcarpet": [
           {
            "colorbar": {
             "outlinewidth": 0,
             "ticks": ""
            },
            "type": "contourcarpet"
           }
          ],
          "heatmap": [
           {
            "colorbar": {
             "outlinewidth": 0,
             "ticks": ""
            },
            "colorscale": [
             [
              0,
              "#0d0887"
             ],
             [
              0.1111111111111111,
              "#46039f"
             ],
             [
              0.2222222222222222,
              "#7201a8"
             ],
             [
              0.3333333333333333,
              "#9c179e"
             ],
             [
              0.4444444444444444,
              "#bd3786"
             ],
             [
              0.5555555555555556,
              "#d8576b"
             ],
             [
              0.6666666666666666,
              "#ed7953"
             ],
             [
              0.7777777777777778,
              "#fb9f3a"
             ],
             [
              0.8888888888888888,
              "#fdca26"
             ],
             [
              1,
              "#f0f921"
             ]
            ],
            "type": "heatmap"
           }
          ],
          "heatmapgl": [
           {
            "colorbar": {
             "outlinewidth": 0,
             "ticks": ""
            },
            "colorscale": [
             [
              0,
              "#0d0887"
             ],
             [
              0.1111111111111111,
              "#46039f"
             ],
             [
              0.2222222222222222,
              "#7201a8"
             ],
             [
              0.3333333333333333,
              "#9c179e"
             ],
             [
              0.4444444444444444,
              "#bd3786"
             ],
             [
              0.5555555555555556,
              "#d8576b"
             ],
             [
              0.6666666666666666,
              "#ed7953"
             ],
             [
              0.7777777777777778,
              "#fb9f3a"
             ],
             [
              0.8888888888888888,
              "#fdca26"
             ],
             [
              1,
              "#f0f921"
             ]
            ],
            "type": "heatmapgl"
           }
          ],
          "histogram": [
           {
            "marker": {
             "pattern": {
              "fillmode": "overlay",
              "size": 10,
              "solidity": 0.2
             }
            },
            "type": "histogram"
           }
          ],
          "histogram2d": [
           {
            "colorbar": {
             "outlinewidth": 0,
             "ticks": ""
            },
            "colorscale": [
             [
              0,
              "#0d0887"
             ],
             [
              0.1111111111111111,
              "#46039f"
             ],
             [
              0.2222222222222222,
              "#7201a8"
             ],
             [
              0.3333333333333333,
              "#9c179e"
             ],
             [
              0.4444444444444444,
              "#bd3786"
             ],
             [
              0.5555555555555556,
              "#d8576b"
             ],
             [
              0.6666666666666666,
              "#ed7953"
             ],
             [
              0.7777777777777778,
              "#fb9f3a"
             ],
             [
              0.8888888888888888,
              "#fdca26"
             ],
             [
              1,
              "#f0f921"
             ]
            ],
            "type": "histogram2d"
           }
          ],
          "histogram2dcontour": [
           {
            "colorbar": {
             "outlinewidth": 0,
             "ticks": ""
            },
            "colorscale": [
             [
              0,
              "#0d0887"
             ],
             [
              0.1111111111111111,
              "#46039f"
             ],
             [
              0.2222222222222222,
              "#7201a8"
             ],
             [
              0.3333333333333333,
              "#9c179e"
             ],
             [
              0.4444444444444444,
              "#bd3786"
             ],
             [
              0.5555555555555556,
              "#d8576b"
             ],
             [
              0.6666666666666666,
              "#ed7953"
             ],
             [
              0.7777777777777778,
              "#fb9f3a"
             ],
             [
              0.8888888888888888,
              "#fdca26"
             ],
             [
              1,
              "#f0f921"
             ]
            ],
            "type": "histogram2dcontour"
           }
          ],
          "mesh3d": [
           {
            "colorbar": {
             "outlinewidth": 0,
             "ticks": ""
            },
            "type": "mesh3d"
           }
          ],
          "parcoords": [
           {
            "line": {
             "colorbar": {
              "outlinewidth": 0,
              "ticks": ""
             }
            },
            "type": "parcoords"
           }
          ],
          "pie": [
           {
            "automargin": true,
            "type": "pie"
           }
          ],
          "scatter": [
           {
            "marker": {
             "line": {
              "color": "#283442"
             }
            },
            "type": "scatter"
           }
          ],
          "scatter3d": [
           {
            "line": {
             "colorbar": {
              "outlinewidth": 0,
              "ticks": ""
             }
            },
            "marker": {
             "colorbar": {
              "outlinewidth": 0,
              "ticks": ""
             }
            },
            "type": "scatter3d"
           }
          ],
          "scattercarpet": [
           {
            "marker": {
             "colorbar": {
              "outlinewidth": 0,
              "ticks": ""
             }
            },
            "type": "scattercarpet"
           }
          ],
          "scattergeo": [
           {
            "marker": {
             "colorbar": {
              "outlinewidth": 0,
              "ticks": ""
             }
            },
            "type": "scattergeo"
           }
          ],
          "scattergl": [
           {
            "marker": {
             "line": {
              "color": "#283442"
             }
            },
            "type": "scattergl"
           }
          ],
          "scattermapbox": [
           {
            "marker": {
             "colorbar": {
              "outlinewidth": 0,
              "ticks": ""
             }
            },
            "type": "scattermapbox"
           }
          ],
          "scatterpolar": [
           {
            "marker": {
             "colorbar": {
              "outlinewidth": 0,
              "ticks": ""
             }
            },
            "type": "scatterpolar"
           }
          ],
          "scatterpolargl": [
           {
            "marker": {
             "colorbar": {
              "outlinewidth": 0,
              "ticks": ""
             }
            },
            "type": "scatterpolargl"
           }
          ],
          "scatterternary": [
           {
            "marker": {
             "colorbar": {
              "outlinewidth": 0,
              "ticks": ""
             }
            },
            "type": "scatterternary"
           }
          ],
          "surface": [
           {
            "colorbar": {
             "outlinewidth": 0,
             "ticks": ""
            },
            "colorscale": [
             [
              0,
              "#0d0887"
             ],
             [
              0.1111111111111111,
              "#46039f"
             ],
             [
              0.2222222222222222,
              "#7201a8"
             ],
             [
              0.3333333333333333,
              "#9c179e"
             ],
             [
              0.4444444444444444,
              "#bd3786"
             ],
             [
              0.5555555555555556,
              "#d8576b"
             ],
             [
              0.6666666666666666,
              "#ed7953"
             ],
             [
              0.7777777777777778,
              "#fb9f3a"
             ],
             [
              0.8888888888888888,
              "#fdca26"
             ],
             [
              1,
              "#f0f921"
             ]
            ],
            "type": "surface"
           }
          ],
          "table": [
           {
            "cells": {
             "fill": {
              "color": "#506784"
             },
             "line": {
              "color": "rgb(17,17,17)"
             }
            },
            "header": {
             "fill": {
              "color": "#2a3f5f"
             },
             "line": {
              "color": "rgb(17,17,17)"
             }
            },
            "type": "table"
           }
          ]
         },
         "layout": {
          "annotationdefaults": {
           "arrowcolor": "#f2f5fa",
           "arrowhead": 0,
           "arrowwidth": 1
          },
          "autotypenumbers": "strict",
          "coloraxis": {
           "colorbar": {
            "outlinewidth": 0,
            "ticks": ""
           }
          },
          "colorscale": {
           "diverging": [
            [
             0,
             "#8e0152"
            ],
            [
             0.1,
             "#c51b7d"
            ],
            [
             0.2,
             "#de77ae"
            ],
            [
             0.3,
             "#f1b6da"
            ],
            [
             0.4,
             "#fde0ef"
            ],
            [
             0.5,
             "#f7f7f7"
            ],
            [
             0.6,
             "#e6f5d0"
            ],
            [
             0.7,
             "#b8e186"
            ],
            [
             0.8,
             "#7fbc41"
            ],
            [
             0.9,
             "#4d9221"
            ],
            [
             1,
             "#276419"
            ]
           ],
           "sequential": [
            [
             0,
             "#0d0887"
            ],
            [
             0.1111111111111111,
             "#46039f"
            ],
            [
             0.2222222222222222,
             "#7201a8"
            ],
            [
             0.3333333333333333,
             "#9c179e"
            ],
            [
             0.4444444444444444,
             "#bd3786"
            ],
            [
             0.5555555555555556,
             "#d8576b"
            ],
            [
             0.6666666666666666,
             "#ed7953"
            ],
            [
             0.7777777777777778,
             "#fb9f3a"
            ],
            [
             0.8888888888888888,
             "#fdca26"
            ],
            [
             1,
             "#f0f921"
            ]
           ],
           "sequentialminus": [
            [
             0,
             "#0d0887"
            ],
            [
             0.1111111111111111,
             "#46039f"
            ],
            [
             0.2222222222222222,
             "#7201a8"
            ],
            [
             0.3333333333333333,
             "#9c179e"
            ],
            [
             0.4444444444444444,
             "#bd3786"
            ],
            [
             0.5555555555555556,
             "#d8576b"
            ],
            [
             0.6666666666666666,
             "#ed7953"
            ],
            [
             0.7777777777777778,
             "#fb9f3a"
            ],
            [
             0.8888888888888888,
             "#fdca26"
            ],
            [
             1,
             "#f0f921"
            ]
           ]
          },
          "colorway": [
           "#636efa",
           "#EF553B",
           "#00cc96",
           "#ab63fa",
           "#FFA15A",
           "#19d3f3",
           "#FF6692",
           "#B6E880",
           "#FF97FF",
           "#FECB52"
          ],
          "font": {
           "color": "#f2f5fa"
          },
          "geo": {
           "bgcolor": "rgb(17,17,17)",
           "lakecolor": "rgb(17,17,17)",
           "landcolor": "rgb(17,17,17)",
           "showlakes": true,
           "showland": true,
           "subunitcolor": "#506784"
          },
          "hoverlabel": {
           "align": "left"
          },
          "hovermode": "closest",
          "mapbox": {
           "style": "dark"
          },
          "paper_bgcolor": "rgb(17,17,17)",
          "plot_bgcolor": "rgb(17,17,17)",
          "polar": {
           "angularaxis": {
            "gridcolor": "#506784",
            "linecolor": "#506784",
            "ticks": ""
           },
           "bgcolor": "rgb(17,17,17)",
           "radialaxis": {
            "gridcolor": "#506784",
            "linecolor": "#506784",
            "ticks": ""
           }
          },
          "scene": {
           "xaxis": {
            "backgroundcolor": "rgb(17,17,17)",
            "gridcolor": "#506784",
            "gridwidth": 2,
            "linecolor": "#506784",
            "showbackground": true,
            "ticks": "",
            "zerolinecolor": "#C8D4E3"
           },
           "yaxis": {
            "backgroundcolor": "rgb(17,17,17)",
            "gridcolor": "#506784",
            "gridwidth": 2,
            "linecolor": "#506784",
            "showbackground": true,
            "ticks": "",
            "zerolinecolor": "#C8D4E3"
           },
           "zaxis": {
            "backgroundcolor": "rgb(17,17,17)",
            "gridcolor": "#506784",
            "gridwidth": 2,
            "linecolor": "#506784",
            "showbackground": true,
            "ticks": "",
            "zerolinecolor": "#C8D4E3"
           }
          },
          "shapedefaults": {
           "line": {
            "color": "#f2f5fa"
           }
          },
          "sliderdefaults": {
           "bgcolor": "#C8D4E3",
           "bordercolor": "rgb(17,17,17)",
           "borderwidth": 1,
           "tickwidth": 0
          },
          "ternary": {
           "aaxis": {
            "gridcolor": "#506784",
            "linecolor": "#506784",
            "ticks": ""
           },
           "baxis": {
            "gridcolor": "#506784",
            "linecolor": "#506784",
            "ticks": ""
           },
           "bgcolor": "rgb(17,17,17)",
           "caxis": {
            "gridcolor": "#506784",
            "linecolor": "#506784",
            "ticks": ""
           }
          },
          "title": {
           "x": 0.05
          },
          "updatemenudefaults": {
           "bgcolor": "#506784",
           "borderwidth": 0
          },
          "xaxis": {
           "automargin": true,
           "gridcolor": "#283442",
           "linecolor": "#506784",
           "ticks": "",
           "title": {
            "standoff": 15
           },
           "zerolinecolor": "#283442",
           "zerolinewidth": 2
          },
          "yaxis": {
           "automargin": true,
           "gridcolor": "#283442",
           "linecolor": "#506784",
           "ticks": "",
           "title": {
            "standoff": 15
           },
           "zerolinecolor": "#283442",
           "zerolinewidth": 2
          }
         }
        },
        "title": {
         "text": "Family birth day"
        }
       }
      }
     },
     "metadata": {},
     "output_type": "display_data"
    }
   ],
   "source": [
    "dtf3 = (\n",
    "    (\n",
    "        dtf[[\"BirthDay\", \"BirthMonth\"]]\n",
    "        .groupby([\"BirthDay\", \"BirthMonth\"])\n",
    "        .size()\n",
    "        .to_frame(\"Count\")\n",
    "        .sort_values(\"Count\", ascending=False)\n",
    "    )\n",
    "    .reset_index(drop=False)\n",
    "    .replace(\"\", \"Unknown\")\n",
    ")\n",
    "\n",
    "fig = sunburst(\n",
    "    dtf3,\n",
    "    path=[\"BirthDay\", \"BirthMonth\"],\n",
    "    values=\"Count\",\n",
    "    title=\"Family birth day\",\n",
    ")\n",
    "fig.update_traces(textinfo=\"label+percent entry\")\n",
    "fig.write_html(\"BirthDaySunburst.html\")\n",
    "fig"
   ]
  }
 ],
 "metadata": {
  "kernelspec": {
   "display_name": "Python 3",
   "language": "python",
   "name": "python3"
  },
  "language_info": {
   "codemirror_mode": {
    "name": "ipython",
    "version": 3
   },
   "file_extension": ".py",
   "mimetype": "text/x-python",
   "name": "python",
   "nbconvert_exporter": "python",
   "pygments_lexer": "ipython3",
   "version": "3.11.3"
  },
  "orig_nbformat": 4
 },
 "nbformat": 4,
 "nbformat_minor": 2
}
