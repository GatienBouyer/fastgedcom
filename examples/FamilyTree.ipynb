{
 "cells": [
  {
   "attachments": {},
   "cell_type": "markdown",
   "metadata": {},
   "source": [
    "# Analyse a gedcom file\n",
    "## 1. Install"
   ]
  },
  {
   "cell_type": "code",
   "execution_count": null,
   "metadata": {},
   "outputs": [],
   "source": [
    "# %pip install -U fastgedcom\n",
    "%pip list | grep fastgedcom"
   ]
  },
  {
   "attachments": {},
   "cell_type": "markdown",
   "metadata": {},
   "source": [
    "## 2. Import Python functions"
   ]
  },
  {
   "cell_type": "code",
   "execution_count": null,
   "metadata": {},
   "outputs": [],
   "source": [
    "from fastgedcom.family_aid import FamilyAid\n",
    "from fastgedcom.base import FakeLine, is_true\n",
    "from fastgedcom.parser import guess_encoding, parse\n",
    "from fastgedcom.helpers import (\n",
    "    extract_int_year,\n",
    "    extract_year,\n",
    "    format_name\n",
    ")\n",
    "from plotly.express import histogram, violin\n",
    "from pandas import DataFrame, to_datetime\n",
    "import plotly.io as pio\n",
    "from numpy import timedelta64\n",
    "from datetime import datetime\n"
   ]
  },
  {
   "attachments": {},
   "cell_type": "markdown",
   "metadata": {},
   "source": [
    "## 3. Input Gedcom file"
   ]
  },
  {
   "cell_type": "code",
   "execution_count": null,
   "metadata": {},
   "outputs": [],
   "source": [
    "GEDCOM_FILE = \"/Users/vv/Downloads/VESSELINOV Family Tree-8.ged\""
   ]
  },
  {
   "attachments": {},
   "cell_type": "markdown",
   "metadata": {},
   "source": [
    "## 4. Load raw Gedcom file as a Dataframe"
   ]
  },
  {
   "cell_type": "code",
   "execution_count": null,
   "metadata": {},
   "outputs": [],
   "source": [
    "pio.templates.default = \"plotly_dark\"\n",
    "\n",
    "with open(GEDCOM_FILE, \"r\", encoding=guess_encoding(GEDCOM_FILE)) as f:\n",
    "    document, warnings = parse(f)\n",
    "\n",
    "if warnings:\n",
    "    print(\"Warnings: \", *warnings, sep=\"\\n\", end=\"---\\n\")\n",
    "\n",
    "# booster = FamilyAid(gedcom)\n",
    "# print(booster)\n",
    "rows = []\n",
    "\n",
    "for individual in document.get_records(\"INDI\"):\n",
    "    name = (document[individual.tag] > \"NAME\") >= \"GIVN\"\n",
    "    surname = (document[individual.tag] > \"NAME\") >= \"SURN\"\n",
    "    birth_date = (document[individual.tag] > \"BIRT\") >= \"DATE\"\n",
    "    birth_place = (document[individual.tag] > \"BIRT\") >= \"PLAC\"\n",
    "    death = is_true(document[individual.tag] > \"DEAT\")\n",
    "\n",
    "    death_date = (document[individual.tag] > \"DEAT\") >= \"DATE\"\n",
    "\n",
    "    rows.append(\n",
    "        {\n",
    "            \"FirstName\": name,\n",
    "            \"FamilyName\": surname.upper(),\n",
    "            \"Birthday\": birth_date,\n",
    "            \"Birthplace\": birth_place,\n",
    "            \"Deathday\": death_date,\n",
    "            \"Dead\": death,\n",
    "        }\n",
    "    )\n",
    "\n",
    "dtf = DataFrame.from_records(rows)\n",
    "dtf\n"
   ]
  },
  {
   "attachments": {},
   "cell_type": "markdown",
   "metadata": {},
   "source": [
    "## 5. Add extra computations of the raw data model"
   ]
  },
  {
   "cell_type": "code",
   "execution_count": null,
   "metadata": {},
   "outputs": [],
   "source": [
    "dtf[\"BirthDT\"] = to_datetime(dtf.Birthday, errors=\"coerce\", format=r\"%d %b %Y\")\n",
    "dtf[\"BirthDT2\"] = to_datetime(dtf.Birthday, errors=\"coerce\", format=r\"%Y\")\n",
    "dtf.BirthDT = dtf.BirthDT.fillna(dtf.BirthDT2)\n",
    "\n",
    "dtf[\"DeathDT\"] = to_datetime(dtf.Deathday, errors=\"coerce\", format=r\"%d %b %Y\")\n",
    "\n",
    "dtf[\"DeathDT2\"] = to_datetime(dtf.Deathday, errors=\"coerce\", format=r\"%Y\")\n",
    "dtf.DeathDT = dtf.DeathDT.fillna(dtf.DeathDT2)\n",
    "dtf.loc[dtf.Dead == False, \"DeathDT\"] = dtf.DeathDT.fillna(datetime.today())\n",
    "dtf[\"LiveDuration\"] = (dtf.DeathDT - dtf.BirthDT) / timedelta64(1, \"Y\")\n",
    "\n",
    "dtf[\"Name\"] = dtf.FirstName + \" \" + dtf.FamilyName\n",
    "dtf"
   ]
  },
  {
   "attachments": {},
   "cell_type": "markdown",
   "metadata": {},
   "source": [
    "## 6. Plot live expectation"
   ]
  },
  {
   "cell_type": "code",
   "execution_count": null,
   "metadata": {},
   "outputs": [],
   "source": [
    "fig = histogram(dtf.sort_values(\"LiveDuration\", ascending=False), y=\"LiveDuration\", x=\"Name\", color=\"Dead\")\n",
    "fig.write_html(\"FamilyLiveExpectationHistogram.html\")\n",
    "fig\n"
   ]
  },
  {
   "cell_type": "code",
   "execution_count": null,
   "metadata": {},
   "outputs": [],
   "source": [
    "fig = violin(dtf, y=\"LiveDuration\", color=\"Dead\")\n",
    "fig.write_html(\"FamilyLiveExpectationViolin.html\")\n",
    "fig\n"
   ]
  },
  {
   "cell_type": "code",
   "execution_count": null,
   "metadata": {},
   "outputs": [],
   "source": [
    "dtf2 = (\n",
    "    (\n",
    "        dtf[[\"Birthplace\"]]\n",
    "        .groupby([\"Birthplace\"])\n",
    "        .size()\n",
    "        .to_frame(\"Count\")\n",
    "        .sort_values(\"Count\", ascending=False)\n",
    "    )\n",
    "    .reset_index(drop=False)\n",
    "    .replace(\"\", \"Unknown\")\n",
    ")\n",
    "# print(dtf2)\n",
    "# dtf2\n",
    "fig = histogram(dtf2, y=\"Count\", x=\"Birthplace\", title=\"My family tree origins\")\n",
    "fig.write_html(\"OriginHistogram.html\")\n",
    "fig\n"
   ]
  }
 ],
 "metadata": {
  "kernelspec": {
   "display_name": "Python 3",
   "language": "python",
   "name": "python3"
  },
  "language_info": {
   "codemirror_mode": {
    "name": "ipython",
    "version": 3
   },
   "file_extension": ".py",
   "mimetype": "text/x-python",
   "name": "python",
   "nbconvert_exporter": "python",
   "pygments_lexer": "ipython3",
   "version": "3.11.3"
  },
  "orig_nbformat": 4
 },
 "nbformat": 4,
 "nbformat_minor": 2
}
